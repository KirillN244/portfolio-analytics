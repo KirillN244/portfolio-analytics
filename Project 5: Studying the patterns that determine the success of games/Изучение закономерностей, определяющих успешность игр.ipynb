{
 "cells": [
  {
   "cell_type": "markdown",
   "id": "3536a7c9",
   "metadata": {},
   "source": [
    "# Изучение закономерностей, определяющих успешность игр"
   ]
  },
  {
   "cell_type": "markdown",
   "id": "400e5757",
   "metadata": {},
   "source": [
    "### Описание проекта\n",
    "\n",
    "Вы работаете в интернет-магазине «Стримчик», который продаёт по всему миру компьютерные игры. Из открытых источников доступны исторические данные о продажах игр, оценки пользователей и экспертов, жанры и платформы (например, Xbox или PlayStation). Вам нужно выявить определяющие успешность игры закономерности. Это позволит сделать ставку на потенциально популярный продукт и спланировать рекламные кампании.\n",
    "\n",
    "Перед вами данные до 2016 года. Представим, что сейчас декабрь 2016 г., и вы планируете кампанию на 2017-й. Нужно отработать принцип работы с данными. Неважно, прогнозируете ли вы продажи на 2017 год по данным 2016-го или же 2027-й — по данным 2026 года.\n",
    "\n",
    "В наборе данных попадается аббревиатура ESRB (Entertainment Software Rating Board) — это ассоциация, определяющая возрастной рейтинг компьютерных игр. ESRB оценивает игровой контент и присваивает ему подходящую возрастную категорию, например, «Для взрослых», «Для детей младшего возраста» или «Для подростков».\n",
    "\n",
    "##### Описание столбцов\n",
    "\n",
    "Name — название игры\n",
    "\n",
    "Platform — платформа\n",
    "\n",
    "Year_of_Release — год выпуска\n",
    "\n",
    "Genre — жанр игры\n",
    "\n",
    "NA_sales — продажи в Северной Америке (миллионы проданных копий)\n",
    "\n",
    "EU_sales — продажи в Европе (миллионы проданных копий)\n",
    "\n",
    "JP_sales — продажи в Японии (миллионы проданных копий)\n",
    "\n",
    "Other_sales — продажи в других странах (миллионы проданных копий)\n",
    "\n",
    "Critic_Score — оценка критиков (максимум 100)\n",
    "\n",
    "User_Score — оценка пользователей (максимум 10)\n",
    "\n",
    "Rating — рейтинг от организации ESRB (англ. Entertainment Software Rating Board). Эта ассоциация определяет рейтинг компьютерных игр и присваивает им подходящую возрастную категорию.\n",
    "\n",
    "**Цель исследования:** \n",
    "Выявить определяющие успешность игры закономерности.\n",
    "\n",
    "**Ход исследования:**\n",
    "Данные о продажах игр я получу из файла '/datasets/games.csv'.\n",
    "Моё исследование пройдёт в 6 этапов:\n",
    "1. Обзор данных.\n",
    "\n",
    "2. Предобработка данных(заменю названия столбцов, обработаю пропуски, преобразую данные в нужные типы, обработаю явные и неявные дубликаты).\n",
    "\n",
    "3. Посчитаю суммарные продажи игр во всех регионах и запишу их в отдельный столбец.\n",
    "\n",
    "4. Проведу исследовательский анализ данных.\n",
    "\n",
    "5. Составлю портрет пользователя каждого региона.\n",
    "\n",
    "6. Проверю гипотезы о равенстве средних пользовательских рейтингов платформ Xbox One и PC и о различии средних пользовательских рейтингов жанров Action и Sports.\n",
    "\n",
    "7. Общий вывод."
   ]
  },
  {
   "cell_type": "markdown",
   "id": "d8c53cc1",
   "metadata": {},
   "source": [
    "### Обзор данных."
   ]
  },
  {
   "cell_type": "code",
   "execution_count": 1,
   "id": "d1c739cd",
   "metadata": {},
   "outputs": [
    {
     "name": "stderr",
     "output_type": "stream",
     "text": [
      "C:\\Users\\79156\\anaconda3\\lib\\site-packages\\scipy\\__init__.py:155: UserWarning: A NumPy version >=1.18.5 and <1.25.0 is required for this version of SciPy (detected version 1.25.0\n",
      "  warnings.warn(f\"A NumPy version >={np_minversion} and <{np_maxversion}\"\n"
     ]
    }
   ],
   "source": [
    "import pandas as pd\n",
    "import matplotlib.pyplot as plt\n",
    "import seaborn as sns\n",
    "import numpy as np\n",
    "from scipy import stats as st"
   ]
  },
  {
   "cell_type": "code",
   "execution_count": 2,
   "id": "1b9138e1",
   "metadata": {
    "scrolled": false
   },
   "outputs": [
    {
     "data": {
      "text/html": [
       "<div>\n",
       "<style scoped>\n",
       "    .dataframe tbody tr th:only-of-type {\n",
       "        vertical-align: middle;\n",
       "    }\n",
       "\n",
       "    .dataframe tbody tr th {\n",
       "        vertical-align: top;\n",
       "    }\n",
       "\n",
       "    .dataframe thead th {\n",
       "        text-align: right;\n",
       "    }\n",
       "</style>\n",
       "<table border=\"1\" class=\"dataframe\">\n",
       "  <thead>\n",
       "    <tr style=\"text-align: right;\">\n",
       "      <th></th>\n",
       "      <th>Name</th>\n",
       "      <th>Platform</th>\n",
       "      <th>Year_of_Release</th>\n",
       "      <th>Genre</th>\n",
       "      <th>NA_sales</th>\n",
       "      <th>EU_sales</th>\n",
       "      <th>JP_sales</th>\n",
       "      <th>Other_sales</th>\n",
       "      <th>Critic_Score</th>\n",
       "      <th>User_Score</th>\n",
       "      <th>Rating</th>\n",
       "    </tr>\n",
       "  </thead>\n",
       "  <tbody>\n",
       "    <tr>\n",
       "      <th>0</th>\n",
       "      <td>Wii Sports</td>\n",
       "      <td>Wii</td>\n",
       "      <td>2006.0</td>\n",
       "      <td>Sports</td>\n",
       "      <td>41.36</td>\n",
       "      <td>28.96</td>\n",
       "      <td>3.77</td>\n",
       "      <td>8.45</td>\n",
       "      <td>76.0</td>\n",
       "      <td>8</td>\n",
       "      <td>E</td>\n",
       "    </tr>\n",
       "    <tr>\n",
       "      <th>1</th>\n",
       "      <td>Super Mario Bros.</td>\n",
       "      <td>NES</td>\n",
       "      <td>1985.0</td>\n",
       "      <td>Platform</td>\n",
       "      <td>29.08</td>\n",
       "      <td>3.58</td>\n",
       "      <td>6.81</td>\n",
       "      <td>0.77</td>\n",
       "      <td>NaN</td>\n",
       "      <td>NaN</td>\n",
       "      <td>NaN</td>\n",
       "    </tr>\n",
       "    <tr>\n",
       "      <th>2</th>\n",
       "      <td>Mario Kart Wii</td>\n",
       "      <td>Wii</td>\n",
       "      <td>2008.0</td>\n",
       "      <td>Racing</td>\n",
       "      <td>15.68</td>\n",
       "      <td>12.76</td>\n",
       "      <td>3.79</td>\n",
       "      <td>3.29</td>\n",
       "      <td>82.0</td>\n",
       "      <td>8.3</td>\n",
       "      <td>E</td>\n",
       "    </tr>\n",
       "    <tr>\n",
       "      <th>3</th>\n",
       "      <td>Wii Sports Resort</td>\n",
       "      <td>Wii</td>\n",
       "      <td>2009.0</td>\n",
       "      <td>Sports</td>\n",
       "      <td>15.61</td>\n",
       "      <td>10.93</td>\n",
       "      <td>3.28</td>\n",
       "      <td>2.95</td>\n",
       "      <td>80.0</td>\n",
       "      <td>8</td>\n",
       "      <td>E</td>\n",
       "    </tr>\n",
       "    <tr>\n",
       "      <th>4</th>\n",
       "      <td>Pokemon Red/Pokemon Blue</td>\n",
       "      <td>GB</td>\n",
       "      <td>1996.0</td>\n",
       "      <td>Role-Playing</td>\n",
       "      <td>11.27</td>\n",
       "      <td>8.89</td>\n",
       "      <td>10.22</td>\n",
       "      <td>1.00</td>\n",
       "      <td>NaN</td>\n",
       "      <td>NaN</td>\n",
       "      <td>NaN</td>\n",
       "    </tr>\n",
       "    <tr>\n",
       "      <th>5</th>\n",
       "      <td>Tetris</td>\n",
       "      <td>GB</td>\n",
       "      <td>1989.0</td>\n",
       "      <td>Puzzle</td>\n",
       "      <td>23.20</td>\n",
       "      <td>2.26</td>\n",
       "      <td>4.22</td>\n",
       "      <td>0.58</td>\n",
       "      <td>NaN</td>\n",
       "      <td>NaN</td>\n",
       "      <td>NaN</td>\n",
       "    </tr>\n",
       "    <tr>\n",
       "      <th>6</th>\n",
       "      <td>New Super Mario Bros.</td>\n",
       "      <td>DS</td>\n",
       "      <td>2006.0</td>\n",
       "      <td>Platform</td>\n",
       "      <td>11.28</td>\n",
       "      <td>9.14</td>\n",
       "      <td>6.50</td>\n",
       "      <td>2.88</td>\n",
       "      <td>89.0</td>\n",
       "      <td>8.5</td>\n",
       "      <td>E</td>\n",
       "    </tr>\n",
       "    <tr>\n",
       "      <th>7</th>\n",
       "      <td>Wii Play</td>\n",
       "      <td>Wii</td>\n",
       "      <td>2006.0</td>\n",
       "      <td>Misc</td>\n",
       "      <td>13.96</td>\n",
       "      <td>9.18</td>\n",
       "      <td>2.93</td>\n",
       "      <td>2.84</td>\n",
       "      <td>58.0</td>\n",
       "      <td>6.6</td>\n",
       "      <td>E</td>\n",
       "    </tr>\n",
       "    <tr>\n",
       "      <th>8</th>\n",
       "      <td>New Super Mario Bros. Wii</td>\n",
       "      <td>Wii</td>\n",
       "      <td>2009.0</td>\n",
       "      <td>Platform</td>\n",
       "      <td>14.44</td>\n",
       "      <td>6.94</td>\n",
       "      <td>4.70</td>\n",
       "      <td>2.24</td>\n",
       "      <td>87.0</td>\n",
       "      <td>8.4</td>\n",
       "      <td>E</td>\n",
       "    </tr>\n",
       "    <tr>\n",
       "      <th>9</th>\n",
       "      <td>Duck Hunt</td>\n",
       "      <td>NES</td>\n",
       "      <td>1984.0</td>\n",
       "      <td>Shooter</td>\n",
       "      <td>26.93</td>\n",
       "      <td>0.63</td>\n",
       "      <td>0.28</td>\n",
       "      <td>0.47</td>\n",
       "      <td>NaN</td>\n",
       "      <td>NaN</td>\n",
       "      <td>NaN</td>\n",
       "    </tr>\n",
       "    <tr>\n",
       "      <th>10</th>\n",
       "      <td>Nintendogs</td>\n",
       "      <td>DS</td>\n",
       "      <td>2005.0</td>\n",
       "      <td>Simulation</td>\n",
       "      <td>9.05</td>\n",
       "      <td>10.95</td>\n",
       "      <td>1.93</td>\n",
       "      <td>2.74</td>\n",
       "      <td>NaN</td>\n",
       "      <td>NaN</td>\n",
       "      <td>NaN</td>\n",
       "    </tr>\n",
       "    <tr>\n",
       "      <th>11</th>\n",
       "      <td>Mario Kart DS</td>\n",
       "      <td>DS</td>\n",
       "      <td>2005.0</td>\n",
       "      <td>Racing</td>\n",
       "      <td>9.71</td>\n",
       "      <td>7.47</td>\n",
       "      <td>4.13</td>\n",
       "      <td>1.90</td>\n",
       "      <td>91.0</td>\n",
       "      <td>8.6</td>\n",
       "      <td>E</td>\n",
       "    </tr>\n",
       "    <tr>\n",
       "      <th>12</th>\n",
       "      <td>Pokemon Gold/Pokemon Silver</td>\n",
       "      <td>GB</td>\n",
       "      <td>1999.0</td>\n",
       "      <td>Role-Playing</td>\n",
       "      <td>9.00</td>\n",
       "      <td>6.18</td>\n",
       "      <td>7.20</td>\n",
       "      <td>0.71</td>\n",
       "      <td>NaN</td>\n",
       "      <td>NaN</td>\n",
       "      <td>NaN</td>\n",
       "    </tr>\n",
       "    <tr>\n",
       "      <th>13</th>\n",
       "      <td>Wii Fit</td>\n",
       "      <td>Wii</td>\n",
       "      <td>2007.0</td>\n",
       "      <td>Sports</td>\n",
       "      <td>8.92</td>\n",
       "      <td>8.03</td>\n",
       "      <td>3.60</td>\n",
       "      <td>2.15</td>\n",
       "      <td>80.0</td>\n",
       "      <td>7.7</td>\n",
       "      <td>E</td>\n",
       "    </tr>\n",
       "    <tr>\n",
       "      <th>14</th>\n",
       "      <td>Kinect Adventures!</td>\n",
       "      <td>X360</td>\n",
       "      <td>2010.0</td>\n",
       "      <td>Misc</td>\n",
       "      <td>15.00</td>\n",
       "      <td>4.89</td>\n",
       "      <td>0.24</td>\n",
       "      <td>1.69</td>\n",
       "      <td>61.0</td>\n",
       "      <td>6.3</td>\n",
       "      <td>E</td>\n",
       "    </tr>\n",
       "    <tr>\n",
       "      <th>15</th>\n",
       "      <td>Wii Fit Plus</td>\n",
       "      <td>Wii</td>\n",
       "      <td>2009.0</td>\n",
       "      <td>Sports</td>\n",
       "      <td>9.01</td>\n",
       "      <td>8.49</td>\n",
       "      <td>2.53</td>\n",
       "      <td>1.77</td>\n",
       "      <td>80.0</td>\n",
       "      <td>7.4</td>\n",
       "      <td>E</td>\n",
       "    </tr>\n",
       "    <tr>\n",
       "      <th>16</th>\n",
       "      <td>Grand Theft Auto V</td>\n",
       "      <td>PS3</td>\n",
       "      <td>2013.0</td>\n",
       "      <td>Action</td>\n",
       "      <td>7.02</td>\n",
       "      <td>9.09</td>\n",
       "      <td>0.98</td>\n",
       "      <td>3.96</td>\n",
       "      <td>97.0</td>\n",
       "      <td>8.2</td>\n",
       "      <td>M</td>\n",
       "    </tr>\n",
       "    <tr>\n",
       "      <th>17</th>\n",
       "      <td>Grand Theft Auto: San Andreas</td>\n",
       "      <td>PS2</td>\n",
       "      <td>2004.0</td>\n",
       "      <td>Action</td>\n",
       "      <td>9.43</td>\n",
       "      <td>0.40</td>\n",
       "      <td>0.41</td>\n",
       "      <td>10.57</td>\n",
       "      <td>95.0</td>\n",
       "      <td>9</td>\n",
       "      <td>M</td>\n",
       "    </tr>\n",
       "    <tr>\n",
       "      <th>18</th>\n",
       "      <td>Super Mario World</td>\n",
       "      <td>SNES</td>\n",
       "      <td>1990.0</td>\n",
       "      <td>Platform</td>\n",
       "      <td>12.78</td>\n",
       "      <td>3.75</td>\n",
       "      <td>3.54</td>\n",
       "      <td>0.55</td>\n",
       "      <td>NaN</td>\n",
       "      <td>NaN</td>\n",
       "      <td>NaN</td>\n",
       "    </tr>\n",
       "    <tr>\n",
       "      <th>19</th>\n",
       "      <td>Brain Age: Train Your Brain in Minutes a Day</td>\n",
       "      <td>DS</td>\n",
       "      <td>2005.0</td>\n",
       "      <td>Misc</td>\n",
       "      <td>4.74</td>\n",
       "      <td>9.20</td>\n",
       "      <td>4.16</td>\n",
       "      <td>2.04</td>\n",
       "      <td>77.0</td>\n",
       "      <td>7.9</td>\n",
       "      <td>E</td>\n",
       "    </tr>\n",
       "  </tbody>\n",
       "</table>\n",
       "</div>"
      ],
      "text/plain": [
       "                                            Name Platform  Year_of_Release  \\\n",
       "0                                     Wii Sports      Wii           2006.0   \n",
       "1                              Super Mario Bros.      NES           1985.0   \n",
       "2                                 Mario Kart Wii      Wii           2008.0   \n",
       "3                              Wii Sports Resort      Wii           2009.0   \n",
       "4                       Pokemon Red/Pokemon Blue       GB           1996.0   \n",
       "5                                         Tetris       GB           1989.0   \n",
       "6                          New Super Mario Bros.       DS           2006.0   \n",
       "7                                       Wii Play      Wii           2006.0   \n",
       "8                      New Super Mario Bros. Wii      Wii           2009.0   \n",
       "9                                      Duck Hunt      NES           1984.0   \n",
       "10                                    Nintendogs       DS           2005.0   \n",
       "11                                 Mario Kart DS       DS           2005.0   \n",
       "12                   Pokemon Gold/Pokemon Silver       GB           1999.0   \n",
       "13                                       Wii Fit      Wii           2007.0   \n",
       "14                            Kinect Adventures!     X360           2010.0   \n",
       "15                                  Wii Fit Plus      Wii           2009.0   \n",
       "16                            Grand Theft Auto V      PS3           2013.0   \n",
       "17                 Grand Theft Auto: San Andreas      PS2           2004.0   \n",
       "18                             Super Mario World     SNES           1990.0   \n",
       "19  Brain Age: Train Your Brain in Minutes a Day       DS           2005.0   \n",
       "\n",
       "           Genre  NA_sales  EU_sales  JP_sales  Other_sales  Critic_Score  \\\n",
       "0         Sports     41.36     28.96      3.77         8.45          76.0   \n",
       "1       Platform     29.08      3.58      6.81         0.77           NaN   \n",
       "2         Racing     15.68     12.76      3.79         3.29          82.0   \n",
       "3         Sports     15.61     10.93      3.28         2.95          80.0   \n",
       "4   Role-Playing     11.27      8.89     10.22         1.00           NaN   \n",
       "5         Puzzle     23.20      2.26      4.22         0.58           NaN   \n",
       "6       Platform     11.28      9.14      6.50         2.88          89.0   \n",
       "7           Misc     13.96      9.18      2.93         2.84          58.0   \n",
       "8       Platform     14.44      6.94      4.70         2.24          87.0   \n",
       "9        Shooter     26.93      0.63      0.28         0.47           NaN   \n",
       "10    Simulation      9.05     10.95      1.93         2.74           NaN   \n",
       "11        Racing      9.71      7.47      4.13         1.90          91.0   \n",
       "12  Role-Playing      9.00      6.18      7.20         0.71           NaN   \n",
       "13        Sports      8.92      8.03      3.60         2.15          80.0   \n",
       "14          Misc     15.00      4.89      0.24         1.69          61.0   \n",
       "15        Sports      9.01      8.49      2.53         1.77          80.0   \n",
       "16        Action      7.02      9.09      0.98         3.96          97.0   \n",
       "17        Action      9.43      0.40      0.41        10.57          95.0   \n",
       "18      Platform     12.78      3.75      3.54         0.55           NaN   \n",
       "19          Misc      4.74      9.20      4.16         2.04          77.0   \n",
       "\n",
       "   User_Score Rating  \n",
       "0           8      E  \n",
       "1         NaN    NaN  \n",
       "2         8.3      E  \n",
       "3           8      E  \n",
       "4         NaN    NaN  \n",
       "5         NaN    NaN  \n",
       "6         8.5      E  \n",
       "7         6.6      E  \n",
       "8         8.4      E  \n",
       "9         NaN    NaN  \n",
       "10        NaN    NaN  \n",
       "11        8.6      E  \n",
       "12        NaN    NaN  \n",
       "13        7.7      E  \n",
       "14        6.3      E  \n",
       "15        7.4      E  \n",
       "16        8.2      M  \n",
       "17          9      M  \n",
       "18        NaN    NaN  \n",
       "19        7.9      E  "
      ]
     },
     "execution_count": 2,
     "metadata": {},
     "output_type": "execute_result"
    }
   ],
   "source": [
    "try:\n",
    "    data = pd.read_csv('/datasets/games.csv')\n",
    "except:\n",
    "    data = pd.read_csv('games.csv')\n",
    "data.head(20)"
   ]
  },
  {
   "cell_type": "code",
   "execution_count": 3,
   "id": "4fc33acb",
   "metadata": {},
   "outputs": [
    {
     "name": "stdout",
     "output_type": "stream",
     "text": [
      "<class 'pandas.core.frame.DataFrame'>\n",
      "RangeIndex: 16715 entries, 0 to 16714\n",
      "Data columns (total 11 columns):\n",
      " #   Column           Non-Null Count  Dtype  \n",
      "---  ------           --------------  -----  \n",
      " 0   Name             16713 non-null  object \n",
      " 1   Platform         16715 non-null  object \n",
      " 2   Year_of_Release  16446 non-null  float64\n",
      " 3   Genre            16713 non-null  object \n",
      " 4   NA_sales         16715 non-null  float64\n",
      " 5   EU_sales         16715 non-null  float64\n",
      " 6   JP_sales         16715 non-null  float64\n",
      " 7   Other_sales      16715 non-null  float64\n",
      " 8   Critic_Score     8137 non-null   float64\n",
      " 9   User_Score       10014 non-null  object \n",
      " 10  Rating           9949 non-null   object \n",
      "dtypes: float64(6), object(5)\n",
      "memory usage: 1.4+ MB\n"
     ]
    }
   ],
   "source": [
    "data.info()"
   ]
  },
  {
   "cell_type": "code",
   "execution_count": 4,
   "id": "49f29192",
   "metadata": {},
   "outputs": [
    {
     "data": {
      "text/plain": [
       "Name                  2\n",
       "Platform              0\n",
       "Year_of_Release     269\n",
       "Genre                 2\n",
       "NA_sales              0\n",
       "EU_sales              0\n",
       "JP_sales              0\n",
       "Other_sales           0\n",
       "Critic_Score       8578\n",
       "User_Score         6701\n",
       "Rating             6766\n",
       "dtype: int64"
      ]
     },
     "execution_count": 4,
     "metadata": {},
     "output_type": "execute_result"
    }
   ],
   "source": [
    "data.isna().sum()"
   ]
  },
  {
   "cell_type": "code",
   "execution_count": 5,
   "id": "62f6ac36",
   "metadata": {},
   "outputs": [
    {
     "data": {
      "text/plain": [
       "0"
      ]
     },
     "execution_count": 5,
     "metadata": {},
     "output_type": "execute_result"
    }
   ],
   "source": [
    "data.duplicated().sum()"
   ]
  },
  {
   "cell_type": "code",
   "execution_count": 6,
   "id": "cb03baac",
   "metadata": {},
   "outputs": [
    {
     "data": {
      "image/png": "[encoded data removed]",
      "text/plain": [
       "<Figure size 1500x2000 with 6 Axes>"
      ]
     },
     "metadata": {},
     "output_type": "display_data"
    }
   ],
   "source": [
    "data.hist(figsize=(15, 20));"
   ]
  },
  {
   "cell_type": "markdown",
   "id": "c86aed23",
   "metadata": {},
   "source": [
    "Ознакомился с данными. В датасете 11 столбцов и 16715 строк. \n",
    "\n",
    "Есть столбцы с пропусками. В столбце Name 2 пропучка, в Year_of_Release 269 пропускрв, в Critic_Score 8578 пропусков, в User_Score 6701 пропусков, в Rating 6766 пропусков. \n",
    "\n",
    "Явных дубликатов в данных нет.\n",
    "\n",
    "По гистограмме столбца Year_of_Release сразу можно увидеть, что активный рост количества выпуска игр начался примерно в 1992 год и был примерно до 2011 года, но к 2016 рост сократился."
   ]
  },
  {
   "cell_type": "markdown",
   "id": "b4b6a51a",
   "metadata": {},
   "source": [
    "### Предобработка данных."
   ]
  },
  {
   "cell_type": "markdown",
   "id": "d4552dbd",
   "metadata": {},
   "source": [
    "Приведём название колонок к нижнему регистру."
   ]
  },
  {
   "cell_type": "code",
   "execution_count": 7,
   "id": "a3a2e4ec",
   "metadata": {},
   "outputs": [],
   "source": [
    "data.columns = data.columns.str.lower()"
   ]
  },
  {
   "cell_type": "code",
   "execution_count": 8,
   "id": "1d9cccb9",
   "metadata": {},
   "outputs": [
    {
     "data": {
      "text/plain": [
       "name                  2\n",
       "platform              0\n",
       "year_of_release     269\n",
       "genre                 2\n",
       "na_sales              0\n",
       "eu_sales              0\n",
       "jp_sales              0\n",
       "other_sales           0\n",
       "critic_score       8578\n",
       "user_score         6701\n",
       "rating             6766\n",
       "dtype: int64"
      ]
     },
     "execution_count": 8,
     "metadata": {},
     "output_type": "execute_result"
    }
   ],
   "source": [
    "data.isna().sum()"
   ]
  },
  {
   "cell_type": "code",
   "execution_count": 9,
   "id": "785631d3",
   "metadata": {
    "scrolled": true
   },
   "outputs": [
    {
     "data": {
      "text/html": [
       "<div>\n",
       "<style scoped>\n",
       "    .dataframe tbody tr th:only-of-type {\n",
       "        vertical-align: middle;\n",
       "    }\n",
       "\n",
       "    .dataframe tbody tr th {\n",
       "        vertical-align: top;\n",
       "    }\n",
       "\n",
       "    .dataframe thead th {\n",
       "        text-align: right;\n",
       "    }\n",
       "</style>\n",
       "<table border=\"1\" class=\"dataframe\">\n",
       "  <thead>\n",
       "    <tr style=\"text-align: right;\">\n",
       "      <th></th>\n",
       "      <th>name</th>\n",
       "      <th>platform</th>\n",
       "      <th>year_of_release</th>\n",
       "      <th>genre</th>\n",
       "      <th>na_sales</th>\n",
       "      <th>eu_sales</th>\n",
       "      <th>jp_sales</th>\n",
       "      <th>other_sales</th>\n",
       "      <th>critic_score</th>\n",
       "      <th>user_score</th>\n",
       "      <th>rating</th>\n",
       "    </tr>\n",
       "  </thead>\n",
       "  <tbody>\n",
       "    <tr>\n",
       "      <th>659</th>\n",
       "      <td>NaN</td>\n",
       "      <td>GEN</td>\n",
       "      <td>1993.0</td>\n",
       "      <td>NaN</td>\n",
       "      <td>1.78</td>\n",
       "      <td>0.53</td>\n",
       "      <td>0.00</td>\n",
       "      <td>0.08</td>\n",
       "      <td>NaN</td>\n",
       "      <td>NaN</td>\n",
       "      <td>NaN</td>\n",
       "    </tr>\n",
       "    <tr>\n",
       "      <th>14244</th>\n",
       "      <td>NaN</td>\n",
       "      <td>GEN</td>\n",
       "      <td>1993.0</td>\n",
       "      <td>NaN</td>\n",
       "      <td>0.00</td>\n",
       "      <td>0.00</td>\n",
       "      <td>0.03</td>\n",
       "      <td>0.00</td>\n",
       "      <td>NaN</td>\n",
       "      <td>NaN</td>\n",
       "      <td>NaN</td>\n",
       "    </tr>\n",
       "  </tbody>\n",
       "</table>\n",
       "</div>"
      ],
      "text/plain": [
       "      name platform  year_of_release genre  na_sales  eu_sales  jp_sales  \\\n",
       "659    NaN      GEN           1993.0   NaN      1.78      0.53      0.00   \n",
       "14244  NaN      GEN           1993.0   NaN      0.00      0.00      0.03   \n",
       "\n",
       "       other_sales  critic_score user_score rating  \n",
       "659           0.08           NaN        NaN    NaN  \n",
       "14244         0.00           NaN        NaN    NaN  "
      ]
     },
     "execution_count": 9,
     "metadata": {},
     "output_type": "execute_result"
    }
   ],
   "source": [
    "data[data['name'].isna()].head()"
   ]
  },
  {
   "cell_type": "markdown",
   "id": "01e28506",
   "metadata": {},
   "source": [
    "Удалим строки с пропусками в столбце name, так как их только 2, не повлияет на анализ."
   ]
  },
  {
   "cell_type": "code",
   "execution_count": 10,
   "id": "c0a6d9a2",
   "metadata": {},
   "outputs": [],
   "source": [
    "data = data.dropna(subset = ['name'])"
   ]
  },
  {
   "cell_type": "code",
   "execution_count": 11,
   "id": "b6815b3a",
   "metadata": {
    "scrolled": true
   },
   "outputs": [
    {
     "data": {
      "text/html": [
       "<div>\n",
       "<style scoped>\n",
       "    .dataframe tbody tr th:only-of-type {\n",
       "        vertical-align: middle;\n",
       "    }\n",
       "\n",
       "    .dataframe tbody tr th {\n",
       "        vertical-align: top;\n",
       "    }\n",
       "\n",
       "    .dataframe thead th {\n",
       "        text-align: right;\n",
       "    }\n",
       "</style>\n",
       "<table border=\"1\" class=\"dataframe\">\n",
       "  <thead>\n",
       "    <tr style=\"text-align: right;\">\n",
       "      <th></th>\n",
       "      <th>name</th>\n",
       "      <th>platform</th>\n",
       "      <th>year_of_release</th>\n",
       "      <th>genre</th>\n",
       "      <th>na_sales</th>\n",
       "      <th>eu_sales</th>\n",
       "      <th>jp_sales</th>\n",
       "      <th>other_sales</th>\n",
       "      <th>critic_score</th>\n",
       "      <th>user_score</th>\n",
       "      <th>rating</th>\n",
       "    </tr>\n",
       "  </thead>\n",
       "  <tbody>\n",
       "    <tr>\n",
       "      <th>183</th>\n",
       "      <td>Madden NFL 2004</td>\n",
       "      <td>PS2</td>\n",
       "      <td>NaN</td>\n",
       "      <td>Sports</td>\n",
       "      <td>4.26</td>\n",
       "      <td>0.26</td>\n",
       "      <td>0.01</td>\n",
       "      <td>0.71</td>\n",
       "      <td>94.0</td>\n",
       "      <td>8.5</td>\n",
       "      <td>E</td>\n",
       "    </tr>\n",
       "    <tr>\n",
       "      <th>377</th>\n",
       "      <td>FIFA Soccer 2004</td>\n",
       "      <td>PS2</td>\n",
       "      <td>NaN</td>\n",
       "      <td>Sports</td>\n",
       "      <td>0.59</td>\n",
       "      <td>2.36</td>\n",
       "      <td>0.04</td>\n",
       "      <td>0.51</td>\n",
       "      <td>84.0</td>\n",
       "      <td>6.4</td>\n",
       "      <td>E</td>\n",
       "    </tr>\n",
       "    <tr>\n",
       "      <th>456</th>\n",
       "      <td>LEGO Batman: The Videogame</td>\n",
       "      <td>Wii</td>\n",
       "      <td>NaN</td>\n",
       "      <td>Action</td>\n",
       "      <td>1.80</td>\n",
       "      <td>0.97</td>\n",
       "      <td>0.00</td>\n",
       "      <td>0.29</td>\n",
       "      <td>74.0</td>\n",
       "      <td>7.9</td>\n",
       "      <td>E10+</td>\n",
       "    </tr>\n",
       "    <tr>\n",
       "      <th>475</th>\n",
       "      <td>wwe Smackdown vs. Raw 2006</td>\n",
       "      <td>PS2</td>\n",
       "      <td>NaN</td>\n",
       "      <td>Fighting</td>\n",
       "      <td>1.57</td>\n",
       "      <td>1.02</td>\n",
       "      <td>0.00</td>\n",
       "      <td>0.41</td>\n",
       "      <td>NaN</td>\n",
       "      <td>NaN</td>\n",
       "      <td>NaN</td>\n",
       "    </tr>\n",
       "    <tr>\n",
       "      <th>609</th>\n",
       "      <td>Space Invaders</td>\n",
       "      <td>2600</td>\n",
       "      <td>NaN</td>\n",
       "      <td>Shooter</td>\n",
       "      <td>2.36</td>\n",
       "      <td>0.14</td>\n",
       "      <td>0.00</td>\n",
       "      <td>0.03</td>\n",
       "      <td>NaN</td>\n",
       "      <td>NaN</td>\n",
       "      <td>NaN</td>\n",
       "    </tr>\n",
       "  </tbody>\n",
       "</table>\n",
       "</div>"
      ],
      "text/plain": [
       "                           name platform  year_of_release     genre  na_sales  \\\n",
       "183             Madden NFL 2004      PS2              NaN    Sports      4.26   \n",
       "377            FIFA Soccer 2004      PS2              NaN    Sports      0.59   \n",
       "456  LEGO Batman: The Videogame      Wii              NaN    Action      1.80   \n",
       "475  wwe Smackdown vs. Raw 2006      PS2              NaN  Fighting      1.57   \n",
       "609              Space Invaders     2600              NaN   Shooter      2.36   \n",
       "\n",
       "     eu_sales  jp_sales  other_sales  critic_score user_score rating  \n",
       "183      0.26      0.01         0.71          94.0        8.5      E  \n",
       "377      2.36      0.04         0.51          84.0        6.4      E  \n",
       "456      0.97      0.00         0.29          74.0        7.9   E10+  \n",
       "475      1.02      0.00         0.41           NaN        NaN    NaN  \n",
       "609      0.14      0.00         0.03           NaN        NaN    NaN  "
      ]
     },
     "execution_count": 11,
     "metadata": {},
     "output_type": "execute_result"
    }
   ],
   "source": [
    "data[data['year_of_release'].isna()].head()"
   ]
  },
  {
   "cell_type": "markdown",
   "id": "d3254590",
   "metadata": {},
   "source": [
    "Удалим строки с пропусками в столбце year_of_release, так как их только 269, не повлияет на анализ."
   ]
  },
  {
   "cell_type": "code",
   "execution_count": 12,
   "id": "0eb74886",
   "metadata": {},
   "outputs": [],
   "source": [
    "data = data.dropna(subset = ['year_of_release'])"
   ]
  },
  {
   "cell_type": "code",
   "execution_count": 13,
   "id": "cba824aa",
   "metadata": {},
   "outputs": [
    {
     "data": {
      "text/html": [
       "<div>\n",
       "<style scoped>\n",
       "    .dataframe tbody tr th:only-of-type {\n",
       "        vertical-align: middle;\n",
       "    }\n",
       "\n",
       "    .dataframe tbody tr th {\n",
       "        vertical-align: top;\n",
       "    }\n",
       "\n",
       "    .dataframe thead th {\n",
       "        text-align: right;\n",
       "    }\n",
       "</style>\n",
       "<table border=\"1\" class=\"dataframe\">\n",
       "  <thead>\n",
       "    <tr style=\"text-align: right;\">\n",
       "      <th></th>\n",
       "      <th>name</th>\n",
       "      <th>platform</th>\n",
       "      <th>year_of_release</th>\n",
       "      <th>genre</th>\n",
       "      <th>na_sales</th>\n",
       "      <th>eu_sales</th>\n",
       "      <th>jp_sales</th>\n",
       "      <th>other_sales</th>\n",
       "      <th>critic_score</th>\n",
       "      <th>user_score</th>\n",
       "      <th>rating</th>\n",
       "    </tr>\n",
       "  </thead>\n",
       "  <tbody>\n",
       "  </tbody>\n",
       "</table>\n",
       "</div>"
      ],
      "text/plain": [
       "Empty DataFrame\n",
       "Columns: [name, platform, year_of_release, genre, na_sales, eu_sales, jp_sales, other_sales, critic_score, user_score, rating]\n",
       "Index: []"
      ]
     },
     "execution_count": 13,
     "metadata": {},
     "output_type": "execute_result"
    }
   ],
   "source": [
    "data[data['genre'].isna()].head()"
   ]
  },
  {
   "cell_type": "markdown",
   "id": "72a7a638",
   "metadata": {},
   "source": [
    "Удалим строки с пропусками в столбце genre, так как их только 2, не повлияет на анализ."
   ]
  },
  {
   "cell_type": "code",
   "execution_count": 14,
   "id": "c3379347",
   "metadata": {},
   "outputs": [],
   "source": [
    "data = data.dropna(subset = ['genre'])"
   ]
  },
  {
   "cell_type": "code",
   "execution_count": 15,
   "id": "be4e927d",
   "metadata": {
    "scrolled": true
   },
   "outputs": [
    {
     "data": {
      "text/html": [
       "<div>\n",
       "<style scoped>\n",
       "    .dataframe tbody tr th:only-of-type {\n",
       "        vertical-align: middle;\n",
       "    }\n",
       "\n",
       "    .dataframe tbody tr th {\n",
       "        vertical-align: top;\n",
       "    }\n",
       "\n",
       "    .dataframe thead th {\n",
       "        text-align: right;\n",
       "    }\n",
       "</style>\n",
       "<table border=\"1\" class=\"dataframe\">\n",
       "  <thead>\n",
       "    <tr style=\"text-align: right;\">\n",
       "      <th></th>\n",
       "      <th>name</th>\n",
       "      <th>platform</th>\n",
       "      <th>year_of_release</th>\n",
       "      <th>genre</th>\n",
       "      <th>na_sales</th>\n",
       "      <th>eu_sales</th>\n",
       "      <th>jp_sales</th>\n",
       "      <th>other_sales</th>\n",
       "      <th>critic_score</th>\n",
       "      <th>user_score</th>\n",
       "      <th>rating</th>\n",
       "    </tr>\n",
       "  </thead>\n",
       "  <tbody>\n",
       "    <tr>\n",
       "      <th>1</th>\n",
       "      <td>Super Mario Bros.</td>\n",
       "      <td>NES</td>\n",
       "      <td>1985.0</td>\n",
       "      <td>Platform</td>\n",
       "      <td>29.08</td>\n",
       "      <td>3.58</td>\n",
       "      <td>6.81</td>\n",
       "      <td>0.77</td>\n",
       "      <td>NaN</td>\n",
       "      <td>NaN</td>\n",
       "      <td>NaN</td>\n",
       "    </tr>\n",
       "    <tr>\n",
       "      <th>4</th>\n",
       "      <td>Pokemon Red/Pokemon Blue</td>\n",
       "      <td>GB</td>\n",
       "      <td>1996.0</td>\n",
       "      <td>Role-Playing</td>\n",
       "      <td>11.27</td>\n",
       "      <td>8.89</td>\n",
       "      <td>10.22</td>\n",
       "      <td>1.00</td>\n",
       "      <td>NaN</td>\n",
       "      <td>NaN</td>\n",
       "      <td>NaN</td>\n",
       "    </tr>\n",
       "    <tr>\n",
       "      <th>5</th>\n",
       "      <td>Tetris</td>\n",
       "      <td>GB</td>\n",
       "      <td>1989.0</td>\n",
       "      <td>Puzzle</td>\n",
       "      <td>23.20</td>\n",
       "      <td>2.26</td>\n",
       "      <td>4.22</td>\n",
       "      <td>0.58</td>\n",
       "      <td>NaN</td>\n",
       "      <td>NaN</td>\n",
       "      <td>NaN</td>\n",
       "    </tr>\n",
       "    <tr>\n",
       "      <th>9</th>\n",
       "      <td>Duck Hunt</td>\n",
       "      <td>NES</td>\n",
       "      <td>1984.0</td>\n",
       "      <td>Shooter</td>\n",
       "      <td>26.93</td>\n",
       "      <td>0.63</td>\n",
       "      <td>0.28</td>\n",
       "      <td>0.47</td>\n",
       "      <td>NaN</td>\n",
       "      <td>NaN</td>\n",
       "      <td>NaN</td>\n",
       "    </tr>\n",
       "    <tr>\n",
       "      <th>10</th>\n",
       "      <td>Nintendogs</td>\n",
       "      <td>DS</td>\n",
       "      <td>2005.0</td>\n",
       "      <td>Simulation</td>\n",
       "      <td>9.05</td>\n",
       "      <td>10.95</td>\n",
       "      <td>1.93</td>\n",
       "      <td>2.74</td>\n",
       "      <td>NaN</td>\n",
       "      <td>NaN</td>\n",
       "      <td>NaN</td>\n",
       "    </tr>\n",
       "  </tbody>\n",
       "</table>\n",
       "</div>"
      ],
      "text/plain": [
       "                        name platform  year_of_release         genre  \\\n",
       "1          Super Mario Bros.      NES           1985.0      Platform   \n",
       "4   Pokemon Red/Pokemon Blue       GB           1996.0  Role-Playing   \n",
       "5                     Tetris       GB           1989.0        Puzzle   \n",
       "9                  Duck Hunt      NES           1984.0       Shooter   \n",
       "10                Nintendogs       DS           2005.0    Simulation   \n",
       "\n",
       "    na_sales  eu_sales  jp_sales  other_sales  critic_score user_score rating  \n",
       "1      29.08      3.58      6.81         0.77           NaN        NaN    NaN  \n",
       "4      11.27      8.89     10.22         1.00           NaN        NaN    NaN  \n",
       "5      23.20      2.26      4.22         0.58           NaN        NaN    NaN  \n",
       "9      26.93      0.63      0.28         0.47           NaN        NaN    NaN  \n",
       "10      9.05     10.95      1.93         2.74           NaN        NaN    NaN  "
      ]
     },
     "execution_count": 15,
     "metadata": {},
     "output_type": "execute_result"
    }
   ],
   "source": [
    "data[data['critic_score'].isna()].head()"
   ]
  },
  {
   "cell_type": "markdown",
   "id": "1afd901c",
   "metadata": {},
   "source": [
    "В столбце critic_score пропусков 8578, не будем удалять и заменять их, так как результат анализа может исказиться."
   ]
  },
  {
   "cell_type": "code",
   "execution_count": 16,
   "id": "7190efde",
   "metadata": {},
   "outputs": [
    {
     "data": {
      "text/html": [
       "<div>\n",
       "<style scoped>\n",
       "    .dataframe tbody tr th:only-of-type {\n",
       "        vertical-align: middle;\n",
       "    }\n",
       "\n",
       "    .dataframe tbody tr th {\n",
       "        vertical-align: top;\n",
       "    }\n",
       "\n",
       "    .dataframe thead th {\n",
       "        text-align: right;\n",
       "    }\n",
       "</style>\n",
       "<table border=\"1\" class=\"dataframe\">\n",
       "  <thead>\n",
       "    <tr style=\"text-align: right;\">\n",
       "      <th></th>\n",
       "      <th>name</th>\n",
       "      <th>platform</th>\n",
       "      <th>year_of_release</th>\n",
       "      <th>genre</th>\n",
       "      <th>na_sales</th>\n",
       "      <th>eu_sales</th>\n",
       "      <th>jp_sales</th>\n",
       "      <th>other_sales</th>\n",
       "      <th>critic_score</th>\n",
       "      <th>user_score</th>\n",
       "      <th>rating</th>\n",
       "    </tr>\n",
       "  </thead>\n",
       "  <tbody>\n",
       "    <tr>\n",
       "      <th>1</th>\n",
       "      <td>Super Mario Bros.</td>\n",
       "      <td>NES</td>\n",
       "      <td>1985.0</td>\n",
       "      <td>Platform</td>\n",
       "      <td>29.08</td>\n",
       "      <td>3.58</td>\n",
       "      <td>6.81</td>\n",
       "      <td>0.77</td>\n",
       "      <td>NaN</td>\n",
       "      <td>NaN</td>\n",
       "      <td>NaN</td>\n",
       "    </tr>\n",
       "    <tr>\n",
       "      <th>4</th>\n",
       "      <td>Pokemon Red/Pokemon Blue</td>\n",
       "      <td>GB</td>\n",
       "      <td>1996.0</td>\n",
       "      <td>Role-Playing</td>\n",
       "      <td>11.27</td>\n",
       "      <td>8.89</td>\n",
       "      <td>10.22</td>\n",
       "      <td>1.00</td>\n",
       "      <td>NaN</td>\n",
       "      <td>NaN</td>\n",
       "      <td>NaN</td>\n",
       "    </tr>\n",
       "    <tr>\n",
       "      <th>5</th>\n",
       "      <td>Tetris</td>\n",
       "      <td>GB</td>\n",
       "      <td>1989.0</td>\n",
       "      <td>Puzzle</td>\n",
       "      <td>23.20</td>\n",
       "      <td>2.26</td>\n",
       "      <td>4.22</td>\n",
       "      <td>0.58</td>\n",
       "      <td>NaN</td>\n",
       "      <td>NaN</td>\n",
       "      <td>NaN</td>\n",
       "    </tr>\n",
       "    <tr>\n",
       "      <th>9</th>\n",
       "      <td>Duck Hunt</td>\n",
       "      <td>NES</td>\n",
       "      <td>1984.0</td>\n",
       "      <td>Shooter</td>\n",
       "      <td>26.93</td>\n",
       "      <td>0.63</td>\n",
       "      <td>0.28</td>\n",
       "      <td>0.47</td>\n",
       "      <td>NaN</td>\n",
       "      <td>NaN</td>\n",
       "      <td>NaN</td>\n",
       "    </tr>\n",
       "    <tr>\n",
       "      <th>10</th>\n",
       "      <td>Nintendogs</td>\n",
       "      <td>DS</td>\n",
       "      <td>2005.0</td>\n",
       "      <td>Simulation</td>\n",
       "      <td>9.05</td>\n",
       "      <td>10.95</td>\n",
       "      <td>1.93</td>\n",
       "      <td>2.74</td>\n",
       "      <td>NaN</td>\n",
       "      <td>NaN</td>\n",
       "      <td>NaN</td>\n",
       "    </tr>\n",
       "  </tbody>\n",
       "</table>\n",
       "</div>"
      ],
      "text/plain": [
       "                        name platform  year_of_release         genre  \\\n",
       "1          Super Mario Bros.      NES           1985.0      Platform   \n",
       "4   Pokemon Red/Pokemon Blue       GB           1996.0  Role-Playing   \n",
       "5                     Tetris       GB           1989.0        Puzzle   \n",
       "9                  Duck Hunt      NES           1984.0       Shooter   \n",
       "10                Nintendogs       DS           2005.0    Simulation   \n",
       "\n",
       "    na_sales  eu_sales  jp_sales  other_sales  critic_score user_score rating  \n",
       "1      29.08      3.58      6.81         0.77           NaN        NaN    NaN  \n",
       "4      11.27      8.89     10.22         1.00           NaN        NaN    NaN  \n",
       "5      23.20      2.26      4.22         0.58           NaN        NaN    NaN  \n",
       "9      26.93      0.63      0.28         0.47           NaN        NaN    NaN  \n",
       "10      9.05     10.95      1.93         2.74           NaN        NaN    NaN  "
      ]
     },
     "execution_count": 16,
     "metadata": {},
     "output_type": "execute_result"
    }
   ],
   "source": [
    "data[data['user_score'].isna()].head()"
   ]
  },
  {
   "cell_type": "code",
   "execution_count": 17,
   "id": "bca287fc",
   "metadata": {
    "scrolled": false
   },
   "outputs": [
    {
     "data": {
      "text/html": [
       "<div>\n",
       "<style scoped>\n",
       "    .dataframe tbody tr th:only-of-type {\n",
       "        vertical-align: middle;\n",
       "    }\n",
       "\n",
       "    .dataframe tbody tr th {\n",
       "        vertical-align: top;\n",
       "    }\n",
       "\n",
       "    .dataframe thead th {\n",
       "        text-align: right;\n",
       "    }\n",
       "</style>\n",
       "<table border=\"1\" class=\"dataframe\">\n",
       "  <thead>\n",
       "    <tr style=\"text-align: right;\">\n",
       "      <th></th>\n",
       "      <th>name</th>\n",
       "      <th>platform</th>\n",
       "      <th>year_of_release</th>\n",
       "      <th>genre</th>\n",
       "      <th>na_sales</th>\n",
       "      <th>eu_sales</th>\n",
       "      <th>jp_sales</th>\n",
       "      <th>other_sales</th>\n",
       "      <th>critic_score</th>\n",
       "      <th>user_score</th>\n",
       "      <th>rating</th>\n",
       "    </tr>\n",
       "  </thead>\n",
       "  <tbody>\n",
       "    <tr>\n",
       "      <th>119</th>\n",
       "      <td>Zumba Fitness</td>\n",
       "      <td>Wii</td>\n",
       "      <td>2010.0</td>\n",
       "      <td>Sports</td>\n",
       "      <td>3.45</td>\n",
       "      <td>2.59</td>\n",
       "      <td>0.0</td>\n",
       "      <td>0.66</td>\n",
       "      <td>NaN</td>\n",
       "      <td>tbd</td>\n",
       "      <td>E</td>\n",
       "    </tr>\n",
       "    <tr>\n",
       "      <th>301</th>\n",
       "      <td>Namco Museum: 50th Anniversary</td>\n",
       "      <td>PS2</td>\n",
       "      <td>2005.0</td>\n",
       "      <td>Misc</td>\n",
       "      <td>2.08</td>\n",
       "      <td>1.35</td>\n",
       "      <td>0.0</td>\n",
       "      <td>0.54</td>\n",
       "      <td>61.0</td>\n",
       "      <td>tbd</td>\n",
       "      <td>E10+</td>\n",
       "    </tr>\n",
       "    <tr>\n",
       "      <th>520</th>\n",
       "      <td>Zumba Fitness 2</td>\n",
       "      <td>Wii</td>\n",
       "      <td>2011.0</td>\n",
       "      <td>Sports</td>\n",
       "      <td>1.51</td>\n",
       "      <td>1.03</td>\n",
       "      <td>0.0</td>\n",
       "      <td>0.27</td>\n",
       "      <td>NaN</td>\n",
       "      <td>tbd</td>\n",
       "      <td>T</td>\n",
       "    </tr>\n",
       "    <tr>\n",
       "      <th>645</th>\n",
       "      <td>uDraw Studio</td>\n",
       "      <td>Wii</td>\n",
       "      <td>2010.0</td>\n",
       "      <td>Misc</td>\n",
       "      <td>1.65</td>\n",
       "      <td>0.57</td>\n",
       "      <td>0.0</td>\n",
       "      <td>0.20</td>\n",
       "      <td>71.0</td>\n",
       "      <td>tbd</td>\n",
       "      <td>E</td>\n",
       "    </tr>\n",
       "    <tr>\n",
       "      <th>718</th>\n",
       "      <td>Just Dance Kids</td>\n",
       "      <td>Wii</td>\n",
       "      <td>2010.0</td>\n",
       "      <td>Misc</td>\n",
       "      <td>1.52</td>\n",
       "      <td>0.54</td>\n",
       "      <td>0.0</td>\n",
       "      <td>0.18</td>\n",
       "      <td>NaN</td>\n",
       "      <td>tbd</td>\n",
       "      <td>E</td>\n",
       "    </tr>\n",
       "  </tbody>\n",
       "</table>\n",
       "</div>"
      ],
      "text/plain": [
       "                               name platform  year_of_release   genre  \\\n",
       "119                   Zumba Fitness      Wii           2010.0  Sports   \n",
       "301  Namco Museum: 50th Anniversary      PS2           2005.0    Misc   \n",
       "520                 Zumba Fitness 2      Wii           2011.0  Sports   \n",
       "645                    uDraw Studio      Wii           2010.0    Misc   \n",
       "718                 Just Dance Kids      Wii           2010.0    Misc   \n",
       "\n",
       "     na_sales  eu_sales  jp_sales  other_sales  critic_score user_score rating  \n",
       "119      3.45      2.59       0.0         0.66           NaN        tbd      E  \n",
       "301      2.08      1.35       0.0         0.54          61.0        tbd   E10+  \n",
       "520      1.51      1.03       0.0         0.27           NaN        tbd      T  \n",
       "645      1.65      0.57       0.0         0.20          71.0        tbd      E  \n",
       "718      1.52      0.54       0.0         0.18           NaN        tbd      E  "
      ]
     },
     "execution_count": 17,
     "metadata": {},
     "output_type": "execute_result"
    }
   ],
   "source": [
    "data[data['user_score'] == 'tbd'].head()"
   ]
  },
  {
   "cell_type": "code",
   "execution_count": 18,
   "id": "7069cf51",
   "metadata": {},
   "outputs": [
    {
     "data": {
      "text/plain": [
       "2376"
      ]
     },
     "execution_count": 18,
     "metadata": {},
     "output_type": "execute_result"
    }
   ],
   "source": [
    "data['user_score'].value_counts()['tbd']"
   ]
  },
  {
   "cell_type": "markdown",
   "id": "8a99d654",
   "metadata": {},
   "source": [
    "В столбце user_score пропусков 6701 и значений tbd - 2376.tbd означает, что оценка не проставлена. Заменим тип данных с object на float64 с помощью метода to_numeric() и параметра errors='coerce'. Тогда некорректные значения(tbd) принудительно заменятся на NaN."
   ]
  },
  {
   "cell_type": "code",
   "execution_count": 19,
   "id": "e9f3dcef",
   "metadata": {},
   "outputs": [],
   "source": [
    "data['user_score'] = pd.to_numeric(data['user_score'], errors='coerce')"
   ]
  },
  {
   "cell_type": "code",
   "execution_count": 20,
   "id": "af6f7cd6",
   "metadata": {},
   "outputs": [
    {
     "data": {
      "text/html": [
       "<div>\n",
       "<style scoped>\n",
       "    .dataframe tbody tr th:only-of-type {\n",
       "        vertical-align: middle;\n",
       "    }\n",
       "\n",
       "    .dataframe tbody tr th {\n",
       "        vertical-align: top;\n",
       "    }\n",
       "\n",
       "    .dataframe thead th {\n",
       "        text-align: right;\n",
       "    }\n",
       "</style>\n",
       "<table border=\"1\" class=\"dataframe\">\n",
       "  <thead>\n",
       "    <tr style=\"text-align: right;\">\n",
       "      <th></th>\n",
       "      <th>name</th>\n",
       "      <th>platform</th>\n",
       "      <th>year_of_release</th>\n",
       "      <th>genre</th>\n",
       "      <th>na_sales</th>\n",
       "      <th>eu_sales</th>\n",
       "      <th>jp_sales</th>\n",
       "      <th>other_sales</th>\n",
       "      <th>critic_score</th>\n",
       "      <th>user_score</th>\n",
       "      <th>rating</th>\n",
       "    </tr>\n",
       "  </thead>\n",
       "  <tbody>\n",
       "    <tr>\n",
       "      <th>1</th>\n",
       "      <td>Super Mario Bros.</td>\n",
       "      <td>NES</td>\n",
       "      <td>1985.0</td>\n",
       "      <td>Platform</td>\n",
       "      <td>29.08</td>\n",
       "      <td>3.58</td>\n",
       "      <td>6.81</td>\n",
       "      <td>0.77</td>\n",
       "      <td>NaN</td>\n",
       "      <td>NaN</td>\n",
       "      <td>NaN</td>\n",
       "    </tr>\n",
       "    <tr>\n",
       "      <th>4</th>\n",
       "      <td>Pokemon Red/Pokemon Blue</td>\n",
       "      <td>GB</td>\n",
       "      <td>1996.0</td>\n",
       "      <td>Role-Playing</td>\n",
       "      <td>11.27</td>\n",
       "      <td>8.89</td>\n",
       "      <td>10.22</td>\n",
       "      <td>1.00</td>\n",
       "      <td>NaN</td>\n",
       "      <td>NaN</td>\n",
       "      <td>NaN</td>\n",
       "    </tr>\n",
       "    <tr>\n",
       "      <th>5</th>\n",
       "      <td>Tetris</td>\n",
       "      <td>GB</td>\n",
       "      <td>1989.0</td>\n",
       "      <td>Puzzle</td>\n",
       "      <td>23.20</td>\n",
       "      <td>2.26</td>\n",
       "      <td>4.22</td>\n",
       "      <td>0.58</td>\n",
       "      <td>NaN</td>\n",
       "      <td>NaN</td>\n",
       "      <td>NaN</td>\n",
       "    </tr>\n",
       "    <tr>\n",
       "      <th>9</th>\n",
       "      <td>Duck Hunt</td>\n",
       "      <td>NES</td>\n",
       "      <td>1984.0</td>\n",
       "      <td>Shooter</td>\n",
       "      <td>26.93</td>\n",
       "      <td>0.63</td>\n",
       "      <td>0.28</td>\n",
       "      <td>0.47</td>\n",
       "      <td>NaN</td>\n",
       "      <td>NaN</td>\n",
       "      <td>NaN</td>\n",
       "    </tr>\n",
       "    <tr>\n",
       "      <th>10</th>\n",
       "      <td>Nintendogs</td>\n",
       "      <td>DS</td>\n",
       "      <td>2005.0</td>\n",
       "      <td>Simulation</td>\n",
       "      <td>9.05</td>\n",
       "      <td>10.95</td>\n",
       "      <td>1.93</td>\n",
       "      <td>2.74</td>\n",
       "      <td>NaN</td>\n",
       "      <td>NaN</td>\n",
       "      <td>NaN</td>\n",
       "    </tr>\n",
       "  </tbody>\n",
       "</table>\n",
       "</div>"
      ],
      "text/plain": [
       "                        name platform  year_of_release         genre  \\\n",
       "1          Super Mario Bros.      NES           1985.0      Platform   \n",
       "4   Pokemon Red/Pokemon Blue       GB           1996.0  Role-Playing   \n",
       "5                     Tetris       GB           1989.0        Puzzle   \n",
       "9                  Duck Hunt      NES           1984.0       Shooter   \n",
       "10                Nintendogs       DS           2005.0    Simulation   \n",
       "\n",
       "    na_sales  eu_sales  jp_sales  other_sales  critic_score  user_score rating  \n",
       "1      29.08      3.58      6.81         0.77           NaN         NaN    NaN  \n",
       "4      11.27      8.89     10.22         1.00           NaN         NaN    NaN  \n",
       "5      23.20      2.26      4.22         0.58           NaN         NaN    NaN  \n",
       "9      26.93      0.63      0.28         0.47           NaN         NaN    NaN  \n",
       "10      9.05     10.95      1.93         2.74           NaN         NaN    NaN  "
      ]
     },
     "execution_count": 20,
     "metadata": {},
     "output_type": "execute_result"
    }
   ],
   "source": [
    "data[data['rating'].isna()].head()"
   ]
  },
  {
   "cell_type": "code",
   "execution_count": 21,
   "id": "27049439",
   "metadata": {},
   "outputs": [
    {
     "data": {
      "text/plain": [
       "E       3921\n",
       "T       2905\n",
       "M       1536\n",
       "E10+    1393\n",
       "EC         8\n",
       "K-A        3\n",
       "AO         1\n",
       "RP         1\n",
       "Name: rating, dtype: int64"
      ]
     },
     "execution_count": 21,
     "metadata": {},
     "output_type": "execute_result"
    }
   ],
   "source": [
    "data['rating'].value_counts()"
   ]
  },
  {
   "cell_type": "markdown",
   "id": "a17b4478",
   "metadata": {},
   "source": [
    "В столбце rating 6766 пропусков. Заменим их на no_info. Также категоризируем данные. Значений: EC, K-A, AO, RP очень мало. Присвоим им другие категории, которые похожи смыслом.\n",
    "\n",
    "\n",
    "«EC» («Early childhood») — «Для детей младшего возраста\n",
    "\n",
    "E» («Everyone») — «Для всех(K-A)\n",
    "\n",
    "«E10+» («Everyone 10 and older») — «Для всех от 10 лет и старше\n",
    "\n",
    "T» («Teen») — «Подросткам\n",
    "\n",
    "M» («Mature») — «Для взрослых\n",
    "\n",
    "AO» («Adults Only 18+») — «Только для взрослых\n",
    "\n",
    "RP» («Rating Pending») — «Рейтинг ожидается\n",
    "\n",
    "RP 17+» («Rating Pending») — «Рейтинг ожидается - примерно 17+"
   ]
  },
  {
   "cell_type": "code",
   "execution_count": 22,
   "id": "6e5b39b1",
   "metadata": {},
   "outputs": [],
   "source": [
    "data['rating'] = data['rating'].fillna('no_info')"
   ]
  },
  {
   "cell_type": "code",
   "execution_count": 23,
   "id": "882d6a4c",
   "metadata": {},
   "outputs": [],
   "source": [
    "data.loc[data['rating'] == 'EC', 'rating'] = 'E'\n",
    "data.loc[data['rating'] == 'K-A', 'rating'] = 'E'\n",
    "data.loc[data['rating'] == 'RP', 'rating'] = 'no_info'\n",
    "data.loc[data['rating'] == 'AO', 'rating'] = 'M'"
   ]
  },
  {
   "cell_type": "markdown",
   "id": "c7378952",
   "metadata": {},
   "source": [
    "Изменим тип данных из float в int в столбцах: year_of_release и critic_score."
   ]
  },
  {
   "cell_type": "code",
   "execution_count": 24,
   "id": "483b5b6d",
   "metadata": {},
   "outputs": [],
   "source": [
    "data['year_of_release'] = data['year_of_release'].astype('int64', errors='ignore')"
   ]
  },
  {
   "cell_type": "code",
   "execution_count": 25,
   "id": "4b50eda4",
   "metadata": {},
   "outputs": [
    {
     "name": "stdout",
     "output_type": "stream",
     "text": [
      "<class 'pandas.core.frame.DataFrame'>\n",
      "Int64Index: 16444 entries, 0 to 16714\n",
      "Data columns (total 11 columns):\n",
      " #   Column           Non-Null Count  Dtype  \n",
      "---  ------           --------------  -----  \n",
      " 0   name             16444 non-null  object \n",
      " 1   platform         16444 non-null  object \n",
      " 2   year_of_release  16444 non-null  int64  \n",
      " 3   genre            16444 non-null  object \n",
      " 4   na_sales         16444 non-null  float64\n",
      " 5   eu_sales         16444 non-null  float64\n",
      " 6   jp_sales         16444 non-null  float64\n",
      " 7   other_sales      16444 non-null  float64\n",
      " 8   critic_score     7983 non-null   float64\n",
      " 9   user_score       7463 non-null   float64\n",
      " 10  rating           16444 non-null  object \n",
      "dtypes: float64(6), int64(1), object(4)\n",
      "memory usage: 1.5+ MB\n"
     ]
    }
   ],
   "source": [
    "data.info()"
   ]
  },
  {
   "cell_type": "code",
   "execution_count": 26,
   "id": "fbfedb66",
   "metadata": {},
   "outputs": [
    {
     "data": {
      "text/plain": [
       "0"
      ]
     },
     "execution_count": 26,
     "metadata": {},
     "output_type": "execute_result"
    }
   ],
   "source": [
    "data.duplicated().sum()"
   ]
  },
  {
   "cell_type": "markdown",
   "id": "863a3db9",
   "metadata": {},
   "source": [
    "Дубликатов нет."
   ]
  },
  {
   "cell_type": "code",
   "execution_count": 27,
   "id": "98003c10",
   "metadata": {},
   "outputs": [],
   "source": [
    "data['total_sales'] = data['na_sales'] + data['eu_sales'] + data['jp_sales'] + data['other_sales']"
   ]
  },
  {
   "cell_type": "code",
   "execution_count": 28,
   "id": "598bd4d7",
   "metadata": {},
   "outputs": [
    {
     "data": {
      "text/html": [
       "<div>\n",
       "<style scoped>\n",
       "    .dataframe tbody tr th:only-of-type {\n",
       "        vertical-align: middle;\n",
       "    }\n",
       "\n",
       "    .dataframe tbody tr th {\n",
       "        vertical-align: top;\n",
       "    }\n",
       "\n",
       "    .dataframe thead th {\n",
       "        text-align: right;\n",
       "    }\n",
       "</style>\n",
       "<table border=\"1\" class=\"dataframe\">\n",
       "  <thead>\n",
       "    <tr style=\"text-align: right;\">\n",
       "      <th></th>\n",
       "      <th>name</th>\n",
       "      <th>platform</th>\n",
       "      <th>year_of_release</th>\n",
       "      <th>genre</th>\n",
       "      <th>na_sales</th>\n",
       "      <th>eu_sales</th>\n",
       "      <th>jp_sales</th>\n",
       "      <th>other_sales</th>\n",
       "      <th>critic_score</th>\n",
       "      <th>user_score</th>\n",
       "      <th>rating</th>\n",
       "      <th>total_sales</th>\n",
       "    </tr>\n",
       "  </thead>\n",
       "  <tbody>\n",
       "    <tr>\n",
       "      <th>0</th>\n",
       "      <td>Wii Sports</td>\n",
       "      <td>Wii</td>\n",
       "      <td>2006</td>\n",
       "      <td>Sports</td>\n",
       "      <td>41.36</td>\n",
       "      <td>28.96</td>\n",
       "      <td>3.77</td>\n",
       "      <td>8.45</td>\n",
       "      <td>76.0</td>\n",
       "      <td>8.0</td>\n",
       "      <td>E</td>\n",
       "      <td>82.54</td>\n",
       "    </tr>\n",
       "    <tr>\n",
       "      <th>1</th>\n",
       "      <td>Super Mario Bros.</td>\n",
       "      <td>NES</td>\n",
       "      <td>1985</td>\n",
       "      <td>Platform</td>\n",
       "      <td>29.08</td>\n",
       "      <td>3.58</td>\n",
       "      <td>6.81</td>\n",
       "      <td>0.77</td>\n",
       "      <td>NaN</td>\n",
       "      <td>NaN</td>\n",
       "      <td>no_info</td>\n",
       "      <td>40.24</td>\n",
       "    </tr>\n",
       "    <tr>\n",
       "      <th>2</th>\n",
       "      <td>Mario Kart Wii</td>\n",
       "      <td>Wii</td>\n",
       "      <td>2008</td>\n",
       "      <td>Racing</td>\n",
       "      <td>15.68</td>\n",
       "      <td>12.76</td>\n",
       "      <td>3.79</td>\n",
       "      <td>3.29</td>\n",
       "      <td>82.0</td>\n",
       "      <td>8.3</td>\n",
       "      <td>E</td>\n",
       "      <td>35.52</td>\n",
       "    </tr>\n",
       "    <tr>\n",
       "      <th>3</th>\n",
       "      <td>Wii Sports Resort</td>\n",
       "      <td>Wii</td>\n",
       "      <td>2009</td>\n",
       "      <td>Sports</td>\n",
       "      <td>15.61</td>\n",
       "      <td>10.93</td>\n",
       "      <td>3.28</td>\n",
       "      <td>2.95</td>\n",
       "      <td>80.0</td>\n",
       "      <td>8.0</td>\n",
       "      <td>E</td>\n",
       "      <td>32.77</td>\n",
       "    </tr>\n",
       "    <tr>\n",
       "      <th>4</th>\n",
       "      <td>Pokemon Red/Pokemon Blue</td>\n",
       "      <td>GB</td>\n",
       "      <td>1996</td>\n",
       "      <td>Role-Playing</td>\n",
       "      <td>11.27</td>\n",
       "      <td>8.89</td>\n",
       "      <td>10.22</td>\n",
       "      <td>1.00</td>\n",
       "      <td>NaN</td>\n",
       "      <td>NaN</td>\n",
       "      <td>no_info</td>\n",
       "      <td>31.38</td>\n",
       "    </tr>\n",
       "  </tbody>\n",
       "</table>\n",
       "</div>"
      ],
      "text/plain": [
       "                       name platform  year_of_release         genre  na_sales  \\\n",
       "0                Wii Sports      Wii             2006        Sports     41.36   \n",
       "1         Super Mario Bros.      NES             1985      Platform     29.08   \n",
       "2            Mario Kart Wii      Wii             2008        Racing     15.68   \n",
       "3         Wii Sports Resort      Wii             2009        Sports     15.61   \n",
       "4  Pokemon Red/Pokemon Blue       GB             1996  Role-Playing     11.27   \n",
       "\n",
       "   eu_sales  jp_sales  other_sales  critic_score  user_score   rating  \\\n",
       "0     28.96      3.77         8.45          76.0         8.0        E   \n",
       "1      3.58      6.81         0.77           NaN         NaN  no_info   \n",
       "2     12.76      3.79         3.29          82.0         8.3        E   \n",
       "3     10.93      3.28         2.95          80.0         8.0        E   \n",
       "4      8.89     10.22         1.00           NaN         NaN  no_info   \n",
       "\n",
       "   total_sales  \n",
       "0        82.54  \n",
       "1        40.24  \n",
       "2        35.52  \n",
       "3        32.77  \n",
       "4        31.38  "
      ]
     },
     "execution_count": 28,
     "metadata": {},
     "output_type": "execute_result"
    }
   ],
   "source": [
    "data.head()"
   ]
  },
  {
   "cell_type": "markdown",
   "id": "5fc17881",
   "metadata": {},
   "source": [
    "Посчитал суммарные продажи во всех регионах в стодбце total sales."
   ]
  },
  {
   "cell_type": "markdown",
   "id": "b9d4d8d4",
   "metadata": {},
   "source": [
    "**Вывод: Привели название колонок к нижнему регистру. Обработали пропуски, некоторые строки с пропусками удалили, некоторые оставили с пропусками, другие заменили новыми значениями. Категоризовали данные в столбце rating. Привели данные к нужному типу. Дубликатов в данных не было.** "
   ]
  },
  {
   "cell_type": "markdown",
   "id": "265a6149",
   "metadata": {},
   "source": [
    " ### исследовательский анализ данных."
   ]
  },
  {
   "cell_type": "code",
   "execution_count": 29,
   "id": "54463384",
   "metadata": {
    "scrolled": false
   },
   "outputs": [
    {
     "data": {
      "image/png": "[encoded data removed]",
      "text/plain": [
       "<Figure size 1000x600 with 1 Axes>"
      ]
     },
     "metadata": {},
     "output_type": "display_data"
    }
   ],
   "source": [
    "pivot_table = data.pivot_table(index='year_of_release', values='genre', aggfunc='count').plot(kind='bar', figsize=(10, 6))"
   ]
  },
  {
   "cell_type": "markdown",
   "id": "a1db9c6e",
   "metadata": {},
   "source": [
    "Больше всего игр было выпущено в 2008 и 2009 годах. C 1991 года пошёл рост выпуска игр, в 1999 небольшой спад, с 2001 резкий рост вплоть до 2009 года. Далее пошёл спад опять. И к 2016 году количество выпуска игр сократилось примерно в 2.5 раза в сравнении с пиковым значением 2008 и 2009 годов."
   ]
  },
  {
   "cell_type": "code",
   "execution_count": 30,
   "id": "a0fa5c2b",
   "metadata": {},
   "outputs": [
    {
     "data": {
      "image/png": "[encoded data removed]",
      "text/plain": [
       "<Figure size 1000x600 with 1 Axes>"
      ]
     },
     "metadata": {},
     "output_type": "display_data"
    }
   ],
   "source": [
    "pivot_table = data.pivot_table(index='platform', values='total_sales', aggfunc='sum').sort_values('total_sales').plot(kind='bar', figsize=(10, 6))"
   ]
  },
  {
   "cell_type": "markdown",
   "id": "567a99ad",
   "metadata": {},
   "source": [
    "Платформы с наибольшими суммарными продажами:PS2, X360, PS3, Wii, DS."
   ]
  },
  {
   "cell_type": "code",
   "execution_count": 31,
   "id": "67a52d99",
   "metadata": {},
   "outputs": [],
   "source": [
    "df_ps2 = data.loc[data['platform'] == 'PS2']"
   ]
  },
  {
   "cell_type": "code",
   "execution_count": 32,
   "id": "1a839658",
   "metadata": {},
   "outputs": [
    {
     "data": {
      "image/png": "[encoded data removed]",
      "text/plain": [
       "<Figure size 640x480 with 1 Axes>"
      ]
     },
     "metadata": {},
     "output_type": "display_data"
    }
   ],
   "source": [
    "pivot_table_ps2 = df_ps2.pivot_table(index='year_of_release', values='total_sales', aggfunc='sum').plot(kind='bar')"
   ]
  },
  {
   "cell_type": "code",
   "execution_count": 33,
   "id": "4b107eae",
   "metadata": {},
   "outputs": [],
   "source": [
    "df_x360 = data.loc[data['platform'] == 'X360']"
   ]
  },
  {
   "cell_type": "code",
   "execution_count": 34,
   "id": "19cdc409",
   "metadata": {},
   "outputs": [
    {
     "data": {
      "image/png": "[encoded data removed]",
      "text/plain": [
       "<Figure size 640x480 with 1 Axes>"
      ]
     },
     "metadata": {},
     "output_type": "display_data"
    }
   ],
   "source": [
    "pivot_table_x360 = df_x360.pivot_table(index='year_of_release', values='total_sales', aggfunc='sum').plot(kind='bar')"
   ]
  },
  {
   "cell_type": "code",
   "execution_count": 35,
   "id": "8bbdd11c",
   "metadata": {},
   "outputs": [],
   "source": [
    "df_ps3 = data.loc[data['platform'] == 'PS3']"
   ]
  },
  {
   "cell_type": "code",
   "execution_count": 36,
   "id": "29b639f3",
   "metadata": {},
   "outputs": [
    {
     "data": {
      "image/png": "[encoded data removed]",
      "text/plain": [
       "<Figure size 640x480 with 1 Axes>"
      ]
     },
     "metadata": {},
     "output_type": "display_data"
    }
   ],
   "source": [
    "pivot_table_ps3 = df_ps3.pivot_table(index='year_of_release', values='total_sales', aggfunc='sum').plot(kind='bar')"
   ]
  },
  {
   "cell_type": "code",
   "execution_count": 37,
   "id": "ee0c1918",
   "metadata": {},
   "outputs": [],
   "source": [
    "df_wii = data.loc[data['platform'] == 'Wii']"
   ]
  },
  {
   "cell_type": "code",
   "execution_count": 38,
   "id": "e623b54c",
   "metadata": {},
   "outputs": [
    {
     "data": {
      "image/png": "[encoded data removed]",
      "text/plain": [
       "<Figure size 640x480 with 1 Axes>"
      ]
     },
     "metadata": {},
     "output_type": "display_data"
    }
   ],
   "source": [
    "pivot_table_wii = df_wii.pivot_table(index='year_of_release', values='total_sales', aggfunc='sum').plot(kind='bar')"
   ]
  },
  {
   "cell_type": "code",
   "execution_count": 39,
   "id": "9f944754",
   "metadata": {},
   "outputs": [],
   "source": [
    "df_ds = data.loc[data['platform'] == 'DS']"
   ]
  },
  {
   "cell_type": "code",
   "execution_count": 40,
   "id": "0c55f457",
   "metadata": {},
   "outputs": [
    {
     "data": {
      "image/png": "[encoded data removed]",
      "text/plain": [
       "<Figure size 640x480 with 1 Axes>"
      ]
     },
     "metadata": {},
     "output_type": "display_data"
    }
   ],
   "source": [
    "pivot_table_ds = df_ds.pivot_table(index='year_of_release', values='total_sales', aggfunc='sum').plot(kind='bar')"
   ]
  },
  {
   "cell_type": "markdown",
   "id": "6884ece5",
   "metadata": {},
   "source": [
    "PS2 появилась в 2000 году, самые большие продажи были с 2002 по 2004 год, дальше спад, и к 2011 году количество продаж упало до своего минимума.\n",
    "\n",
    "X360 появилась в 2005 году, пиковые продажи были в 2010 году, потом спад, и в 2016 году самые маленькие продажи.\n",
    "\n",
    "PS3 появилась в 2006 году, активный рост продаж был до своего пика в 2011 году, потом спад, и в 2016 году самые маленькие продажи.\n",
    "\n",
    "Wii появилась в 2006 году, активный рост продаж был до своего пика в 2009 году, потом спад, и в 2016 году самые маленькие продажи.\n",
    "\n",
    "DS появилась в 1985 году, продажи пошли только в 2004 году, резкий скачок произошёл в 2005 году. Продажи шли хорошо до 2008, потом пошёл спад, и в 2016 году самые маленькие продажи.\n",
    "\n",
    "В среднем за 10 лет с момента своего появления платформа теряет свою актуальность."
   ]
  },
  {
   "cell_type": "code",
   "execution_count": 41,
   "id": "8c88652f",
   "metadata": {},
   "outputs": [],
   "source": [
    "last_platform = data.query('year_of_release >= 2013')"
   ]
  },
  {
   "cell_type": "code",
   "execution_count": 42,
   "id": "33925d02",
   "metadata": {},
   "outputs": [
    {
     "data": {
      "image/png": "[encoded data removed]",
      "text/plain": [
       "<Figure size 640x480 with 1 Axes>"
      ]
     },
     "metadata": {},
     "output_type": "display_data"
    }
   ],
   "source": [
    "top_sales_platform = last_platform.pivot_table(index='platform', values='total_sales', aggfunc='sum').\\\n",
    "sort_values('total_sales').plot(kind='bar')"
   ]
  },
  {
   "cell_type": "markdown",
   "id": "edbc337f",
   "metadata": {},
   "source": [
    "За последние 4 года, с 2013 по 2016 по продажам лидируют: PS4, PS3, XOne."
   ]
  },
  {
   "cell_type": "code",
   "execution_count": 43,
   "id": "ce0c60ba",
   "metadata": {
    "scrolled": false
   },
   "outputs": [
    {
     "data": {
      "image/png": "[encoded data removed]",
      "text/plain": [
       "<Figure size 640x480 with 1 Axes>"
      ]
     },
     "metadata": {},
     "output_type": "display_data"
    }
   ],
   "source": [
    "last_platform.query('platform == \"PS4\"').\\\n",
    "pivot_table(index='year_of_release', values='total_sales', aggfunc='sum').plot(kind='bar');"
   ]
  },
  {
   "cell_type": "markdown",
   "id": "1c8e7479",
   "metadata": {},
   "source": [
    "В 2014 резкий рост продаж PS4, в 2016 спад."
   ]
  },
  {
   "cell_type": "code",
   "execution_count": 44,
   "id": "abaccd0b",
   "metadata": {},
   "outputs": [
    {
     "data": {
      "text/plain": [
       "<AxesSubplot:xlabel='year_of_release'>"
      ]
     },
     "execution_count": 44,
     "metadata": {},
     "output_type": "execute_result"
    },
    {
     "data": {
      "image/png": "[encoded data removed]",
      "text/plain": [
       "<Figure size 640x480 with 1 Axes>"
      ]
     },
     "metadata": {},
     "output_type": "display_data"
    }
   ],
   "source": [
    "last_platform.query('platform == \"PS3\"').\\\n",
    "pivot_table(index='year_of_release', values='total_sales', aggfunc='sum').plot(kind='bar')"
   ]
  },
  {
   "cell_type": "markdown",
   "id": "a8f0c1ee",
   "metadata": {},
   "source": [
    "С 2013 по 2016 идёт спад продаж PS3."
   ]
  },
  {
   "cell_type": "code",
   "execution_count": 45,
   "id": "b6e612f9",
   "metadata": {},
   "outputs": [
    {
     "data": {
      "text/plain": [
       "<AxesSubplot:xlabel='year_of_release'>"
      ]
     },
     "execution_count": 45,
     "metadata": {},
     "output_type": "execute_result"
    },
    {
     "data": {
      "image/png": "[encoded data removed]",
      "text/plain": [
       "<Figure size 640x480 with 1 Axes>"
      ]
     },
     "metadata": {},
     "output_type": "display_data"
    }
   ],
   "source": [
    "last_platform.query('platform == \"XOne\"').\\\n",
    "pivot_table(index='year_of_release', values='total_sales', aggfunc='sum').plot(kind='bar')"
   ]
  },
  {
   "cell_type": "markdown",
   "id": "d4ff2aa7",
   "metadata": {},
   "source": [
    "С 2013 по 2015 идёт рост продаж XOne, в 2016 спад продаж примерно в 2 раза."
   ]
  },
  {
   "cell_type": "markdown",
   "id": "73a8f914",
   "metadata": {},
   "source": [
    "За последние 4 года, с 2013 по 2016 по продажам лидируют: PS4, PS3, XOne. Эти платформы и будут потенциально прибыльными."
   ]
  },
  {
   "cell_type": "code",
   "execution_count": 46,
   "id": "a54cf2ee",
   "metadata": {},
   "outputs": [
    {
     "data": {
      "image/png": "[encoded data removed]",
      "text/plain": [
       "<Figure size 1200x600 with 1 Axes>"
      ]
     },
     "metadata": {},
     "output_type": "display_data"
    }
   ],
   "source": [
    "top_3_platform = last_platform.query('platform == [\"PS4\", \"PS3\", \"XOne\"]')\n",
    "plt.figure(figsize=(12,6))\n",
    "ax = sns.boxplot(data = top_3_platform , y ='total_sales', x ='platform')\n",
    "plt.ylim(0,4)\n",
    "ax.set_ylabel('Продажи игр, млн.шт.')\n",
    "ax.set_xlabel('Платформ')\n",
    "ax.set_title('Распределение продаж по платформам')\n",
    "plt.show()"
   ]
  },
  {
   "cell_type": "code",
   "execution_count": 47,
   "id": "fe7badf1",
   "metadata": {},
   "outputs": [
    {
     "data": {
      "text/html": [
       "<div>\n",
       "<style scoped>\n",
       "    .dataframe tbody tr th:only-of-type {\n",
       "        vertical-align: middle;\n",
       "    }\n",
       "\n",
       "    .dataframe tbody tr th {\n",
       "        vertical-align: top;\n",
       "    }\n",
       "\n",
       "    .dataframe thead tr th {\n",
       "        text-align: left;\n",
       "    }\n",
       "\n",
       "    .dataframe thead tr:last-of-type th {\n",
       "        text-align: right;\n",
       "    }\n",
       "</style>\n",
       "<table border=\"1\" class=\"dataframe\">\n",
       "  <thead>\n",
       "    <tr>\n",
       "      <th></th>\n",
       "      <th>median</th>\n",
       "      <th>mean</th>\n",
       "    </tr>\n",
       "    <tr>\n",
       "      <th></th>\n",
       "      <th>total_sales</th>\n",
       "      <th>total_sales</th>\n",
       "    </tr>\n",
       "    <tr>\n",
       "      <th>platform</th>\n",
       "      <th></th>\n",
       "      <th></th>\n",
       "    </tr>\n",
       "  </thead>\n",
       "  <tbody>\n",
       "    <tr>\n",
       "      <th>3DS</th>\n",
       "      <td>0.090</td>\n",
       "      <td>0.472772</td>\n",
       "    </tr>\n",
       "    <tr>\n",
       "      <th>DS</th>\n",
       "      <td>0.150</td>\n",
       "      <td>0.192500</td>\n",
       "    </tr>\n",
       "    <tr>\n",
       "      <th>PC</th>\n",
       "      <td>0.080</td>\n",
       "      <td>0.208624</td>\n",
       "    </tr>\n",
       "    <tr>\n",
       "      <th>PS3</th>\n",
       "      <td>0.150</td>\n",
       "      <td>0.525884</td>\n",
       "    </tr>\n",
       "    <tr>\n",
       "      <th>PS4</th>\n",
       "      <td>0.200</td>\n",
       "      <td>0.801378</td>\n",
       "    </tr>\n",
       "    <tr>\n",
       "      <th>PSP</th>\n",
       "      <td>0.020</td>\n",
       "      <td>0.052239</td>\n",
       "    </tr>\n",
       "    <tr>\n",
       "      <th>PSV</th>\n",
       "      <td>0.040</td>\n",
       "      <td>0.092151</td>\n",
       "    </tr>\n",
       "    <tr>\n",
       "      <th>Wii</th>\n",
       "      <td>0.180</td>\n",
       "      <td>0.593913</td>\n",
       "    </tr>\n",
       "    <tr>\n",
       "      <th>WiiU</th>\n",
       "      <td>0.200</td>\n",
       "      <td>0.562000</td>\n",
       "    </tr>\n",
       "    <tr>\n",
       "      <th>X360</th>\n",
       "      <td>0.265</td>\n",
       "      <td>0.735484</td>\n",
       "    </tr>\n",
       "    <tr>\n",
       "      <th>XOne</th>\n",
       "      <td>0.220</td>\n",
       "      <td>0.645020</td>\n",
       "    </tr>\n",
       "  </tbody>\n",
       "</table>\n",
       "</div>"
      ],
      "text/plain": [
       "              median        mean\n",
       "         total_sales total_sales\n",
       "platform                        \n",
       "3DS            0.090    0.472772\n",
       "DS             0.150    0.192500\n",
       "PC             0.080    0.208624\n",
       "PS3            0.150    0.525884\n",
       "PS4            0.200    0.801378\n",
       "PSP            0.020    0.052239\n",
       "PSV            0.040    0.092151\n",
       "Wii            0.180    0.593913\n",
       "WiiU           0.200    0.562000\n",
       "X360           0.265    0.735484\n",
       "XOne           0.220    0.645020"
      ]
     },
     "execution_count": 47,
     "metadata": {},
     "output_type": "execute_result"
    }
   ],
   "source": [
    "last_platform.pivot_table(index = 'platform', values = 'total_sales',aggfunc = ['median', 'mean'])"
   ]
  },
  {
   "cell_type": "markdown",
   "id": "d8a94e0f",
   "metadata": {},
   "source": [
    "Видим, что выбросы есть во всех топовых платформах(PS3, XOne, PS4). Это значит, что есть игры, которые очень популярные, и их продаж было аномально много в сравнении с другими играми."
   ]
  },
  {
   "cell_type": "markdown",
   "id": "1d4e3fbc",
   "metadata": {},
   "source": [
    "В top_3_platform будут храниться данные только по топовым платформам: PS3, XOne, PS4"
   ]
  },
  {
   "cell_type": "code",
   "execution_count": 48,
   "id": "ef99d7c7",
   "metadata": {},
   "outputs": [
    {
     "data": {
      "image/png": "[encoded data removed]",
      "text/plain": [
       "<Figure size 640x480 with 1 Axes>"
      ]
     },
     "metadata": {},
     "output_type": "display_data"
    },
    {
     "data": {
      "image/png": "[encoded data removed]",
      "text/plain": [
       "<Figure size 640x480 with 1 Axes>"
      ]
     },
     "metadata": {},
     "output_type": "display_data"
    }
   ],
   "source": [
    "top_3_ps3 = top_3_platform.query('platform == \"PS3\"')\n",
    "top_3_ps3.plot(x='user_score', y='total_sales', kind='scatter', grid=True);\n",
    "top_3_ps3.plot(x='critic_score', y='total_sales', kind='scatter', grid=True);"
   ]
  },
  {
   "cell_type": "code",
   "execution_count": 49,
   "id": "2be0944d",
   "metadata": {},
   "outputs": [
    {
     "name": "stdout",
     "output_type": "stream",
     "text": [
      "0.0023944027357566907 корреляция между отзывами пользователей и продажами\n",
      "0.3342853393371919 корреляция между отзывами критиков и продажами\n"
     ]
    }
   ],
   "source": [
    "print(top_3_ps3['user_score'].corr(top_3_ps3['total_sales']), 'корреляция между отзывами пользователей и продажами')\n",
    "print(top_3_ps3['critic_score'].corr(top_3_ps3['total_sales']), 'корреляция между отзывами критиков и продажами')"
   ]
  },
  {
   "cell_type": "markdown",
   "id": "8d2c9f23",
   "metadata": {},
   "source": [
    "Корреляция между отзывами пользователей и продажами PS3 практически 0. Зависимости между отзывами пользователей и продажами нет.\n",
    "\n",
    "Корреляция между отзывами критиков и продажами PS3 маленькая. Отзывы критиков в какой-то степени влияют на продажи, но слабо."
   ]
  },
  {
   "cell_type": "code",
   "execution_count": 50,
   "id": "1f6d57be",
   "metadata": {},
   "outputs": [
    {
     "data": {
      "image/png": "[encoded data removed]",
      "text/plain": [
       "<Figure size 640x480 with 1 Axes>"
      ]
     },
     "metadata": {},
     "output_type": "display_data"
    },
    {
     "data": {
      "image/png": "[encoded data removed]",
      "text/plain": [
       "<Figure size 640x480 with 1 Axes>"
      ]
     },
     "metadata": {},
     "output_type": "display_data"
    }
   ],
   "source": [
    "top_3_ps4 = top_3_platform.query('platform == \"PS4\"')\n",
    "top_3_ps4.plot(x='user_score', y='total_sales', kind='scatter', grid=True);\n",
    "top_3_ps4.plot(x='critic_score', y='total_sales', kind='scatter', grid=True);"
   ]
  },
  {
   "cell_type": "code",
   "execution_count": 51,
   "id": "79373a72",
   "metadata": {},
   "outputs": [
    {
     "name": "stdout",
     "output_type": "stream",
     "text": [
      "-0.03195711020455643 корреляция между отзывами пользователей и продажами\n",
      "0.4065679020617816 корреляция между отзывами критиков и продажами\n"
     ]
    }
   ],
   "source": [
    "print(top_3_ps4['user_score'].corr(top_3_ps4['total_sales']), 'корреляция между отзывами пользователей и продажами')\n",
    "print(top_3_ps4['critic_score'].corr(top_3_ps4['total_sales']), 'корреляция между отзывами критиков и продажами')"
   ]
  },
  {
   "cell_type": "markdown",
   "id": "047e9f51",
   "metadata": {},
   "source": [
    "Корреляция между отзывами пользователей и продажами PS4 практически 0. Зависимости между отзывами пользователей и продажами нет.\n",
    "\n",
    "Корреляция между отзывами критиков и продажами PS4 слабая. Отзывы критиков частично влияют на продажи."
   ]
  },
  {
   "cell_type": "code",
   "execution_count": 52,
   "id": "07197c6e",
   "metadata": {},
   "outputs": [
    {
     "data": {
      "image/png": "[encoded data removed]",
      "text/plain": [
       "<Figure size 640x480 with 1 Axes>"
      ]
     },
     "metadata": {},
     "output_type": "display_data"
    },
    {
     "data": {
      "image/png": "[encoded data removed]",
      "text/plain": [
       "<Figure size 640x480 with 1 Axes>"
      ]
     },
     "metadata": {},
     "output_type": "display_data"
    }
   ],
   "source": [
    "top_3_xone = top_3_platform.query('platform == \"XOne\"')\n",
    "top_3_xone.plot(x='user_score', y='total_sales', kind='scatter', grid=True);\n",
    "top_3_xone.plot(x='critic_score', y='total_sales', kind='scatter', grid=True);"
   ]
  },
  {
   "cell_type": "code",
   "execution_count": 53,
   "id": "82f2d8b2",
   "metadata": {},
   "outputs": [
    {
     "name": "stdout",
     "output_type": "stream",
     "text": [
      "-0.06892505328279416 корреляция между отзывами пользователей и продажами\n",
      "0.4169983280084017 корреляция между отзывами критиков и продажами\n"
     ]
    }
   ],
   "source": [
    "print(top_3_xone['user_score'].corr(top_3_xone['total_sales']), 'корреляция между отзывами пользователей и продажами')\n",
    "print(top_3_xone['critic_score'].corr(top_3_xone['total_sales']), 'корреляция между отзывами критиков и продажами')"
   ]
  },
  {
   "cell_type": "markdown",
   "id": "61a320b4",
   "metadata": {},
   "source": [
    "Корреляция между отзывами пользователей и продажами XOne практически 0. Зависимости между отзывами пользователей и продажами нет.\n",
    "\n",
    "Корреляция между отзывами критиков и продажами XOne маленькая. Отзывы критиков в какой-то степени влияют на продажи, но слабо."
   ]
  },
  {
   "cell_type": "code",
   "execution_count": 54,
   "id": "f6fd0176",
   "metadata": {},
   "outputs": [
    {
     "data": {
      "image/png": "[encoded data removed]",
      "text/plain": [
       "<Figure size 640x480 with 1 Axes>"
      ]
     },
     "metadata": {},
     "output_type": "display_data"
    }
   ],
   "source": [
    "pivot_table_genre = last_platform.pivot_table(index='genre', values='total_sales', aggfunc='median').\\\n",
    "sort_values('total_sales').plot(kind='bar', color = 'red')"
   ]
  },
  {
   "cell_type": "markdown",
   "id": "bc63f95c",
   "metadata": {},
   "source": [
    "Рассмотрели медианные продажи по жанрам игр. Разные жанры игр приносят разную прибыль. Самые прибыльные жанры: shooter, sports, Platform. Самые неприбыльные: adventury, puzzle, strategy."
   ]
  },
  {
   "cell_type": "markdown",
   "id": "2db7f0e7",
   "metadata": {},
   "source": [
    "**Вывод: C 1991 года пошёл рост выпуска игр. Больше всего игр было выпущено в 2008 и 2009 годах, но к 2016 году количество выпуска игр сократилось примерно в 2.5 раза в сравнении с пиковым значением.**\n",
    "\n",
    "**В среднем за 10 лет с момента своего появления платформа теряет свою актуальность.**\n",
    "\n",
    "**За последние 4 года, с 2013 по 2016 по продажам лидируют: PS4, PS3, XOne.**\n",
    "\n",
    "**Отзывы пользователей никак не влияют на продажи игр, отзывы критиков также большого  значения не имеют.**\n",
    "\n",
    "**Самые прибыльные жанры: shooter, sports, Platform. Самые неприбыльные: adventury, puzzle, strategy.**"
   ]
  },
  {
   "cell_type": "markdown",
   "id": "1d6fdc36",
   "metadata": {},
   "source": [
    "### Портрет пользователя каждого региона."
   ]
  },
  {
   "cell_type": "code",
   "execution_count": 55,
   "id": "19cf06fe",
   "metadata": {},
   "outputs": [
    {
     "data": {
      "text/html": [
       "<div>\n",
       "<style scoped>\n",
       "    .dataframe tbody tr th:only-of-type {\n",
       "        vertical-align: middle;\n",
       "    }\n",
       "\n",
       "    .dataframe tbody tr th {\n",
       "        vertical-align: top;\n",
       "    }\n",
       "\n",
       "    .dataframe thead th {\n",
       "        text-align: right;\n",
       "    }\n",
       "</style>\n",
       "<table border=\"1\" class=\"dataframe\">\n",
       "  <thead>\n",
       "    <tr style=\"text-align: right;\">\n",
       "      <th></th>\n",
       "      <th>sum</th>\n",
       "    </tr>\n",
       "    <tr>\n",
       "      <th>platform</th>\n",
       "      <th></th>\n",
       "    </tr>\n",
       "  </thead>\n",
       "  <tbody>\n",
       "    <tr>\n",
       "      <th>3DS</th>\n",
       "      <td>38.20</td>\n",
       "    </tr>\n",
       "    <tr>\n",
       "      <th>DS</th>\n",
       "      <td>0.57</td>\n",
       "    </tr>\n",
       "    <tr>\n",
       "      <th>PC</th>\n",
       "      <td>11.11</td>\n",
       "    </tr>\n",
       "    <tr>\n",
       "      <th>PS3</th>\n",
       "      <td>63.50</td>\n",
       "    </tr>\n",
       "    <tr>\n",
       "      <th>PS4</th>\n",
       "      <td>108.74</td>\n",
       "    </tr>\n",
       "    <tr>\n",
       "      <th>PSP</th>\n",
       "      <td>0.00</td>\n",
       "    </tr>\n",
       "    <tr>\n",
       "      <th>PSV</th>\n",
       "      <td>5.04</td>\n",
       "    </tr>\n",
       "    <tr>\n",
       "      <th>Wii</th>\n",
       "      <td>6.56</td>\n",
       "    </tr>\n",
       "    <tr>\n",
       "      <th>WiiU</th>\n",
       "      <td>29.21</td>\n",
       "    </tr>\n",
       "    <tr>\n",
       "      <th>X360</th>\n",
       "      <td>81.66</td>\n",
       "    </tr>\n",
       "    <tr>\n",
       "      <th>XOne</th>\n",
       "      <td>93.12</td>\n",
       "    </tr>\n",
       "  </tbody>\n",
       "</table>\n",
       "</div>"
      ],
      "text/plain": [
       "             sum\n",
       "platform        \n",
       "3DS        38.20\n",
       "DS          0.57\n",
       "PC         11.11\n",
       "PS3        63.50\n",
       "PS4       108.74\n",
       "PSP         0.00\n",
       "PSV         5.04\n",
       "Wii         6.56\n",
       "WiiU       29.21\n",
       "X360       81.66\n",
       "XOne       93.12"
      ]
     },
     "execution_count": 55,
     "metadata": {},
     "output_type": "execute_result"
    }
   ],
   "source": [
    "platform_na = last_platform.groupby('platform')['na_sales'].agg(['sum'])\n",
    "platform_na"
   ]
  },
  {
   "cell_type": "code",
   "execution_count": 56,
   "id": "f0ec321a",
   "metadata": {
    "scrolled": false
   },
   "outputs": [
    {
     "data": {
      "image/png": "[encoded data removed]",
      "text/plain": [
       "<Figure size 640x480 with 1 Axes>"
      ]
     },
     "metadata": {},
     "output_type": "display_data"
    },
    {
     "data": {
      "image/png": "[encoded data removed]",
      "text/plain": [
       "<Figure size 640x480 with 1 Axes>"
      ]
     },
     "metadata": {},
     "output_type": "display_data"
    },
    {
     "data": {
      "image/png": "[encoded data removed]",
      "text/plain": [
       "<Figure size 640x480 with 1 Axes>"
      ]
     },
     "metadata": {},
     "output_type": "display_data"
    }
   ],
   "source": [
    "platform_na = last_platform.pivot_table(index='platform', values='na_sales', aggfunc='sum').\\\n",
    "sort_values('na_sales').plot(kind='bar', color='green')\n",
    "\n",
    "platform_na = last_platform.pivot_table(index='genre', values='na_sales', aggfunc='sum').\\\n",
    "sort_values('na_sales').plot(kind='bar', color='yellow')\n",
    "\n",
    "platform_na = last_platform.pivot_table(index='rating', values='na_sales', aggfunc='sum').\\\n",
    "sort_values('na_sales').plot(kind='bar', color='orange')"
   ]
  },
  {
   "cell_type": "markdown",
   "id": "e2f6dac2",
   "metadata": {},
   "source": [
    "Топ 5 платформ в Северной Америке: PS4, XOne, X360, PS3, 3DS.\n",
    "\n",
    "Топ 5 популярных жанров в Северной Америке: action, shooter, sports, role-playing, misc.\n",
    "\n",
    "По рейтингу ESRB в Северной Америке лидируют игры для взрослых(M) и для всех(E)."
   ]
  },
  {
   "cell_type": "code",
   "execution_count": 57,
   "id": "d643d273",
   "metadata": {},
   "outputs": [
    {
     "data": {
      "text/html": [
       "<div>\n",
       "<style scoped>\n",
       "    .dataframe tbody tr th:only-of-type {\n",
       "        vertical-align: middle;\n",
       "    }\n",
       "\n",
       "    .dataframe tbody tr th {\n",
       "        vertical-align: top;\n",
       "    }\n",
       "\n",
       "    .dataframe thead th {\n",
       "        text-align: right;\n",
       "    }\n",
       "</style>\n",
       "<table border=\"1\" class=\"dataframe\">\n",
       "  <thead>\n",
       "    <tr style=\"text-align: right;\">\n",
       "      <th></th>\n",
       "      <th>sum</th>\n",
       "    </tr>\n",
       "    <tr>\n",
       "      <th>platform</th>\n",
       "      <th></th>\n",
       "    </tr>\n",
       "  </thead>\n",
       "  <tbody>\n",
       "    <tr>\n",
       "      <th>3DS</th>\n",
       "      <td>30.96</td>\n",
       "    </tr>\n",
       "    <tr>\n",
       "      <th>DS</th>\n",
       "      <td>0.85</td>\n",
       "    </tr>\n",
       "    <tr>\n",
       "      <th>PC</th>\n",
       "      <td>25.36</td>\n",
       "    </tr>\n",
       "    <tr>\n",
       "      <th>PS3</th>\n",
       "      <td>67.81</td>\n",
       "    </tr>\n",
       "    <tr>\n",
       "      <th>PS4</th>\n",
       "      <td>141.09</td>\n",
       "    </tr>\n",
       "    <tr>\n",
       "      <th>PSP</th>\n",
       "      <td>0.17</td>\n",
       "    </tr>\n",
       "    <tr>\n",
       "      <th>PSV</th>\n",
       "      <td>6.10</td>\n",
       "    </tr>\n",
       "    <tr>\n",
       "      <th>Wii</th>\n",
       "      <td>5.93</td>\n",
       "    </tr>\n",
       "    <tr>\n",
       "      <th>WiiU</th>\n",
       "      <td>19.85</td>\n",
       "    </tr>\n",
       "    <tr>\n",
       "      <th>X360</th>\n",
       "      <td>42.52</td>\n",
       "    </tr>\n",
       "    <tr>\n",
       "      <th>XOne</th>\n",
       "      <td>51.59</td>\n",
       "    </tr>\n",
       "  </tbody>\n",
       "</table>\n",
       "</div>"
      ],
      "text/plain": [
       "             sum\n",
       "platform        \n",
       "3DS        30.96\n",
       "DS          0.85\n",
       "PC         25.36\n",
       "PS3        67.81\n",
       "PS4       141.09\n",
       "PSP         0.17\n",
       "PSV         6.10\n",
       "Wii         5.93\n",
       "WiiU       19.85\n",
       "X360       42.52\n",
       "XOne       51.59"
      ]
     },
     "execution_count": 57,
     "metadata": {},
     "output_type": "execute_result"
    }
   ],
   "source": [
    "platform_eu = last_platform.groupby('platform')['eu_sales'].agg(['sum'])\n",
    "platform_eu"
   ]
  },
  {
   "cell_type": "code",
   "execution_count": 58,
   "id": "a99ecce0",
   "metadata": {},
   "outputs": [
    {
     "data": {
      "image/png": "[encoded data removed]",
      "text/plain": [
       "<Figure size 640x480 with 1 Axes>"
      ]
     },
     "metadata": {},
     "output_type": "display_data"
    },
    {
     "data": {
      "image/png": "[encoded data removed]",
      "text/plain": [
       "<Figure size 640x480 with 1 Axes>"
      ]
     },
     "metadata": {},
     "output_type": "display_data"
    },
    {
     "data": {
      "image/png": "[encoded data removed]",
      "text/plain": [
       "<Figure size 640x480 with 1 Axes>"
      ]
     },
     "metadata": {},
     "output_type": "display_data"
    }
   ],
   "source": [
    "platform_eu = last_platform.pivot_table(index='platform', values='eu_sales', aggfunc='sum').\\\n",
    "sort_values('eu_sales').plot(kind='bar', color='green')\n",
    "\n",
    "platform_eu = last_platform.pivot_table(index='genre', values='eu_sales', aggfunc='sum').\\\n",
    "sort_values('eu_sales').plot(kind='bar', color='yellow')\n",
    "\n",
    "platform_eu = last_platform.pivot_table(index='rating', values='eu_sales', aggfunc='sum').\\\n",
    "sort_values('eu_sales').plot(kind='bar', color='orange')"
   ]
  },
  {
   "cell_type": "markdown",
   "id": "f538e1e7",
   "metadata": {},
   "source": [
    "Топ 5 платформ в Европе: PS4, PS3, XOne, X360, 3DS.\n",
    "\n",
    "Топ 5 популярных жанров в Европе: action, shooter, sports, role-playing, racing.\n",
    "\n",
    "По рейтингу ESRB в Европе лидируют игры для взрослых(M) и для всех(E)."
   ]
  },
  {
   "cell_type": "code",
   "execution_count": 59,
   "id": "bc5b5bdf",
   "metadata": {},
   "outputs": [
    {
     "data": {
      "text/html": [
       "<div>\n",
       "<style scoped>\n",
       "    .dataframe tbody tr th:only-of-type {\n",
       "        vertical-align: middle;\n",
       "    }\n",
       "\n",
       "    .dataframe tbody tr th {\n",
       "        vertical-align: top;\n",
       "    }\n",
       "\n",
       "    .dataframe thead th {\n",
       "        text-align: right;\n",
       "    }\n",
       "</style>\n",
       "<table border=\"1\" class=\"dataframe\">\n",
       "  <thead>\n",
       "    <tr style=\"text-align: right;\">\n",
       "      <th></th>\n",
       "      <th>sum</th>\n",
       "    </tr>\n",
       "    <tr>\n",
       "      <th>platform</th>\n",
       "      <th></th>\n",
       "    </tr>\n",
       "  </thead>\n",
       "  <tbody>\n",
       "    <tr>\n",
       "      <th>3DS</th>\n",
       "      <td>67.81</td>\n",
       "    </tr>\n",
       "    <tr>\n",
       "      <th>DS</th>\n",
       "      <td>0.00</td>\n",
       "    </tr>\n",
       "    <tr>\n",
       "      <th>PC</th>\n",
       "      <td>0.00</td>\n",
       "    </tr>\n",
       "    <tr>\n",
       "      <th>PS3</th>\n",
       "      <td>23.35</td>\n",
       "    </tr>\n",
       "    <tr>\n",
       "      <th>PS4</th>\n",
       "      <td>15.96</td>\n",
       "    </tr>\n",
       "    <tr>\n",
       "      <th>PSP</th>\n",
       "      <td>3.29</td>\n",
       "    </tr>\n",
       "    <tr>\n",
       "      <th>PSV</th>\n",
       "      <td>18.59</td>\n",
       "    </tr>\n",
       "    <tr>\n",
       "      <th>Wii</th>\n",
       "      <td>0.05</td>\n",
       "    </tr>\n",
       "    <tr>\n",
       "      <th>WiiU</th>\n",
       "      <td>10.88</td>\n",
       "    </tr>\n",
       "    <tr>\n",
       "      <th>X360</th>\n",
       "      <td>0.51</td>\n",
       "    </tr>\n",
       "    <tr>\n",
       "      <th>XOne</th>\n",
       "      <td>0.34</td>\n",
       "    </tr>\n",
       "  </tbody>\n",
       "</table>\n",
       "</div>"
      ],
      "text/plain": [
       "            sum\n",
       "platform       \n",
       "3DS       67.81\n",
       "DS         0.00\n",
       "PC         0.00\n",
       "PS3       23.35\n",
       "PS4       15.96\n",
       "PSP        3.29\n",
       "PSV       18.59\n",
       "Wii        0.05\n",
       "WiiU      10.88\n",
       "X360       0.51\n",
       "XOne       0.34"
      ]
     },
     "execution_count": 59,
     "metadata": {},
     "output_type": "execute_result"
    }
   ],
   "source": [
    "platform_jp = last_platform.groupby('platform')['jp_sales'].agg(['sum'])\n",
    "platform_jp"
   ]
  },
  {
   "cell_type": "code",
   "execution_count": 60,
   "id": "54a65c0e",
   "metadata": {},
   "outputs": [
    {
     "data": {
      "image/png": "[encoded data removed]",
      "text/plain": [
       "<Figure size 640x480 with 1 Axes>"
      ]
     },
     "metadata": {},
     "output_type": "display_data"
    },
    {
     "data": {
      "image/png": "[encoded data removed]",
      "text/plain": [
       "<Figure size 640x480 with 1 Axes>"
      ]
     },
     "metadata": {},
     "output_type": "display_data"
    },
    {
     "data": {
      "image/png": "[encoded data removed]",
      "text/plain": [
       "<Figure size 640x480 with 1 Axes>"
      ]
     },
     "metadata": {},
     "output_type": "display_data"
    }
   ],
   "source": [
    "platform_jp = last_platform.pivot_table(index='platform', values='jp_sales', aggfunc='sum').\\\n",
    "sort_values('jp_sales').plot(kind='bar', color='green')\n",
    "\n",
    "platform_jp = last_platform.pivot_table(index='genre', values='jp_sales', aggfunc='sum').\\\n",
    "sort_values('jp_sales').plot(kind='bar', color='yellow')\n",
    "\n",
    "platform_jp = last_platform.pivot_table(index='rating', values='jp_sales', aggfunc='sum').\\\n",
    "sort_values('jp_sales').plot(kind='bar', color='orange')"
   ]
  },
  {
   "cell_type": "markdown",
   "id": "336d1181",
   "metadata": {},
   "source": [
    "Топ 5 платформ в Японии: 3DS, PS3, PSV, PS4, WiiU.\n",
    "\n",
    "Топ 5 популярных жанров в Японии:role-playing, action, misc, fighting, shooter.\n",
    "\n",
    "По рейтингу ESRB в Японии лидируют игры для подростков(T) и для для всех(E)."
   ]
  },
  {
   "cell_type": "markdown",
   "id": "8f71d3c6",
   "metadata": {},
   "source": [
    "**Вывод:  В Северной Америке и Европе есть общее, что пользователи предпочитают PS4 и XOne. А в Японии больше предпочтение отдают 3DS.**\n",
    "\n",
    "**В Северной Америке и Европе предпочитают жанры: action и shooter. А в Японии больше любят role-playing, action на втором месте.**\n",
    "\n",
    ".**Также По рейтингу ESRB в Северной Америке и в Европе лидируют игры для взрослых(M) и для всех(E). А в Японии лидируют игры подростков(T) и для для всех(E).**\n",
    "\n",
    "**В Северной Америке лидер по продажам  PS4 ,108 млн. продаж за 4 года.**\n",
    "\n",
    "**В Европе лидер по продажам  PS4, 141 млн. продаж за 4 года.**\n",
    "\n",
    "**В Японии лидер по продажам  3DS, 67 млн. продаж за 4 года.**"
   ]
  },
  {
   "cell_type": "markdown",
   "id": "61e2a17c",
   "metadata": {},
   "source": [
    "### Проверка гипотез."
   ]
  },
  {
   "cell_type": "markdown",
   "id": "893eec40",
   "metadata": {},
   "source": [
    "Проверка гипотезы: средние пользовательские рейтинги платформ Xbox One и PC одинаковые.\n",
    "\n",
    "H_0: средние пользовательские рейтинги (user_score) платформы \"XOne\" = средние пользовательские рейтинги (user_score) платформы \"PC\"\n",
    "\n",
    "H_1: средние пользовательские рейтинги (user_score) платформы \"XOne\" ≠ средние пользовательские рейтинги (user_score) платформы\n",
    "\"PC\"\n",
    "\n",
    "alpha = 0.05"
   ]
  },
  {
   "cell_type": "markdown",
   "id": "e4b3a4a4",
   "metadata": {},
   "source": [
    "Для корректного подсчёта среднего в столбце user_score удалим строки с пропусками в столбце user_score, так как, если их не удалить, то p-value будет некорректным. Пропусков очень много, но удалять их уже не страшно, так как это последняя задача проекта, исследование на этом закончится."
   ]
  },
  {
   "cell_type": "code",
   "execution_count": 61,
   "id": "38e24783",
   "metadata": {},
   "outputs": [
    {
     "data": {
      "text/plain": [
       "1041"
      ]
     },
     "execution_count": 61,
     "metadata": {},
     "output_type": "execute_result"
    }
   ],
   "source": [
    "last_platform['user_score'].isna().sum()"
   ]
  },
  {
   "cell_type": "code",
   "execution_count": 62,
   "id": "abb157d7",
   "metadata": {},
   "outputs": [],
   "source": [
    "last_platform = last_platform.dropna(subset = ['user_score'])"
   ]
  },
  {
   "cell_type": "code",
   "execution_count": 63,
   "id": "8c297803",
   "metadata": {},
   "outputs": [
    {
     "data": {
      "text/plain": [
       "0"
      ]
     },
     "execution_count": 63,
     "metadata": {},
     "output_type": "execute_result"
    }
   ],
   "source": [
    "last_platform['user_score'].isna().sum()"
   ]
  },
  {
   "cell_type": "code",
   "execution_count": 64,
   "id": "a8f377d1",
   "metadata": {},
   "outputs": [
    {
     "name": "stdout",
     "output_type": "stream",
     "text": [
      "0.14759594013430463\n",
      "Не получилось отвергнуть нулевую гипотезу\n"
     ]
    }
   ],
   "source": [
    "mean_user_score_xone = last_platform[last_platform['platform'] =='XOne']['user_score']\n",
    "mean_user_score_pc = last_platform[last_platform['platform'] =='PC']['user_score']\n",
    "\n",
    "results = st.ttest_ind(mean_user_score_xone, mean_user_score_pc, equal_var=False)\n",
    "\n",
    "alpha = 0.05\n",
    "\n",
    "print(results.pvalue)\n",
    "\n",
    "if results.pvalue < alpha:\n",
    "    print('Отвергаем нулевую гипотезу')\n",
    "else:\n",
    "    print('Не получилось отвергнуть нулевую гипотезу') "
   ]
  },
  {
   "cell_type": "markdown",
   "id": "8dff67ab",
   "metadata": {},
   "source": [
    "Не получилось отвергнуть нулевую гипотезу. Значит нет оснований утверждать, что средние рейтингы пользователей XOne и PC различаются."
   ]
  },
  {
   "cell_type": "markdown",
   "id": "5f3fcd6b",
   "metadata": {},
   "source": [
    "Проверка гипотезы: Средние пользовательские рейтинги жанров Action и Sports разные.\n",
    "\n",
    "H_0: средние пользовательские рейтинги (user_score) жанра \"Action\" = средние пользовательские рейтинги (user_score) жанра \"Sports\"\n",
    "\n",
    "H_1: средние пользовательские рейтинги (user_score) жанра \"Action\" ≠ средние пользовательские рейтинги (user_score) жанра \"Sports\"\n",
    "\n",
    "alpha = 0.05"
   ]
  },
  {
   "cell_type": "code",
   "execution_count": 65,
   "id": "d4469e72",
   "metadata": {},
   "outputs": [
    {
     "name": "stdout",
     "output_type": "stream",
     "text": [
      "1.4460039700704315e-20\n",
      "Отвергаем нулевую гипотезу\n"
     ]
    }
   ],
   "source": [
    "mean_user_score_action = last_platform[last_platform['genre'] =='Action']['user_score']\n",
    "mean_user_score_sports = last_platform[last_platform['genre'] =='Sports']['user_score']\n",
    "\n",
    "results = st.ttest_ind(mean_user_score_action, mean_user_score_sports, equal_var=False)\n",
    "\n",
    "alpha = 0.05\n",
    "\n",
    "print(results.pvalue)\n",
    "\n",
    "if results.pvalue < alpha:\n",
    "    print('Отвергаем нулевую гипотезу')\n",
    "else:\n",
    "    print('Не получилось отвергнуть нулевую гипотезу') "
   ]
  },
  {
   "cell_type": "markdown",
   "id": "22c24065",
   "metadata": {},
   "source": [
    "Принимаем альтернативную гипотезу. Значит есть основания утверждать, что cредние пользовательские рейтинги жанров Action и Sports разные."
   ]
  },
  {
   "cell_type": "markdown",
   "id": "7783bd62",
   "metadata": {},
   "source": [
    "## Общий вывод по проекту: \n",
    "\n",
    "**В ходе выполнения проекта провели предобработку данных: обработали пропуски категоризовали столбец с ESRB(это ассоциация, которая определяет рейтинг компьютерных игр и присваивает им подходящую возрастную категорию), привели данные к нужному типу.**\n",
    "\n",
    "**В ходе исследования выяснили, что с 1991 года пошёл рост выпуска игр. Больше всего игр было выпущено в 2008 и 2009 годах, но к 2016 году количество выпуска игр сократилось примерно в 2.5 раза в сравнении с пиковым значением.**\n",
    "\n",
    "**В среднем за 10 лет с момента своего появления платформа теряет свою актуальность.**\n",
    "\n",
    "**За последние 4 года, с 2013 по 2016 по продажам лидируют: PS4, PS3, XOne. Самые прибыльные жанры: shooter, sports, Platform. Самые неприбыльные: adventury, puzzle, strategy.**\n",
    "\n",
    "**По диаграмме рассеяния и расчета коэффициента корреляции сделали вывод, что отзывы пользователей никак не влияют на продажи игр, отзывы критиков также большого значения не имеют.**\n",
    "\n",
    "**По \"Ящику с усами\" опредидили, что выбросы есть во всех топовых платформах(PS3, XOne, PS4). Это значит, что есть игры, которые очень популярные, и их продаж было аномально много в сравнении с другими играми.**\n",
    "\n",
    "**В Северной Америке и Европе есть общее, что пользователи предпочитают PS4 и XOne. А в Японии больше предпочтение отдают 3DS. В Северной Америке и Европе предпочитают жанры: action и shooter. А в Японии больше любят role-playing, action на втором месте. Также По рейтингу ESRB в Северной Америке и в Европе лидируют игры для взрослых(M) и для всех(E). А в Японии лидируют игры подростков(T) и для для всех(E).**\n",
    "\n",
    "**За 4 года, с 2013 по 2016 год:**\n",
    "\n",
    "**В Северной Америке лидер по продажам  PS4 ,108 млн. продаж. В Европе лидер по продажам  PS4, 141 млн. продаж. В Японии лидер по продажам  3DS, 67 млн. продаж.**\n",
    "\n",
    "**Проверили 2 гипотезы и выяснили, что:**\n",
    "\n",
    "**Нет оснований утверждать, что средние рейтингы пользователей XOne и PC различаются.**\n",
    "\n",
    "**Есть основания утверждать, что cредние пользовательские рейтинги жанров Action и Sports разные.**"
   ]
  },
  {
   "cell_type": "code",
   "execution_count": null,
   "id": "6ea4fb66",
   "metadata": {},
   "outputs": [],
   "source": []
  }
 ],
 "metadata": {
  "ExecuteTimeLog": [
   {
    "duration": 1134,
    "start_time": "2023-02-11T14:57:40.174Z"
   },
   {
    "duration": 68,
    "start_time": "2023-02-11T14:57:41.310Z"
   },
   {
    "duration": 13,
    "start_time": "2023-02-11T14:57:41.379Z"
   },
   {
    "duration": 696,
    "start_time": "2023-02-11T14:57:41.394Z"
   },
   {
    "duration": 3,
    "start_time": "2023-02-11T14:57:42.091Z"
   },
   {
    "duration": 18,
    "start_time": "2023-02-11T14:57:42.096Z"
   },
   {
    "duration": 14,
    "start_time": "2023-02-11T14:57:42.116Z"
   },
   {
    "duration": 9,
    "start_time": "2023-02-11T14:57:42.131Z"
   },
   {
    "duration": 14,
    "start_time": "2023-02-11T14:57:42.141Z"
   },
   {
    "duration": 13,
    "start_time": "2023-02-11T14:57:42.158Z"
   },
   {
    "duration": 8,
    "start_time": "2023-02-11T14:57:42.173Z"
   },
   {
    "duration": 12,
    "start_time": "2023-02-11T14:57:42.183Z"
   },
   {
    "duration": 25,
    "start_time": "2023-02-11T14:57:42.197Z"
   },
   {
    "duration": 16,
    "start_time": "2023-02-11T14:57:42.224Z"
   },
   {
    "duration": 14,
    "start_time": "2023-02-11T14:57:42.241Z"
   },
   {
    "duration": 8,
    "start_time": "2023-02-11T14:57:42.256Z"
   },
   {
    "duration": 17,
    "start_time": "2023-02-11T14:57:42.266Z"
   },
   {
    "duration": 38,
    "start_time": "2023-02-11T14:57:42.285Z"
   },
   {
    "duration": 6,
    "start_time": "2023-02-11T14:57:42.324Z"
   },
   {
    "duration": 11,
    "start_time": "2023-02-11T14:57:42.331Z"
   },
   {
    "duration": 12,
    "start_time": "2023-02-11T14:57:42.344Z"
   },
   {
    "duration": 18,
    "start_time": "2023-02-11T14:57:42.358Z"
   },
   {
    "duration": 15,
    "start_time": "2023-02-11T14:57:42.378Z"
   },
   {
    "duration": 16,
    "start_time": "2023-02-11T14:57:42.394Z"
   },
   {
    "duration": 4,
    "start_time": "2023-02-11T14:57:42.412Z"
   },
   {
    "duration": 22,
    "start_time": "2023-02-11T14:57:42.417Z"
   },
   {
    "duration": 303,
    "start_time": "2023-02-11T14:57:42.440Z"
   },
   {
    "duration": 266,
    "start_time": "2023-02-11T14:57:42.747Z"
   },
   {
    "duration": 6,
    "start_time": "2023-02-11T14:57:43.015Z"
   },
   {
    "duration": 242,
    "start_time": "2023-02-11T14:57:43.024Z"
   },
   {
    "duration": 4,
    "start_time": "2023-02-11T14:57:43.268Z"
   },
   {
    "duration": 201,
    "start_time": "2023-02-11T14:57:43.274Z"
   },
   {
    "duration": 6,
    "start_time": "2023-02-11T14:57:43.477Z"
   },
   {
    "duration": 197,
    "start_time": "2023-02-11T14:57:43.485Z"
   },
   {
    "duration": 5,
    "start_time": "2023-02-11T14:57:43.684Z"
   },
   {
    "duration": 172,
    "start_time": "2023-02-11T14:57:43.691Z"
   },
   {
    "duration": 5,
    "start_time": "2023-02-11T14:57:43.865Z"
   },
   {
    "duration": 167,
    "start_time": "2023-02-11T14:57:43.872Z"
   },
   {
    "duration": 6,
    "start_time": "2023-02-11T14:57:44.040Z"
   },
   {
    "duration": 168,
    "start_time": "2023-02-11T14:57:44.047Z"
   },
   {
    "duration": 135,
    "start_time": "2023-02-11T14:57:44.216Z"
   },
   {
    "duration": 137,
    "start_time": "2023-02-11T14:57:44.353Z"
   },
   {
    "duration": 128,
    "start_time": "2023-02-11T14:57:44.492Z"
   },
   {
    "duration": 164,
    "start_time": "2023-02-11T14:57:44.621Z"
   },
   {
    "duration": 33,
    "start_time": "2023-02-11T14:57:44.787Z"
   },
   {
    "duration": 241,
    "start_time": "2023-02-11T14:57:44.822Z"
   },
   {
    "duration": 5,
    "start_time": "2023-02-11T14:57:45.065Z"
   },
   {
    "duration": 354,
    "start_time": "2023-02-11T14:57:45.072Z"
   },
   {
    "duration": 6,
    "start_time": "2023-02-11T14:57:45.427Z"
   },
   {
    "duration": 282,
    "start_time": "2023-02-11T14:57:45.435Z"
   },
   {
    "duration": 6,
    "start_time": "2023-02-11T14:57:45.719Z"
   },
   {
    "duration": 173,
    "start_time": "2023-02-11T14:57:45.727Z"
   },
   {
    "duration": 13,
    "start_time": "2023-02-11T14:57:45.902Z"
   },
   {
    "duration": 441,
    "start_time": "2023-02-11T14:57:45.917Z"
   },
   {
    "duration": 9,
    "start_time": "2023-02-11T14:57:46.361Z"
   },
   {
    "duration": 510,
    "start_time": "2023-02-11T14:57:46.372Z"
   },
   {
    "duration": 9,
    "start_time": "2023-02-11T14:57:46.884Z"
   },
   {
    "duration": 443,
    "start_time": "2023-02-11T14:57:46.895Z"
   },
   {
    "duration": 7,
    "start_time": "2023-02-11T14:57:47.339Z"
   },
   {
    "duration": 7,
    "start_time": "2023-02-11T14:57:47.348Z"
   },
   {
    "duration": 1074,
    "start_time": "2023-02-12T12:16:47.007Z"
   },
   {
    "duration": 222,
    "start_time": "2023-02-12T12:16:48.083Z"
   },
   {
    "duration": 14,
    "start_time": "2023-02-12T12:16:48.307Z"
   },
   {
    "duration": 769,
    "start_time": "2023-02-12T12:16:48.324Z"
   },
   {
    "duration": 3,
    "start_time": "2023-02-12T12:16:49.095Z"
   },
   {
    "duration": 16,
    "start_time": "2023-02-12T12:16:49.099Z"
   },
   {
    "duration": 14,
    "start_time": "2023-02-12T12:16:49.116Z"
   },
   {
    "duration": 9,
    "start_time": "2023-02-12T12:16:49.132Z"
   },
   {
    "duration": 14,
    "start_time": "2023-02-12T12:16:49.142Z"
   },
   {
    "duration": 33,
    "start_time": "2023-02-12T12:16:49.158Z"
   },
   {
    "duration": 18,
    "start_time": "2023-02-12T12:16:49.193Z"
   },
   {
    "duration": 7,
    "start_time": "2023-02-12T12:16:49.213Z"
   },
   {
    "duration": 18,
    "start_time": "2023-02-12T12:16:49.222Z"
   },
   {
    "duration": 16,
    "start_time": "2023-02-12T12:16:49.241Z"
   },
   {
    "duration": 14,
    "start_time": "2023-02-12T12:16:49.258Z"
   },
   {
    "duration": 22,
    "start_time": "2023-02-12T12:16:49.274Z"
   },
   {
    "duration": 15,
    "start_time": "2023-02-12T12:16:49.298Z"
   },
   {
    "duration": 18,
    "start_time": "2023-02-12T12:16:49.315Z"
   },
   {
    "duration": 7,
    "start_time": "2023-02-12T12:16:49.334Z"
   },
   {
    "duration": 14,
    "start_time": "2023-02-12T12:16:49.342Z"
   },
   {
    "duration": 16,
    "start_time": "2023-02-12T12:16:49.358Z"
   },
   {
    "duration": 4,
    "start_time": "2023-02-12T12:16:49.390Z"
   },
   {
    "duration": 18,
    "start_time": "2023-02-12T12:16:49.396Z"
   },
   {
    "duration": 16,
    "start_time": "2023-02-12T12:16:49.415Z"
   },
   {
    "duration": 5,
    "start_time": "2023-02-12T12:16:49.433Z"
   },
   {
    "duration": 24,
    "start_time": "2023-02-12T12:16:49.439Z"
   },
   {
    "duration": 323,
    "start_time": "2023-02-12T12:16:49.464Z"
   },
   {
    "duration": 284,
    "start_time": "2023-02-12T12:16:49.790Z"
   },
   {
    "duration": 5,
    "start_time": "2023-02-12T12:16:50.076Z"
   },
   {
    "duration": 235,
    "start_time": "2023-02-12T12:16:50.091Z"
   },
   {
    "duration": 6,
    "start_time": "2023-02-12T12:16:50.328Z"
   },
   {
    "duration": 195,
    "start_time": "2023-02-12T12:16:50.336Z"
   },
   {
    "duration": 5,
    "start_time": "2023-02-12T12:16:50.532Z"
   },
   {
    "duration": 189,
    "start_time": "2023-02-12T12:16:50.539Z"
   },
   {
    "duration": 5,
    "start_time": "2023-02-12T12:16:50.730Z"
   },
   {
    "duration": 181,
    "start_time": "2023-02-12T12:16:50.737Z"
   },
   {
    "duration": 5,
    "start_time": "2023-02-12T12:16:50.920Z"
   },
   {
    "duration": 185,
    "start_time": "2023-02-12T12:16:50.926Z"
   },
   {
    "duration": 6,
    "start_time": "2023-02-12T12:16:51.113Z"
   },
   {
    "duration": 160,
    "start_time": "2023-02-12T12:16:51.120Z"
   },
   {
    "duration": 135,
    "start_time": "2023-02-12T12:16:51.281Z"
   },
   {
    "duration": 135,
    "start_time": "2023-02-12T12:16:51.418Z"
   },
   {
    "duration": 136,
    "start_time": "2023-02-12T12:16:51.555Z"
   },
   {
    "duration": 163,
    "start_time": "2023-02-12T12:16:51.692Z"
   },
   {
    "duration": 35,
    "start_time": "2023-02-12T12:16:51.857Z"
   },
   {
    "duration": 221,
    "start_time": "2023-02-12T12:16:51.894Z"
   },
   {
    "duration": 5,
    "start_time": "2023-02-12T12:16:52.117Z"
   },
   {
    "duration": 338,
    "start_time": "2023-02-12T12:16:52.123Z"
   },
   {
    "duration": 6,
    "start_time": "2023-02-12T12:16:52.462Z"
   },
   {
    "duration": 270,
    "start_time": "2023-02-12T12:16:52.469Z"
   },
   {
    "duration": 4,
    "start_time": "2023-02-12T12:16:52.741Z"
   },
   {
    "duration": 164,
    "start_time": "2023-02-12T12:16:52.746Z"
   },
   {
    "duration": 10,
    "start_time": "2023-02-12T12:16:52.911Z"
   },
   {
    "duration": 428,
    "start_time": "2023-02-12T12:16:52.923Z"
   },
   {
    "duration": 9,
    "start_time": "2023-02-12T12:16:53.353Z"
   },
   {
    "duration": 440,
    "start_time": "2023-02-12T12:16:53.363Z"
   },
   {
    "duration": 10,
    "start_time": "2023-02-12T12:16:53.805Z"
   },
   {
    "duration": 420,
    "start_time": "2023-02-12T12:16:53.817Z"
   },
   {
    "duration": 8,
    "start_time": "2023-02-12T12:16:54.238Z"
   },
   {
    "duration": 10,
    "start_time": "2023-02-12T12:16:54.247Z"
   },
   {
    "duration": 1430,
    "start_time": "2023-02-12T16:08:04.579Z"
   },
   {
    "duration": 224,
    "start_time": "2023-02-12T16:08:06.011Z"
   },
   {
    "duration": 17,
    "start_time": "2023-02-12T16:08:06.237Z"
   },
   {
    "duration": 820,
    "start_time": "2023-02-12T16:08:06.257Z"
   },
   {
    "duration": 4,
    "start_time": "2023-02-12T16:08:07.079Z"
   },
   {
    "duration": 17,
    "start_time": "2023-02-12T16:08:07.085Z"
   },
   {
    "duration": 35,
    "start_time": "2023-02-12T16:08:07.104Z"
   },
   {
    "duration": 14,
    "start_time": "2023-02-12T16:08:07.141Z"
   },
   {
    "duration": 21,
    "start_time": "2023-02-12T16:08:07.157Z"
   },
   {
    "duration": 8,
    "start_time": "2023-02-12T16:08:07.182Z"
   },
   {
    "duration": 38,
    "start_time": "2023-02-12T16:08:07.191Z"
   },
   {
    "duration": 8,
    "start_time": "2023-02-12T16:08:07.231Z"
   },
   {
    "duration": 17,
    "start_time": "2023-02-12T16:08:07.241Z"
   },
   {
    "duration": 15,
    "start_time": "2023-02-12T16:08:07.260Z"
   },
   {
    "duration": 17,
    "start_time": "2023-02-12T16:08:07.277Z"
   },
   {
    "duration": 7,
    "start_time": "2023-02-12T16:08:07.321Z"
   },
   {
    "duration": 11,
    "start_time": "2023-02-12T16:08:07.330Z"
   },
   {
    "duration": 22,
    "start_time": "2023-02-12T16:08:07.343Z"
   },
   {
    "duration": 8,
    "start_time": "2023-02-12T16:08:07.367Z"
   },
   {
    "duration": 8,
    "start_time": "2023-02-12T16:08:07.377Z"
   },
   {
    "duration": 46,
    "start_time": "2023-02-12T16:08:07.387Z"
   },
   {
    "duration": 6,
    "start_time": "2023-02-12T16:08:07.435Z"
   },
   {
    "duration": 22,
    "start_time": "2023-02-12T16:08:07.442Z"
   },
   {
    "duration": 16,
    "start_time": "2023-02-12T16:08:07.466Z"
   },
   {
    "duration": 5,
    "start_time": "2023-02-12T16:08:07.484Z"
   },
   {
    "duration": 15,
    "start_time": "2023-02-12T16:08:07.521Z"
   },
   {
    "duration": 330,
    "start_time": "2023-02-12T16:08:07.538Z"
   },
   {
    "duration": 304,
    "start_time": "2023-02-12T16:08:07.874Z"
   },
   {
    "duration": 5,
    "start_time": "2023-02-12T16:08:08.180Z"
   },
   {
    "duration": 278,
    "start_time": "2023-02-12T16:08:08.187Z"
   },
   {
    "duration": 6,
    "start_time": "2023-02-12T16:08:08.467Z"
   },
   {
    "duration": 199,
    "start_time": "2023-02-12T16:08:08.475Z"
   },
   {
    "duration": 7,
    "start_time": "2023-02-12T16:08:08.676Z"
   },
   {
    "duration": 196,
    "start_time": "2023-02-12T16:08:08.685Z"
   },
   {
    "duration": 7,
    "start_time": "2023-02-12T16:08:08.882Z"
   },
   {
    "duration": 195,
    "start_time": "2023-02-12T16:08:08.891Z"
   },
   {
    "duration": 6,
    "start_time": "2023-02-12T16:08:09.088Z"
   },
   {
    "duration": 182,
    "start_time": "2023-02-12T16:08:09.095Z"
   },
   {
    "duration": 8,
    "start_time": "2023-02-12T16:08:09.279Z"
   },
   {
    "duration": 208,
    "start_time": "2023-02-12T16:08:09.289Z"
   },
   {
    "duration": 166,
    "start_time": "2023-02-12T16:08:09.499Z"
   },
   {
    "duration": 158,
    "start_time": "2023-02-12T16:08:09.666Z"
   },
   {
    "duration": 150,
    "start_time": "2023-02-12T16:08:09.826Z"
   },
   {
    "duration": 184,
    "start_time": "2023-02-12T16:08:09.977Z"
   },
   {
    "duration": 21,
    "start_time": "2023-02-12T16:08:10.163Z"
   },
   {
    "duration": 283,
    "start_time": "2023-02-12T16:08:10.186Z"
   },
   {
    "duration": 6,
    "start_time": "2023-02-12T16:08:10.470Z"
   },
   {
    "duration": 389,
    "start_time": "2023-02-12T16:08:10.479Z"
   },
   {
    "duration": 5,
    "start_time": "2023-02-12T16:08:10.870Z"
   },
   {
    "duration": 327,
    "start_time": "2023-02-12T16:08:10.877Z"
   },
   {
    "duration": 15,
    "start_time": "2023-02-12T16:08:11.205Z"
   },
   {
    "duration": 213,
    "start_time": "2023-02-12T16:08:11.222Z"
   },
   {
    "duration": 14,
    "start_time": "2023-02-12T16:08:11.438Z"
   },
   {
    "duration": 35,
    "start_time": "2023-02-12T16:08:11.454Z"
   },
   {
    "duration": 571,
    "start_time": "2023-02-12T16:08:11.492Z"
   },
   {
    "duration": 10,
    "start_time": "2023-02-12T16:08:12.065Z"
   },
   {
    "duration": 530,
    "start_time": "2023-02-12T16:08:12.077Z"
   },
   {
    "duration": 13,
    "start_time": "2023-02-12T16:08:12.609Z"
   },
   {
    "duration": 498,
    "start_time": "2023-02-12T16:08:12.623Z"
   },
   {
    "duration": 10,
    "start_time": "2023-02-12T16:08:13.123Z"
   },
   {
    "duration": 11,
    "start_time": "2023-02-12T16:08:13.134Z"
   },
   {
    "duration": 5,
    "start_time": "2023-02-12T16:08:37.810Z"
   },
   {
    "duration": 6,
    "start_time": "2023-02-12T16:09:03.686Z"
   },
   {
    "duration": 541,
    "start_time": "2023-02-12T16:09:05.560Z"
   },
   {
    "duration": 1231,
    "start_time": "2023-02-12T16:09:57.213Z"
   },
   {
    "duration": 80,
    "start_time": "2023-02-12T16:09:58.446Z"
   },
   {
    "duration": 22,
    "start_time": "2023-02-12T16:09:58.528Z"
   },
   {
    "duration": 822,
    "start_time": "2023-02-12T16:09:58.552Z"
   },
   {
    "duration": 3,
    "start_time": "2023-02-12T16:09:59.376Z"
   },
   {
    "duration": 17,
    "start_time": "2023-02-12T16:09:59.381Z"
   },
   {
    "duration": 23,
    "start_time": "2023-02-12T16:09:59.400Z"
   },
   {
    "duration": 9,
    "start_time": "2023-02-12T16:09:59.425Z"
   },
   {
    "duration": 16,
    "start_time": "2023-02-12T16:09:59.436Z"
   },
   {
    "duration": 11,
    "start_time": "2023-02-12T16:09:59.455Z"
   },
   {
    "duration": 10,
    "start_time": "2023-02-12T16:09:59.468Z"
   },
   {
    "duration": 45,
    "start_time": "2023-02-12T16:09:59.480Z"
   },
   {
    "duration": 16,
    "start_time": "2023-02-12T16:09:59.527Z"
   },
   {
    "duration": 19,
    "start_time": "2023-02-12T16:09:59.544Z"
   },
   {
    "duration": 15,
    "start_time": "2023-02-12T16:09:59.565Z"
   },
   {
    "duration": 8,
    "start_time": "2023-02-12T16:09:59.582Z"
   },
   {
    "duration": 38,
    "start_time": "2023-02-12T16:09:59.591Z"
   },
   {
    "duration": 21,
    "start_time": "2023-02-12T16:09:59.630Z"
   },
   {
    "duration": 7,
    "start_time": "2023-02-12T16:09:59.652Z"
   },
   {
    "duration": 8,
    "start_time": "2023-02-12T16:09:59.662Z"
   },
   {
    "duration": 15,
    "start_time": "2023-02-12T16:09:59.672Z"
   },
   {
    "duration": 32,
    "start_time": "2023-02-12T16:09:59.689Z"
   },
   {
    "duration": 14,
    "start_time": "2023-02-12T16:09:59.723Z"
   },
   {
    "duration": 14,
    "start_time": "2023-02-12T16:09:59.739Z"
   },
   {
    "duration": 5,
    "start_time": "2023-02-12T16:09:59.755Z"
   },
   {
    "duration": 17,
    "start_time": "2023-02-12T16:09:59.761Z"
   },
   {
    "duration": 368,
    "start_time": "2023-02-12T16:09:59.780Z"
   },
   {
    "duration": 311,
    "start_time": "2023-02-12T16:10:00.153Z"
   },
   {
    "duration": 6,
    "start_time": "2023-02-12T16:10:00.466Z"
   },
   {
    "duration": 284,
    "start_time": "2023-02-12T16:10:00.474Z"
   },
   {
    "duration": 6,
    "start_time": "2023-02-12T16:10:00.760Z"
   },
   {
    "duration": 208,
    "start_time": "2023-02-12T16:10:00.767Z"
   },
   {
    "duration": 5,
    "start_time": "2023-02-12T16:10:00.977Z"
   },
   {
    "duration": 196,
    "start_time": "2023-02-12T16:10:00.984Z"
   },
   {
    "duration": 6,
    "start_time": "2023-02-12T16:10:01.181Z"
   },
   {
    "duration": 197,
    "start_time": "2023-02-12T16:10:01.189Z"
   },
   {
    "duration": 5,
    "start_time": "2023-02-12T16:10:01.388Z"
   },
   {
    "duration": 212,
    "start_time": "2023-02-12T16:10:01.395Z"
   },
   {
    "duration": 13,
    "start_time": "2023-02-12T16:10:01.609Z"
   },
   {
    "duration": 203,
    "start_time": "2023-02-12T16:10:01.624Z"
   },
   {
    "duration": 159,
    "start_time": "2023-02-12T16:10:01.829Z"
   },
   {
    "duration": 156,
    "start_time": "2023-02-12T16:10:01.989Z"
   },
   {
    "duration": 152,
    "start_time": "2023-02-12T16:10:02.148Z"
   },
   {
    "duration": 190,
    "start_time": "2023-02-12T16:10:02.303Z"
   },
   {
    "duration": 27,
    "start_time": "2023-02-12T16:10:02.495Z"
   },
   {
    "duration": 283,
    "start_time": "2023-02-12T16:10:02.524Z"
   },
   {
    "duration": 15,
    "start_time": "2023-02-12T16:10:02.809Z"
   },
   {
    "duration": 414,
    "start_time": "2023-02-12T16:10:02.826Z"
   },
   {
    "duration": 6,
    "start_time": "2023-02-12T16:10:03.242Z"
   },
   {
    "duration": 323,
    "start_time": "2023-02-12T16:10:03.250Z"
   },
   {
    "duration": 6,
    "start_time": "2023-02-12T16:10:03.575Z"
   },
   {
    "duration": 225,
    "start_time": "2023-02-12T16:10:03.583Z"
   },
   {
    "duration": 12,
    "start_time": "2023-02-12T16:10:03.809Z"
   },
   {
    "duration": 497,
    "start_time": "2023-02-12T16:10:03.823Z"
   },
   {
    "duration": 11,
    "start_time": "2023-02-12T16:10:04.322Z"
   },
   {
    "duration": 641,
    "start_time": "2023-02-12T16:10:04.335Z"
   },
   {
    "duration": 13,
    "start_time": "2023-02-12T16:10:04.977Z"
   },
   {
    "duration": 522,
    "start_time": "2023-02-12T16:10:04.992Z"
   },
   {
    "duration": 8,
    "start_time": "2023-02-12T16:10:05.520Z"
   },
   {
    "duration": 47,
    "start_time": "2023-02-12T16:10:05.530Z"
   },
   {
    "duration": 1110,
    "start_time": "2023-02-13T16:02:31.941Z"
   },
   {
    "duration": 73,
    "start_time": "2023-02-13T16:02:33.053Z"
   },
   {
    "duration": 16,
    "start_time": "2023-02-13T16:02:33.129Z"
   },
   {
    "duration": 11,
    "start_time": "2023-02-13T16:02:33.147Z"
   },
   {
    "duration": 15,
    "start_time": "2023-02-13T16:02:33.159Z"
   },
   {
    "duration": 747,
    "start_time": "2023-02-13T16:02:33.175Z"
   },
   {
    "duration": 4,
    "start_time": "2023-02-13T16:02:33.923Z"
   },
   {
    "duration": 17,
    "start_time": "2023-02-13T16:02:33.929Z"
   },
   {
    "duration": 27,
    "start_time": "2023-02-13T16:02:33.948Z"
   },
   {
    "duration": 26,
    "start_time": "2023-02-13T16:02:33.978Z"
   },
   {
    "duration": 18,
    "start_time": "2023-02-13T16:02:34.006Z"
   },
   {
    "duration": 15,
    "start_time": "2023-02-13T16:02:34.025Z"
   },
   {
    "duration": 18,
    "start_time": "2023-02-13T16:02:34.042Z"
   },
   {
    "duration": 21,
    "start_time": "2023-02-13T16:02:34.062Z"
   },
   {
    "duration": 24,
    "start_time": "2023-02-13T16:02:34.084Z"
   },
   {
    "duration": 14,
    "start_time": "2023-02-13T16:02:34.110Z"
   },
   {
    "duration": 15,
    "start_time": "2023-02-13T16:02:34.125Z"
   },
   {
    "duration": 9,
    "start_time": "2023-02-13T16:02:34.141Z"
   },
   {
    "duration": 16,
    "start_time": "2023-02-13T16:02:34.151Z"
   },
   {
    "duration": 51,
    "start_time": "2023-02-13T16:02:34.169Z"
   },
   {
    "duration": 8,
    "start_time": "2023-02-13T16:02:34.222Z"
   },
   {
    "duration": 6,
    "start_time": "2023-02-13T16:02:34.232Z"
   },
   {
    "duration": 27,
    "start_time": "2023-02-13T16:02:34.240Z"
   },
   {
    "duration": 20,
    "start_time": "2023-02-13T16:02:34.269Z"
   },
   {
    "duration": 22,
    "start_time": "2023-02-13T16:02:34.292Z"
   },
   {
    "duration": 18,
    "start_time": "2023-02-13T16:02:34.316Z"
   },
   {
    "duration": 5,
    "start_time": "2023-02-13T16:02:34.336Z"
   },
   {
    "duration": 19,
    "start_time": "2023-02-13T16:02:34.345Z"
   },
   {
    "duration": 361,
    "start_time": "2023-02-13T16:02:34.366Z"
   },
   {
    "duration": 326,
    "start_time": "2023-02-13T16:02:34.728Z"
   },
   {
    "duration": 6,
    "start_time": "2023-02-13T16:02:35.056Z"
   },
   {
    "duration": 273,
    "start_time": "2023-02-13T16:02:35.064Z"
   },
   {
    "duration": 7,
    "start_time": "2023-02-13T16:02:35.339Z"
   },
   {
    "duration": 194,
    "start_time": "2023-02-13T16:02:35.348Z"
   },
   {
    "duration": 5,
    "start_time": "2023-02-13T16:02:35.543Z"
   },
   {
    "duration": 182,
    "start_time": "2023-02-13T16:02:35.550Z"
   },
   {
    "duration": 4,
    "start_time": "2023-02-13T16:02:35.734Z"
   },
   {
    "duration": 201,
    "start_time": "2023-02-13T16:02:35.740Z"
   },
   {
    "duration": 6,
    "start_time": "2023-02-13T16:02:35.943Z"
   },
   {
    "duration": 169,
    "start_time": "2023-02-13T16:02:35.951Z"
   },
   {
    "duration": 6,
    "start_time": "2023-02-13T16:02:36.122Z"
   },
   {
    "duration": 171,
    "start_time": "2023-02-13T16:02:36.129Z"
   },
   {
    "duration": 141,
    "start_time": "2023-02-13T16:02:36.304Z"
   },
   {
    "duration": 148,
    "start_time": "2023-02-13T16:02:36.447Z"
   },
   {
    "duration": 147,
    "start_time": "2023-02-13T16:02:36.596Z"
   },
   {
    "duration": 214,
    "start_time": "2023-02-13T16:02:36.745Z"
   },
   {
    "duration": 24,
    "start_time": "2023-02-13T16:02:36.962Z"
   },
   {
    "duration": 284,
    "start_time": "2023-02-13T16:02:37.003Z"
   },
   {
    "duration": 15,
    "start_time": "2023-02-13T16:02:37.289Z"
   },
   {
    "duration": 367,
    "start_time": "2023-02-13T16:02:37.305Z"
   },
   {
    "duration": 6,
    "start_time": "2023-02-13T16:02:37.675Z"
   },
   {
    "duration": 311,
    "start_time": "2023-02-13T16:02:37.683Z"
   },
   {
    "duration": 10,
    "start_time": "2023-02-13T16:02:37.996Z"
   },
   {
    "duration": 182,
    "start_time": "2023-02-13T16:02:38.008Z"
   },
   {
    "duration": 13,
    "start_time": "2023-02-13T16:02:38.192Z"
   },
   {
    "duration": 478,
    "start_time": "2023-02-13T16:02:38.206Z"
   },
   {
    "duration": 10,
    "start_time": "2023-02-13T16:02:38.686Z"
   },
   {
    "duration": 492,
    "start_time": "2023-02-13T16:02:38.704Z"
   },
   {
    "duration": 10,
    "start_time": "2023-02-13T16:02:39.207Z"
   },
   {
    "duration": 467,
    "start_time": "2023-02-13T16:02:39.218Z"
   },
   {
    "duration": 6,
    "start_time": "2023-02-13T16:02:39.686Z"
   },
   {
    "duration": 158,
    "start_time": "2023-02-13T16:02:39.704Z"
   },
   {
    "duration": 8,
    "start_time": "2023-02-13T16:02:39.864Z"
   },
   {
    "duration": 9,
    "start_time": "2023-02-13T16:02:39.874Z"
   },
   {
    "duration": 16,
    "start_time": "2023-02-13T16:02:39.885Z"
   },
   {
    "duration": 8,
    "start_time": "2023-02-13T16:05:29.107Z"
   },
   {
    "duration": 6,
    "start_time": "2023-02-13T16:06:13.365Z"
   },
   {
    "duration": 9,
    "start_time": "2023-02-13T16:06:14.745Z"
   },
   {
    "duration": 5,
    "start_time": "2023-02-13T16:06:32.089Z"
   },
   {
    "duration": 7,
    "start_time": "2023-02-13T16:06:46.137Z"
   },
   {
    "duration": 5,
    "start_time": "2023-02-13T16:06:46.668Z"
   },
   {
    "duration": 6,
    "start_time": "2023-02-13T16:06:47.863Z"
   },
   {
    "duration": 6,
    "start_time": "2023-02-13T16:06:48.385Z"
   },
   {
    "duration": 8,
    "start_time": "2023-02-13T16:06:49.673Z"
   },
   {
    "duration": 5,
    "start_time": "2023-02-13T16:07:57.085Z"
   },
   {
    "duration": 6,
    "start_time": "2023-02-13T16:07:57.695Z"
   },
   {
    "duration": 5,
    "start_time": "2023-02-13T16:07:58.121Z"
   },
   {
    "duration": 6,
    "start_time": "2023-02-13T16:07:59.320Z"
   },
   {
    "duration": 6,
    "start_time": "2023-02-13T16:08:00.063Z"
   },
   {
    "duration": 5,
    "start_time": "2023-02-13T16:08:00.717Z"
   },
   {
    "duration": 1297,
    "start_time": "2023-02-13T16:50:56.711Z"
   },
   {
    "duration": 234,
    "start_time": "2023-02-13T16:50:58.010Z"
   },
   {
    "duration": 14,
    "start_time": "2023-02-13T16:50:58.246Z"
   },
   {
    "duration": 8,
    "start_time": "2023-02-13T16:50:58.261Z"
   },
   {
    "duration": 21,
    "start_time": "2023-02-13T16:50:58.271Z"
   },
   {
    "duration": 737,
    "start_time": "2023-02-13T16:50:58.294Z"
   },
   {
    "duration": 3,
    "start_time": "2023-02-13T16:50:59.033Z"
   },
   {
    "duration": 12,
    "start_time": "2023-02-13T16:50:59.037Z"
   },
   {
    "duration": 14,
    "start_time": "2023-02-13T16:50:59.050Z"
   },
   {
    "duration": 29,
    "start_time": "2023-02-13T16:50:59.065Z"
   },
   {
    "duration": 13,
    "start_time": "2023-02-13T16:50:59.096Z"
   },
   {
    "duration": 8,
    "start_time": "2023-02-13T16:50:59.111Z"
   },
   {
    "duration": 10,
    "start_time": "2023-02-13T16:50:59.121Z"
   },
   {
    "duration": 10,
    "start_time": "2023-02-13T16:50:59.134Z"
   },
   {
    "duration": 19,
    "start_time": "2023-02-13T16:50:59.146Z"
   },
   {
    "duration": 36,
    "start_time": "2023-02-13T16:50:59.167Z"
   },
   {
    "duration": 14,
    "start_time": "2023-02-13T16:50:59.205Z"
   },
   {
    "duration": 8,
    "start_time": "2023-02-13T16:50:59.220Z"
   },
   {
    "duration": 13,
    "start_time": "2023-02-13T16:50:59.229Z"
   },
   {
    "duration": 21,
    "start_time": "2023-02-13T16:50:59.244Z"
   },
   {
    "duration": 26,
    "start_time": "2023-02-13T16:50:59.266Z"
   },
   {
    "duration": 4,
    "start_time": "2023-02-13T16:50:59.293Z"
   },
   {
    "duration": 13,
    "start_time": "2023-02-13T16:50:59.298Z"
   },
   {
    "duration": 3,
    "start_time": "2023-02-13T16:50:59.313Z"
   },
   {
    "duration": 14,
    "start_time": "2023-02-13T16:50:59.318Z"
   },
   {
    "duration": 11,
    "start_time": "2023-02-13T16:50:59.334Z"
   },
   {
    "duration": 4,
    "start_time": "2023-02-13T16:50:59.347Z"
   },
   {
    "duration": 46,
    "start_time": "2023-02-13T16:50:59.352Z"
   },
   {
    "duration": 337,
    "start_time": "2023-02-13T16:50:59.400Z"
   },
   {
    "duration": 280,
    "start_time": "2023-02-13T16:50:59.738Z"
   },
   {
    "duration": 5,
    "start_time": "2023-02-13T16:51:00.020Z"
   },
   {
    "duration": 240,
    "start_time": "2023-02-13T16:51:00.026Z"
   },
   {
    "duration": 6,
    "start_time": "2023-02-13T16:51:00.268Z"
   },
   {
    "duration": 191,
    "start_time": "2023-02-13T16:51:00.276Z"
   },
   {
    "duration": 5,
    "start_time": "2023-02-13T16:51:00.469Z"
   },
   {
    "duration": 203,
    "start_time": "2023-02-13T16:51:00.476Z"
   },
   {
    "duration": 10,
    "start_time": "2023-02-13T16:51:00.681Z"
   },
   {
    "duration": 179,
    "start_time": "2023-02-13T16:51:00.693Z"
   },
   {
    "duration": 6,
    "start_time": "2023-02-13T16:51:00.874Z"
   },
   {
    "duration": 171,
    "start_time": "2023-02-13T16:51:00.891Z"
   },
   {
    "duration": 7,
    "start_time": "2023-02-13T16:51:01.067Z"
   },
   {
    "duration": 165,
    "start_time": "2023-02-13T16:51:01.075Z"
   },
   {
    "duration": 135,
    "start_time": "2023-02-13T16:51:01.242Z"
   },
   {
    "duration": 144,
    "start_time": "2023-02-13T16:51:01.379Z"
   },
   {
    "duration": 139,
    "start_time": "2023-02-13T16:51:01.526Z"
   },
   {
    "duration": 172,
    "start_time": "2023-02-13T16:51:01.666Z"
   },
   {
    "duration": 19,
    "start_time": "2023-02-13T16:51:01.840Z"
   },
   {
    "duration": 244,
    "start_time": "2023-02-13T16:51:01.861Z"
   },
   {
    "duration": 5,
    "start_time": "2023-02-13T16:51:02.107Z"
   },
   {
    "duration": 357,
    "start_time": "2023-02-13T16:51:02.113Z"
   },
   {
    "duration": 5,
    "start_time": "2023-02-13T16:51:02.472Z"
   },
   {
    "duration": 277,
    "start_time": "2023-02-13T16:51:02.479Z"
   },
   {
    "duration": 4,
    "start_time": "2023-02-13T16:51:02.758Z"
   },
   {
    "duration": 166,
    "start_time": "2023-02-13T16:51:02.764Z"
   },
   {
    "duration": 10,
    "start_time": "2023-02-13T16:51:02.931Z"
   },
   {
    "duration": 451,
    "start_time": "2023-02-13T16:51:02.942Z"
   },
   {
    "duration": 9,
    "start_time": "2023-02-13T16:51:03.395Z"
   },
   {
    "duration": 465,
    "start_time": "2023-02-13T16:51:03.405Z"
   },
   {
    "duration": 20,
    "start_time": "2023-02-13T16:51:03.871Z"
   },
   {
    "duration": 451,
    "start_time": "2023-02-13T16:51:03.892Z"
   },
   {
    "duration": 4,
    "start_time": "2023-02-13T16:51:04.345Z"
   },
   {
    "duration": 11,
    "start_time": "2023-02-13T16:51:04.350Z"
   },
   {
    "duration": 6,
    "start_time": "2023-02-13T16:51:04.362Z"
   },
   {
    "duration": 113,
    "start_time": "2023-02-13T16:51:04.369Z"
   },
   {
    "duration": 0,
    "start_time": "2023-02-13T16:51:04.491Z"
   },
   {
    "duration": 7,
    "start_time": "2023-02-13T16:52:15.752Z"
   },
   {
    "duration": 8,
    "start_time": "2023-02-13T16:52:33.719Z"
   },
   {
    "duration": 4,
    "start_time": "2023-02-13T16:54:12.778Z"
   },
   {
    "duration": 5,
    "start_time": "2023-02-13T16:54:16.149Z"
   },
   {
    "duration": 4,
    "start_time": "2023-02-13T16:54:16.909Z"
   },
   {
    "duration": 7,
    "start_time": "2023-02-13T16:54:18.753Z"
   },
   {
    "duration": 7,
    "start_time": "2023-02-13T16:54:32.388Z"
   },
   {
    "duration": 1158,
    "start_time": "2023-02-13T17:01:34.432Z"
   },
   {
    "duration": 74,
    "start_time": "2023-02-13T17:01:35.592Z"
   },
   {
    "duration": 15,
    "start_time": "2023-02-13T17:01:35.667Z"
   },
   {
    "duration": 9,
    "start_time": "2023-02-13T17:01:35.684Z"
   },
   {
    "duration": 18,
    "start_time": "2023-02-13T17:01:35.694Z"
   },
   {
    "duration": 752,
    "start_time": "2023-02-13T17:01:35.713Z"
   },
   {
    "duration": 3,
    "start_time": "2023-02-13T17:01:36.467Z"
   },
   {
    "duration": 22,
    "start_time": "2023-02-13T17:01:36.472Z"
   },
   {
    "duration": 15,
    "start_time": "2023-02-13T17:01:36.495Z"
   },
   {
    "duration": 10,
    "start_time": "2023-02-13T17:01:36.514Z"
   },
   {
    "duration": 17,
    "start_time": "2023-02-13T17:01:36.525Z"
   },
   {
    "duration": 23,
    "start_time": "2023-02-13T17:01:36.544Z"
   },
   {
    "duration": 21,
    "start_time": "2023-02-13T17:01:36.568Z"
   },
   {
    "duration": 10,
    "start_time": "2023-02-13T17:01:36.591Z"
   },
   {
    "duration": 15,
    "start_time": "2023-02-13T17:01:36.602Z"
   },
   {
    "duration": 13,
    "start_time": "2023-02-13T17:01:36.619Z"
   },
   {
    "duration": 15,
    "start_time": "2023-02-13T17:01:36.634Z"
   },
   {
    "duration": 10,
    "start_time": "2023-02-13T17:01:36.651Z"
   },
   {
    "duration": 11,
    "start_time": "2023-02-13T17:01:36.662Z"
   },
   {
    "duration": 21,
    "start_time": "2023-02-13T17:01:36.691Z"
   },
   {
    "duration": 16,
    "start_time": "2023-02-13T17:01:36.715Z"
   },
   {
    "duration": 20,
    "start_time": "2023-02-13T17:01:36.733Z"
   },
   {
    "duration": 22,
    "start_time": "2023-02-13T17:01:36.755Z"
   },
   {
    "duration": 10,
    "start_time": "2023-02-13T17:01:36.779Z"
   },
   {
    "duration": 23,
    "start_time": "2023-02-13T17:01:36.791Z"
   },
   {
    "duration": 46,
    "start_time": "2023-02-13T17:01:36.815Z"
   },
   {
    "duration": 6,
    "start_time": "2023-02-13T17:01:36.863Z"
   },
   {
    "duration": 26,
    "start_time": "2023-02-13T17:01:36.873Z"
   },
   {
    "duration": 328,
    "start_time": "2023-02-13T17:01:36.901Z"
   },
   {
    "duration": 284,
    "start_time": "2023-02-13T17:01:37.231Z"
   },
   {
    "duration": 5,
    "start_time": "2023-02-13T17:01:37.516Z"
   },
   {
    "duration": 248,
    "start_time": "2023-02-13T17:01:37.523Z"
   },
   {
    "duration": 5,
    "start_time": "2023-02-13T17:01:37.773Z"
   },
   {
    "duration": 196,
    "start_time": "2023-02-13T17:01:37.779Z"
   },
   {
    "duration": 5,
    "start_time": "2023-02-13T17:01:37.977Z"
   },
   {
    "duration": 176,
    "start_time": "2023-02-13T17:01:37.990Z"
   },
   {
    "duration": 5,
    "start_time": "2023-02-13T17:01:38.168Z"
   },
   {
    "duration": 178,
    "start_time": "2023-02-13T17:01:38.175Z"
   },
   {
    "duration": 6,
    "start_time": "2023-02-13T17:01:38.355Z"
   },
   {
    "duration": 189,
    "start_time": "2023-02-13T17:01:38.362Z"
   },
   {
    "duration": 6,
    "start_time": "2023-02-13T17:01:38.553Z"
   },
   {
    "duration": 162,
    "start_time": "2023-02-13T17:01:38.561Z"
   },
   {
    "duration": 138,
    "start_time": "2023-02-13T17:01:38.725Z"
   },
   {
    "duration": 142,
    "start_time": "2023-02-13T17:01:38.865Z"
   },
   {
    "duration": 151,
    "start_time": "2023-02-13T17:01:39.009Z"
   },
   {
    "duration": 155,
    "start_time": "2023-02-13T17:01:39.162Z"
   },
   {
    "duration": 20,
    "start_time": "2023-02-13T17:01:39.319Z"
   },
   {
    "duration": 250,
    "start_time": "2023-02-13T17:01:39.341Z"
   },
   {
    "duration": 4,
    "start_time": "2023-02-13T17:01:39.593Z"
   },
   {
    "duration": 371,
    "start_time": "2023-02-13T17:01:39.599Z"
   },
   {
    "duration": 6,
    "start_time": "2023-02-13T17:01:39.971Z"
   },
   {
    "duration": 298,
    "start_time": "2023-02-13T17:01:39.978Z"
   },
   {
    "duration": 14,
    "start_time": "2023-02-13T17:01:40.278Z"
   },
   {
    "duration": 172,
    "start_time": "2023-02-13T17:01:40.294Z"
   },
   {
    "duration": 11,
    "start_time": "2023-02-13T17:01:40.467Z"
   },
   {
    "duration": 465,
    "start_time": "2023-02-13T17:01:40.479Z"
   },
   {
    "duration": 10,
    "start_time": "2023-02-13T17:01:40.945Z"
   },
   {
    "duration": 472,
    "start_time": "2023-02-13T17:01:40.957Z"
   },
   {
    "duration": 11,
    "start_time": "2023-02-13T17:01:41.431Z"
   },
   {
    "duration": 492,
    "start_time": "2023-02-13T17:01:41.444Z"
   },
   {
    "duration": 6,
    "start_time": "2023-02-13T17:01:41.937Z"
   },
   {
    "duration": 10,
    "start_time": "2023-02-13T17:01:41.944Z"
   },
   {
    "duration": 10,
    "start_time": "2023-02-13T17:01:41.956Z"
   },
   {
    "duration": 10,
    "start_time": "2023-02-13T17:01:41.967Z"
   },
   {
    "duration": 7,
    "start_time": "2023-02-13T17:01:41.991Z"
   }
  ],
  "kernelspec": {
   "display_name": "Python 3 (ipykernel)",
   "language": "python",
   "name": "python3"
  },
  "language_info": {
   "codemirror_mode": {
    "name": "ipython",
    "version": 3
   },
   "file_extension": ".py",
   "mimetype": "text/x-python",
   "name": "python",
   "nbconvert_exporter": "python",
   "pygments_lexer": "ipython3",
   "version": "3.9.13"
  },
  "toc": {
   "base_numbering": 1,
   "nav_menu": {},
   "number_sections": true,
   "sideBar": true,
   "skip_h1_title": true,
   "title_cell": "Table of Contents",
   "title_sidebar": "Contents",
   "toc_cell": false,
   "toc_position": {},
   "toc_section_display": true,
   "toc_window_display": true
  }
 },
 "nbformat": 4,
 "nbformat_minor": 5
}
