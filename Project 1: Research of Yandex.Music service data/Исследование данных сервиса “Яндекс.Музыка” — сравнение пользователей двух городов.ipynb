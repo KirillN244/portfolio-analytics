{
 "cells": [
  {
   "cell_type": "markdown",
   "metadata": {
    "deletable": false,
    "editable": false,
    "id": "E0vqbgi9ay0H"
   },
   "source": [
    "# Яндекс Музыка"
   ]
  },
  {
   "cell_type": "markdown",
   "metadata": {
    "deletable": false,
    "editable": false,
    "id": "VUC88oWjTJw2"
   },
   "source": [
    "Сравнение Москвы и Петербурга окружено мифами. Например:\n",
    " * Москва — мегаполис, подчинённый жёсткому ритму рабочей недели;\n",
    " * Петербург — культурная столица, со своими вкусами.\n",
    "\n",
    "На данных Яндекс Музыки вы сравните поведение пользователей двух столиц.\n",
    "\n",
    "**Цель исследования** — проверьте три гипотезы:\n",
    "1. Активность пользователей зависит от дня недели. Причём в Москве и Петербурге это проявляется по-разному.\n",
    "2. В понедельник утром в Москве преобладают одни жанры, а в Петербурге — другие. Так же и вечером пятницы преобладают разные жанры — в зависимости от города. \n",
    "3. Москва и Петербург предпочитают разные жанры музыки. В Москве чаще слушают поп-музыку, в Петербурге — русский рэп.\n",
    "\n",
    "**Ход исследования**\n",
    "\n",
    "Данные о поведении пользователей вы получите из файла `yandex_music_project.csv`. О качестве данных ничего не известно. Поэтому перед проверкой гипотез понадобится обзор данных. \n",
    "\n",
    "Вы проверите данные на ошибки и оцените их влияние на исследование. Затем, на этапе предобработки вы поищете возможность исправить самые критичные ошибки данных.\n",
    " \n",
    "Таким образом, исследование пройдёт в три этапа:\n",
    " 1. Обзор данных.\n",
    " 2. Предобработка данных.\n",
    " 3. Проверка гипотез.\n",
    "\n"
   ]
  },
  {
   "cell_type": "markdown",
   "metadata": {
    "deletable": false,
    "editable": false,
    "id": "Ml1hmfXC_Zcs"
   },
   "source": [
    "## Обзор данных\n",
    "\n",
    "Составьте первое представление о данных Яндекс Музыки.\n",
    "\n",
    "\n"
   ]
  },
  {
   "cell_type": "markdown",
   "metadata": {
    "deletable": false,
    "editable": false,
    "id": "57eAOGIz_Zcs",
    "tags": [
     "start_task"
    ]
   },
   "source": [
    "**Задание 1**\n",
    "\n",
    "Основной инструмент аналитика — `pandas`. Импортируйте эту библиотеку."
   ]
  },
  {
   "cell_type": "code",
   "execution_count": 1,
   "metadata": {
    "deletable": false,
    "id": "AXN7PHPN_Zcs"
   },
   "outputs": [],
   "source": [
    "import pandas as pd"
   ]
  },
  {
   "cell_type": "markdown",
   "metadata": {
    "deletable": false,
    "editable": false,
    "id": "SG23P8tt_Zcs",
    "tags": [
     "start_task"
    ]
   },
   "source": [
    "**Задание 2**\n",
    "\n",
    "Прочитайте файл `yandex_music_project.csv` из папки `/datasets` и сохраните его в переменной `df`:"
   ]
  },
  {
   "cell_type": "code",
   "execution_count": 2,
   "metadata": {
    "deletable": false,
    "id": "fFVu7vqh_Zct"
   },
   "outputs": [],
   "source": [
    "pd.set_option('display.max_colwidth', None)\n",
    "try:\n",
    "    df = pd.read_csv('/datasets/yandex_music_project.csv')\n",
    "except:\n",
    "    df = pd.read_csv('yandex_music_project.csv')"
   ]
  },
  {
   "cell_type": "markdown",
   "metadata": {
    "deletable": false,
    "editable": false,
    "id": "rDoOMd3uTqnZ",
    "tags": [
     "start_task"
    ]
   },
   "source": [
    "**Задание 3**\n",
    "\n",
    "\n",
    "Выведите на экран первые десять строк таблицы:"
   ]
  },
  {
   "cell_type": "code",
   "execution_count": 3,
   "metadata": {
    "deletable": false,
    "id": "oWTVX3gW_Zct"
   },
   "outputs": [
    {
     "data": {
      "text/html": [
       "<div>\n",
       "<style scoped>\n",
       "    .dataframe tbody tr th:only-of-type {\n",
       "        vertical-align: middle;\n",
       "    }\n",
       "\n",
       "    .dataframe tbody tr th {\n",
       "        vertical-align: top;\n",
       "    }\n",
       "\n",
       "    .dataframe thead th {\n",
       "        text-align: right;\n",
       "    }\n",
       "</style>\n",
       "<table border=\"1\" class=\"dataframe\">\n",
       "  <thead>\n",
       "    <tr style=\"text-align: right;\">\n",
       "      <th></th>\n",
       "      <th>userID</th>\n",
       "      <th>Track</th>\n",
       "      <th>artist</th>\n",
       "      <th>genre</th>\n",
       "      <th>City</th>\n",
       "      <th>time</th>\n",
       "      <th>Day</th>\n",
       "    </tr>\n",
       "  </thead>\n",
       "  <tbody>\n",
       "    <tr>\n",
       "      <th>0</th>\n",
       "      <td>FFB692EC</td>\n",
       "      <td>Kamigata To Boots</td>\n",
       "      <td>The Mass Missile</td>\n",
       "      <td>rock</td>\n",
       "      <td>Saint-Petersburg</td>\n",
       "      <td>20:28:33</td>\n",
       "      <td>Wednesday</td>\n",
       "    </tr>\n",
       "    <tr>\n",
       "      <th>1</th>\n",
       "      <td>55204538</td>\n",
       "      <td>Delayed Because of Accident</td>\n",
       "      <td>Andreas Rönnberg</td>\n",
       "      <td>rock</td>\n",
       "      <td>Moscow</td>\n",
       "      <td>14:07:09</td>\n",
       "      <td>Friday</td>\n",
       "    </tr>\n",
       "    <tr>\n",
       "      <th>2</th>\n",
       "      <td>20EC38</td>\n",
       "      <td>Funiculì funiculà</td>\n",
       "      <td>Mario Lanza</td>\n",
       "      <td>pop</td>\n",
       "      <td>Saint-Petersburg</td>\n",
       "      <td>20:58:07</td>\n",
       "      <td>Wednesday</td>\n",
       "    </tr>\n",
       "    <tr>\n",
       "      <th>3</th>\n",
       "      <td>A3DD03C9</td>\n",
       "      <td>Dragons in the Sunset</td>\n",
       "      <td>Fire + Ice</td>\n",
       "      <td>folk</td>\n",
       "      <td>Saint-Petersburg</td>\n",
       "      <td>08:37:09</td>\n",
       "      <td>Monday</td>\n",
       "    </tr>\n",
       "    <tr>\n",
       "      <th>4</th>\n",
       "      <td>E2DC1FAE</td>\n",
       "      <td>Soul People</td>\n",
       "      <td>Space Echo</td>\n",
       "      <td>dance</td>\n",
       "      <td>Moscow</td>\n",
       "      <td>08:34:34</td>\n",
       "      <td>Monday</td>\n",
       "    </tr>\n",
       "    <tr>\n",
       "      <th>5</th>\n",
       "      <td>842029A1</td>\n",
       "      <td>Преданная</td>\n",
       "      <td>IMPERVTOR</td>\n",
       "      <td>rusrap</td>\n",
       "      <td>Saint-Petersburg</td>\n",
       "      <td>13:09:41</td>\n",
       "      <td>Friday</td>\n",
       "    </tr>\n",
       "    <tr>\n",
       "      <th>6</th>\n",
       "      <td>4CB90AA5</td>\n",
       "      <td>True</td>\n",
       "      <td>Roman Messer</td>\n",
       "      <td>dance</td>\n",
       "      <td>Moscow</td>\n",
       "      <td>13:00:07</td>\n",
       "      <td>Wednesday</td>\n",
       "    </tr>\n",
       "    <tr>\n",
       "      <th>7</th>\n",
       "      <td>F03E1C1F</td>\n",
       "      <td>Feeling This Way</td>\n",
       "      <td>Polina Griffith</td>\n",
       "      <td>dance</td>\n",
       "      <td>Moscow</td>\n",
       "      <td>20:47:49</td>\n",
       "      <td>Wednesday</td>\n",
       "    </tr>\n",
       "    <tr>\n",
       "      <th>8</th>\n",
       "      <td>8FA1D3BE</td>\n",
       "      <td>И вновь продолжается бой</td>\n",
       "      <td>NaN</td>\n",
       "      <td>ruspop</td>\n",
       "      <td>Moscow</td>\n",
       "      <td>09:17:40</td>\n",
       "      <td>Friday</td>\n",
       "    </tr>\n",
       "    <tr>\n",
       "      <th>9</th>\n",
       "      <td>E772D5C0</td>\n",
       "      <td>Pessimist</td>\n",
       "      <td>NaN</td>\n",
       "      <td>dance</td>\n",
       "      <td>Saint-Petersburg</td>\n",
       "      <td>21:20:49</td>\n",
       "      <td>Wednesday</td>\n",
       "    </tr>\n",
       "  </tbody>\n",
       "</table>\n",
       "</div>"
      ],
      "text/plain": [
       "     userID                        Track            artist   genre  \\\n",
       "0  FFB692EC            Kamigata To Boots  The Mass Missile    rock   \n",
       "1  55204538  Delayed Because of Accident  Andreas Rönnberg    rock   \n",
       "2    20EC38            Funiculì funiculà       Mario Lanza     pop   \n",
       "3  A3DD03C9        Dragons in the Sunset        Fire + Ice    folk   \n",
       "4  E2DC1FAE                  Soul People        Space Echo   dance   \n",
       "5  842029A1                    Преданная         IMPERVTOR  rusrap   \n",
       "6  4CB90AA5                         True      Roman Messer   dance   \n",
       "7  F03E1C1F             Feeling This Way   Polina Griffith   dance   \n",
       "8  8FA1D3BE     И вновь продолжается бой               NaN  ruspop   \n",
       "9  E772D5C0                    Pessimist               NaN   dance   \n",
       "\n",
       "             City        time        Day  \n",
       "0  Saint-Petersburg  20:28:33  Wednesday  \n",
       "1            Moscow  14:07:09     Friday  \n",
       "2  Saint-Petersburg  20:58:07  Wednesday  \n",
       "3  Saint-Petersburg  08:37:09     Monday  \n",
       "4            Moscow  08:34:34     Monday  \n",
       "5  Saint-Petersburg  13:09:41     Friday  \n",
       "6            Moscow  13:00:07  Wednesday  \n",
       "7            Moscow  20:47:49  Wednesday  \n",
       "8            Moscow  09:17:40     Friday  \n",
       "9  Saint-Petersburg  21:20:49  Wednesday  "
      ]
     },
     "execution_count": 3,
     "metadata": {},
     "output_type": "execute_result"
    }
   ],
   "source": [
    "df.head(10)"
   ]
  },
  {
   "cell_type": "markdown",
   "metadata": {
    "deletable": false,
    "editable": false,
    "id": "EO73Kwic_Zct",
    "tags": [
     "start_task"
    ]
   },
   "source": [
    "**Задание 4**\n",
    "\n",
    "\n",
    "Одной командой получить общую информацию о таблице c помощью метода `info()`:"
   ]
  },
  {
   "cell_type": "code",
   "execution_count": 4,
   "metadata": {
    "deletable": false,
    "id": "DSf2kIb-_Zct",
    "scrolled": true
   },
   "outputs": [
    {
     "name": "stdout",
     "output_type": "stream",
     "text": [
      "<class 'pandas.core.frame.DataFrame'>\n",
      "RangeIndex: 65079 entries, 0 to 65078\n",
      "Data columns (total 7 columns):\n",
      " #   Column    Non-Null Count  Dtype \n",
      "---  ------    --------------  ----- \n",
      " 0     userID  65079 non-null  object\n",
      " 1   Track     63848 non-null  object\n",
      " 2   artist    57876 non-null  object\n",
      " 3   genre     63881 non-null  object\n",
      " 4     City    65079 non-null  object\n",
      " 5   time      65079 non-null  object\n",
      " 6   Day       65079 non-null  object\n",
      "dtypes: object(7)\n",
      "memory usage: 3.5+ MB\n"
     ]
    }
   ],
   "source": [
    "df.info()"
   ]
  },
  {
   "cell_type": "markdown",
   "metadata": {
    "deletable": false,
    "editable": false,
    "id": "TaQ2Iwbr_Zct"
   },
   "source": [
    "Итак, в таблице семь столбцов. Тип данных во всех столбцах — `object`.\n",
    "\n",
    "Согласно документации к данным:\n",
    "* `userID` — идентификатор пользователя;\n",
    "* `Track` — название трека;  \n",
    "* `artist` — имя исполнителя;\n",
    "* `genre` — название жанра;\n",
    "* `City` — город пользователя;\n",
    "* `time` — время начала прослушивания;\n",
    "* `Day` — день недели.\n",
    "\n",
    "Количество значений в столбцах различается. Значит, в данных есть пропущенные значения."
   ]
  },
  {
   "cell_type": "markdown",
   "metadata": {
    "deletable": false,
    "editable": false,
    "id": "rAfziTBDmf2h",
    "tags": [
     "start_task"
    ]
   },
   "source": [
    "**Задание 5**\n",
    "\n",
    "**Вопрос со свободной формой ответа**\n",
    "\n",
    "В названиях колонок видны нарушения стиля:\n",
    "* Строчные буквы сочетаются с прописными.\n",
    "* Встречаются пробелы.\n",
    "\n",
    "Какое третье нарушение?"
   ]
  },
  {
   "cell_type": "code",
   "execution_count": 5,
   "metadata": {
    "id": "jD8EXEIvmf2h"
   },
   "outputs": [],
   "source": [
    "# Не используется змеиный регистр"
   ]
  },
  {
   "cell_type": "markdown",
   "metadata": {
    "deletable": false,
    "editable": false,
    "id": "MCB6-dXG_Zct"
   },
   "source": [
    "**Выводы**\n",
    "\n",
    "В каждой строке таблицы — данные о прослушанном треке. Часть колонок описывает саму композицию: название, исполнителя и жанр. Остальные данные рассказывают о пользователе: из какого он города, когда он слушал музыку. \n",
    "\n",
    "Предварительно можно утверждать, что данных достаточно для проверки гипотез. Но встречаются пропуски в данных, а в названиях колонок — расхождения с хорошим стилем.\n",
    "\n",
    "Чтобы двигаться дальше, нужно устранить проблемы в данных."
   ]
  },
  {
   "cell_type": "markdown",
   "metadata": {
    "deletable": false,
    "editable": false,
    "id": "SjYF6Ub9_Zct"
   },
   "source": [
    "## Предобработка данных\n",
    "Исправьте стиль в заголовках столбцов, исключите пропуски. Затем проверьте данные на дубликаты."
   ]
  },
  {
   "cell_type": "markdown",
   "metadata": {
    "deletable": false,
    "editable": false,
    "id": "dIaKXr29_Zct",
    "tags": [
     "start_task"
    ]
   },
   "source": [
    "### Стиль заголовков\n",
    "\n",
    "**Задание 6**\n",
    "\n",
    "Выведите на экран названия столбцов:"
   ]
  },
  {
   "cell_type": "code",
   "execution_count": 6,
   "metadata": {
    "deletable": false,
    "id": "oKOTdF_Q_Zct"
   },
   "outputs": [
    {
     "data": {
      "text/plain": [
       "Index(['  userID', 'Track', 'artist', 'genre', '  City  ', 'time', 'Day'], dtype='object')"
      ]
     },
     "execution_count": 6,
     "metadata": {},
     "output_type": "execute_result"
    }
   ],
   "source": [
    "df.columns"
   ]
  },
  {
   "cell_type": "markdown",
   "metadata": {
    "deletable": false,
    "editable": false,
    "id": "zj5534cv_Zct",
    "tags": [
     "start_task"
    ]
   },
   "source": [
    "**Задание 7**\n",
    "\n",
    "\n",
    "Приведите названия в соответствие с хорошим стилем:\n",
    "* несколько слов в названии запишите в «змеином_регистре»,\n",
    "* все символы сделайте строчными,\n",
    "* устраните пробелы.\n",
    "\n",
    "Для этого переименуйте колонки так:\n",
    "* `'  userID'` → `'user_id'`;\n",
    "* `'Track'` → `'track'`;\n",
    "* `'  City  '` → `'city'`;\n",
    "* `'Day'` → `'day'`."
   ]
  },
  {
   "cell_type": "code",
   "execution_count": 7,
   "metadata": {
    "deletable": false,
    "id": "ISlFqs5y_Zct"
   },
   "outputs": [
    {
     "data": {
      "text/html": [
       "<div>\n",
       "<style scoped>\n",
       "    .dataframe tbody tr th:only-of-type {\n",
       "        vertical-align: middle;\n",
       "    }\n",
       "\n",
       "    .dataframe tbody tr th {\n",
       "        vertical-align: top;\n",
       "    }\n",
       "\n",
       "    .dataframe thead th {\n",
       "        text-align: right;\n",
       "    }\n",
       "</style>\n",
       "<table border=\"1\" class=\"dataframe\">\n",
       "  <thead>\n",
       "    <tr style=\"text-align: right;\">\n",
       "      <th></th>\n",
       "      <th>user_id</th>\n",
       "      <th>track</th>\n",
       "      <th>artist</th>\n",
       "      <th>genre</th>\n",
       "      <th>city</th>\n",
       "      <th>time</th>\n",
       "      <th>day</th>\n",
       "    </tr>\n",
       "  </thead>\n",
       "  <tbody>\n",
       "    <tr>\n",
       "      <th>0</th>\n",
       "      <td>FFB692EC</td>\n",
       "      <td>Kamigata To Boots</td>\n",
       "      <td>The Mass Missile</td>\n",
       "      <td>rock</td>\n",
       "      <td>Saint-Petersburg</td>\n",
       "      <td>20:28:33</td>\n",
       "      <td>Wednesday</td>\n",
       "    </tr>\n",
       "    <tr>\n",
       "      <th>1</th>\n",
       "      <td>55204538</td>\n",
       "      <td>Delayed Because of Accident</td>\n",
       "      <td>Andreas Rönnberg</td>\n",
       "      <td>rock</td>\n",
       "      <td>Moscow</td>\n",
       "      <td>14:07:09</td>\n",
       "      <td>Friday</td>\n",
       "    </tr>\n",
       "    <tr>\n",
       "      <th>2</th>\n",
       "      <td>20EC38</td>\n",
       "      <td>Funiculì funiculà</td>\n",
       "      <td>Mario Lanza</td>\n",
       "      <td>pop</td>\n",
       "      <td>Saint-Petersburg</td>\n",
       "      <td>20:58:07</td>\n",
       "      <td>Wednesday</td>\n",
       "    </tr>\n",
       "    <tr>\n",
       "      <th>3</th>\n",
       "      <td>A3DD03C9</td>\n",
       "      <td>Dragons in the Sunset</td>\n",
       "      <td>Fire + Ice</td>\n",
       "      <td>folk</td>\n",
       "      <td>Saint-Petersburg</td>\n",
       "      <td>08:37:09</td>\n",
       "      <td>Monday</td>\n",
       "    </tr>\n",
       "    <tr>\n",
       "      <th>4</th>\n",
       "      <td>E2DC1FAE</td>\n",
       "      <td>Soul People</td>\n",
       "      <td>Space Echo</td>\n",
       "      <td>dance</td>\n",
       "      <td>Moscow</td>\n",
       "      <td>08:34:34</td>\n",
       "      <td>Monday</td>\n",
       "    </tr>\n",
       "    <tr>\n",
       "      <th>...</th>\n",
       "      <td>...</td>\n",
       "      <td>...</td>\n",
       "      <td>...</td>\n",
       "      <td>...</td>\n",
       "      <td>...</td>\n",
       "      <td>...</td>\n",
       "      <td>...</td>\n",
       "    </tr>\n",
       "    <tr>\n",
       "      <th>65074</th>\n",
       "      <td>729CBB09</td>\n",
       "      <td>My Name</td>\n",
       "      <td>McLean</td>\n",
       "      <td>rnb</td>\n",
       "      <td>Moscow</td>\n",
       "      <td>13:32:28</td>\n",
       "      <td>Wednesday</td>\n",
       "    </tr>\n",
       "    <tr>\n",
       "      <th>65075</th>\n",
       "      <td>D08D4A55</td>\n",
       "      <td>Maybe One Day (feat. Black Spade)</td>\n",
       "      <td>Blu &amp; Exile</td>\n",
       "      <td>hip</td>\n",
       "      <td>Saint-Petersburg</td>\n",
       "      <td>10:00:00</td>\n",
       "      <td>Monday</td>\n",
       "    </tr>\n",
       "    <tr>\n",
       "      <th>65076</th>\n",
       "      <td>C5E3A0D5</td>\n",
       "      <td>Jalopiina</td>\n",
       "      <td>NaN</td>\n",
       "      <td>industrial</td>\n",
       "      <td>Moscow</td>\n",
       "      <td>20:09:26</td>\n",
       "      <td>Friday</td>\n",
       "    </tr>\n",
       "    <tr>\n",
       "      <th>65077</th>\n",
       "      <td>321D0506</td>\n",
       "      <td>Freight Train</td>\n",
       "      <td>Chas McDevitt</td>\n",
       "      <td>rock</td>\n",
       "      <td>Moscow</td>\n",
       "      <td>21:43:59</td>\n",
       "      <td>Friday</td>\n",
       "    </tr>\n",
       "    <tr>\n",
       "      <th>65078</th>\n",
       "      <td>3A64EF84</td>\n",
       "      <td>Tell Me Sweet Little Lies</td>\n",
       "      <td>Monica Lopez</td>\n",
       "      <td>country</td>\n",
       "      <td>Moscow</td>\n",
       "      <td>21:59:46</td>\n",
       "      <td>Friday</td>\n",
       "    </tr>\n",
       "  </tbody>\n",
       "</table>\n",
       "<p>65079 rows × 7 columns</p>\n",
       "</div>"
      ],
      "text/plain": [
       "        user_id                              track            artist  \\\n",
       "0      FFB692EC                  Kamigata To Boots  The Mass Missile   \n",
       "1      55204538        Delayed Because of Accident  Andreas Rönnberg   \n",
       "2        20EC38                  Funiculì funiculà       Mario Lanza   \n",
       "3      A3DD03C9              Dragons in the Sunset        Fire + Ice   \n",
       "4      E2DC1FAE                        Soul People        Space Echo   \n",
       "...         ...                                ...               ...   \n",
       "65074  729CBB09                            My Name            McLean   \n",
       "65075  D08D4A55  Maybe One Day (feat. Black Spade)       Blu & Exile   \n",
       "65076  C5E3A0D5                          Jalopiina               NaN   \n",
       "65077  321D0506                      Freight Train     Chas McDevitt   \n",
       "65078  3A64EF84          Tell Me Sweet Little Lies      Monica Lopez   \n",
       "\n",
       "            genre              city      time        day  \n",
       "0            rock  Saint-Petersburg  20:28:33  Wednesday  \n",
       "1            rock            Moscow  14:07:09     Friday  \n",
       "2             pop  Saint-Petersburg  20:58:07  Wednesday  \n",
       "3            folk  Saint-Petersburg  08:37:09     Monday  \n",
       "4           dance            Moscow  08:34:34     Monday  \n",
       "...           ...               ...       ...        ...  \n",
       "65074         rnb            Moscow  13:32:28  Wednesday  \n",
       "65075         hip  Saint-Petersburg  10:00:00     Monday  \n",
       "65076  industrial            Moscow  20:09:26     Friday  \n",
       "65077        rock            Moscow  21:43:59     Friday  \n",
       "65078     country            Moscow  21:59:46     Friday  \n",
       "\n",
       "[65079 rows x 7 columns]"
      ]
     },
     "execution_count": 7,
     "metadata": {},
     "output_type": "execute_result"
    }
   ],
   "source": [
    "df = df.rename(columns={'  userID': 'user_id', 'Track': 'track', '  City  ': 'city', 'Day': 'day'})\n",
    "df"
   ]
  },
  {
   "cell_type": "markdown",
   "metadata": {
    "deletable": false,
    "editable": false,
    "id": "1dqbh00J_Zct",
    "tags": [
     "start_task"
    ]
   },
   "source": [
    "**Задание 8**\n",
    "\n",
    "\n",
    "Проверьте результат. Для этого ещё раз выведите на экран названия столбцов:"
   ]
  },
  {
   "cell_type": "code",
   "execution_count": 8,
   "metadata": {
    "deletable": false,
    "id": "d4NOAmTW_Zct"
   },
   "outputs": [
    {
     "data": {
      "text/plain": [
       "Index(['user_id', 'track', 'artist', 'genre', 'city', 'time', 'day'], dtype='object')"
      ]
     },
     "execution_count": 8,
     "metadata": {},
     "output_type": "execute_result"
    }
   ],
   "source": [
    "df.columns"
   ]
  },
  {
   "cell_type": "markdown",
   "metadata": {
    "deletable": false,
    "editable": false,
    "id": "5ISfbcfY_Zct",
    "tags": [
     "start_task"
    ]
   },
   "source": [
    "### Пропуски значений\n",
    "\n",
    "**Задание 9**\n",
    "\n",
    "Сначала посчитайте, сколько в таблице пропущенных значений. Для этого достаточно двух методов `pandas`:"
   ]
  },
  {
   "cell_type": "code",
   "execution_count": 9,
   "metadata": {
    "deletable": false,
    "id": "RskX29qr_Zct"
   },
   "outputs": [
    {
     "data": {
      "text/plain": [
       "user_id       0\n",
       "track      1231\n",
       "artist     7203\n",
       "genre      1198\n",
       "city          0\n",
       "time          0\n",
       "day           0\n",
       "dtype: int64"
      ]
     },
     "execution_count": 9,
     "metadata": {},
     "output_type": "execute_result"
    }
   ],
   "source": [
    "df.isna().sum()"
   ]
  },
  {
   "cell_type": "markdown",
   "metadata": {
    "deletable": false,
    "editable": false,
    "id": "qubhgnlO_Zct"
   },
   "source": [
    "Не все пропущенные значения влияют на исследование. Так в `track` и `artist` пропуски не важны для вашей работы. Достаточно заменить их явными обозначениями.\n",
    "\n",
    "Но пропуски в `genre` могут помешать сравнению музыкальных вкусов в Москве и Санкт-Петербурге. На практике было бы правильно установить причину пропусков и восстановить данные. Такой возможности нет в учебном проекте. Придётся:\n",
    "* заполнить и эти пропуски явными обозначениями;\n",
    "* оценить, насколько они повредят расчётам. "
   ]
  },
  {
   "cell_type": "markdown",
   "metadata": {
    "deletable": false,
    "editable": false,
    "id": "fSv2laPA_Zct",
    "tags": [
     "start_task"
    ]
   },
   "source": [
    "**Задание 10**\n",
    "\n",
    "Замените пропущенные значения в столбцах `track`, `artist` и `genre` на строку `'unknown'`. Для этого создайте список `columns_to_replace`, переберите его элементы циклом `for` и для каждого столбца выполните замену пропущенных значений:"
   ]
  },
  {
   "cell_type": "code",
   "execution_count": 10,
   "metadata": {
    "deletable": false,
    "id": "KplB5qWs_Zct"
   },
   "outputs": [],
   "source": [
    "columns_to_replace = ['track', 'artist', 'genre']\n",
    "for column in columns_to_replace:\n",
    "    df[column] = df[column].fillna('unknown')\n"
   ]
  },
  {
   "cell_type": "markdown",
   "metadata": {
    "deletable": false,
    "editable": false,
    "id": "Ilsm-MZo_Zct",
    "tags": [
     "start_task"
    ]
   },
   "source": [
    "**Задание 11**\n",
    "\n",
    "Убедитесь, что в таблице не осталось пропусков. Для этого ещё раз посчитайте пропущенные значения."
   ]
  },
  {
   "cell_type": "code",
   "execution_count": 11,
   "metadata": {
    "deletable": false,
    "id": "Tq4nYRX4_Zct"
   },
   "outputs": [
    {
     "data": {
      "text/plain": [
       "user_id    0\n",
       "track      0\n",
       "artist     0\n",
       "genre      0\n",
       "city       0\n",
       "time       0\n",
       "day        0\n",
       "dtype: int64"
      ]
     },
     "execution_count": 11,
     "metadata": {},
     "output_type": "execute_result"
    }
   ],
   "source": [
    "df.isna().sum()"
   ]
  },
  {
   "cell_type": "markdown",
   "metadata": {
    "deletable": false,
    "editable": false,
    "id": "BWKRtBJ3_Zct",
    "tags": [
     "start_task"
    ]
   },
   "source": [
    "### Дубликаты\n",
    "\n",
    "**Задание 12**\n",
    "\n",
    "Посчитайте явные дубликаты в таблице одной командой:"
   ]
  },
  {
   "cell_type": "code",
   "execution_count": 12,
   "metadata": {
    "deletable": false,
    "id": "36eES_S0_Zct"
   },
   "outputs": [
    {
     "data": {
      "text/plain": [
       "3826"
      ]
     },
     "execution_count": 12,
     "metadata": {},
     "output_type": "execute_result"
    }
   ],
   "source": [
    "df.duplicated().sum()"
   ]
  },
  {
   "cell_type": "markdown",
   "metadata": {
    "deletable": false,
    "editable": false,
    "id": "Ot25h6XR_Zct",
    "tags": [
     "start_task"
    ]
   },
   "source": [
    "**Задание 13**\n",
    "\n",
    "Вызовите специальный метод `pandas`, чтобы удалить явные дубликаты:"
   ]
  },
  {
   "cell_type": "code",
   "execution_count": 13,
   "metadata": {
    "deletable": false,
    "id": "exFHq6tt_Zct"
   },
   "outputs": [],
   "source": [
    "df = df.drop_duplicates()"
   ]
  },
  {
   "cell_type": "markdown",
   "metadata": {
    "deletable": false,
    "editable": false,
    "id": "Im2YwBEG_Zct",
    "tags": [
     "start_task"
    ]
   },
   "source": [
    "**Задание 14**\n",
    "\n",
    "Ещё раз посчитайте явные дубликаты в таблице — убедитесь, что полностью от них избавились:"
   ]
  },
  {
   "cell_type": "code",
   "execution_count": 14,
   "metadata": {
    "deletable": false,
    "id": "-8PuNWQ0_Zct"
   },
   "outputs": [
    {
     "data": {
      "text/plain": [
       "0"
      ]
     },
     "execution_count": 14,
     "metadata": {},
     "output_type": "execute_result"
    }
   ],
   "source": [
    "df.duplicated().sum()"
   ]
  },
  {
   "cell_type": "markdown",
   "metadata": {
    "deletable": false,
    "editable": false,
    "id": "QlFBsxAr_Zct"
   },
   "source": [
    "Теперь избавьтесь от неявных дубликатов в колонке `genre`. Например, название одного и того же жанра может быть записано немного по-разному. Такие ошибки тоже повлияют на результат исследования."
   ]
  },
  {
   "cell_type": "markdown",
   "metadata": {
    "deletable": false,
    "editable": false,
    "id": "eSjWwsOh_Zct",
    "tags": [
     "start_task"
    ]
   },
   "source": [
    "**Задание 15**\n",
    "\n",
    "Выведите на экран список уникальных названий жанров, отсортированный в алфавитном порядке. Для этого:\n",
    "1. извлеките нужный столбец датафрейма; \n",
    "2. примените к нему метод сортировки;\n",
    "3. для отсортированного столбца вызовите метод, который вернёт уникальные значения из столбца."
   ]
  },
  {
   "cell_type": "code",
   "execution_count": 15,
   "metadata": {
    "deletable": false,
    "id": "JIUcqzZN_Zct"
   },
   "outputs": [
    {
     "data": {
      "text/plain": [
       "array(['acid', 'acoustic', 'action', 'adult', 'africa', 'afrikaans',\n",
       "       'alternative', 'alternativepunk', 'ambient', 'americana',\n",
       "       'animated', 'anime', 'arabesk', 'arabic', 'arena',\n",
       "       'argentinetango', 'art', 'audiobook', 'author', 'avantgarde',\n",
       "       'axé', 'baile', 'balkan', 'beats', 'bigroom', 'black', 'bluegrass',\n",
       "       'blues', 'bollywood', 'bossa', 'brazilian', 'breakbeat', 'breaks',\n",
       "       'broadway', 'cantautori', 'cantopop', 'canzone', 'caribbean',\n",
       "       'caucasian', 'celtic', 'chamber', 'chanson', 'children', 'chill',\n",
       "       'chinese', 'choral', 'christian', 'christmas', 'classical',\n",
       "       'classicmetal', 'club', 'colombian', 'comedy', 'conjazz',\n",
       "       'contemporary', 'country', 'cuban', 'dance', 'dancehall',\n",
       "       'dancepop', 'dark', 'death', 'deep', 'deutschrock', 'deutschspr',\n",
       "       'dirty', 'disco', 'dnb', 'documentary', 'downbeat', 'downtempo',\n",
       "       'drum', 'dub', 'dubstep', 'eastern', 'easy', 'electronic',\n",
       "       'electropop', 'emo', 'entehno', 'epicmetal', 'estrada', 'ethnic',\n",
       "       'eurofolk', 'european', 'experimental', 'extrememetal', 'fado',\n",
       "       'fairytail', 'film', 'fitness', 'flamenco', 'folk', 'folklore',\n",
       "       'folkmetal', 'folkrock', 'folktronica', 'forró', 'frankreich',\n",
       "       'französisch', 'french', 'funk', 'future', 'gangsta', 'garage',\n",
       "       'german', 'ghazal', 'gitarre', 'glitch', 'gospel', 'gothic',\n",
       "       'grime', 'grunge', 'gypsy', 'handsup', \"hard'n'heavy\", 'hardcore',\n",
       "       'hardstyle', 'hardtechno', 'hip', 'hip-hop', 'hiphop',\n",
       "       'historisch', 'holiday', 'hop', 'horror', 'house', 'hymn', 'idm',\n",
       "       'independent', 'indian', 'indie', 'indipop', 'industrial',\n",
       "       'inspirational', 'instrumental', 'international', 'irish', 'jam',\n",
       "       'japanese', 'jazz', 'jewish', 'jpop', 'jungle', 'k-pop',\n",
       "       'karadeniz', 'karaoke', 'kayokyoku', 'korean', 'laiko', 'latin',\n",
       "       'latino', 'leftfield', 'local', 'lounge', 'loungeelectronic',\n",
       "       'lovers', 'malaysian', 'mandopop', 'marschmusik', 'meditative',\n",
       "       'mediterranean', 'melodic', 'metal', 'metalcore', 'mexican',\n",
       "       'middle', 'minimal', 'miscellaneous', 'modern', 'mood', 'mpb',\n",
       "       'muslim', 'native', 'neoklassik', 'neue', 'new', 'newage',\n",
       "       'newwave', 'nu', 'nujazz', 'numetal', 'oceania', 'old', 'opera',\n",
       "       'orchestral', 'other', 'piano', 'podcasts', 'pop', 'popdance',\n",
       "       'popelectronic', 'popeurodance', 'poprussian', 'post',\n",
       "       'posthardcore', 'postrock', 'power', 'progmetal', 'progressive',\n",
       "       'psychedelic', 'punjabi', 'punk', 'quebecois', 'ragga', 'ram',\n",
       "       'rancheras', 'rap', 'rave', 'reggae', 'reggaeton', 'regional',\n",
       "       'relax', 'religious', 'retro', 'rhythm', 'rnb', 'rnr', 'rock',\n",
       "       'rockabilly', 'rockalternative', 'rockindie', 'rockother',\n",
       "       'romance', 'roots', 'ruspop', 'rusrap', 'rusrock', 'russian',\n",
       "       'salsa', 'samba', 'scenic', 'schlager', 'self', 'sertanejo',\n",
       "       'shanson', 'shoegazing', 'showtunes', 'singer', 'ska', 'skarock',\n",
       "       'slow', 'smooth', 'soft', 'soul', 'soulful', 'sound', 'soundtrack',\n",
       "       'southern', 'specialty', 'speech', 'spiritual', 'sport',\n",
       "       'stonerrock', 'surf', 'swing', 'synthpop', 'synthrock',\n",
       "       'sängerportrait', 'tango', 'tanzorchester', 'taraftar', 'tatar',\n",
       "       'tech', 'techno', 'teen', 'thrash', 'top', 'traditional',\n",
       "       'tradjazz', 'trance', 'tribal', 'trip', 'triphop', 'tropical',\n",
       "       'türk', 'türkçe', 'ukrrock', 'unknown', 'urban', 'uzbek',\n",
       "       'variété', 'vi', 'videogame', 'vocal', 'western', 'world',\n",
       "       'worldbeat', 'ïîï', 'электроника'], dtype=object)"
      ]
     },
     "execution_count": 15,
     "metadata": {},
     "output_type": "execute_result"
    }
   ],
   "source": [
    "df['genre'].sort_values().unique()"
   ]
  },
  {
   "cell_type": "markdown",
   "metadata": {
    "deletable": false,
    "editable": false,
    "id": "qej-Qmuo_Zct",
    "tags": [
     "start_task"
    ]
   },
   "source": [
    "**Задание 16**\n",
    "\n",
    "Просмотрите список и найдите неявные дубликаты названия `hiphop`. Это могут быть названия с ошибками или альтернативные названия того же жанра.\n",
    "\n",
    "Вы увидите следующие неявные дубликаты:\n",
    "* *hip*,\n",
    "* *hop*,\n",
    "* *hip-hop*.\n",
    "\n",
    "Чтобы очистить от них таблицу используйте метод `replace()` с двумя аргументами: списком строк-дубликатов (включащий *hip*, *hop* и *hip-hop*) и строкой с правильным значением. Вам нужно исправить колонку `genre` в таблице `df`: заменить каждое значение из списка дубликатов на верное. Вместо `hip`, `hop` и `hip-hop` в таблице должно быть значение `hiphop`:"
   ]
  },
  {
   "cell_type": "code",
   "execution_count": 16,
   "metadata": {
    "deletable": false,
    "id": "ErNDkmns_Zct"
   },
   "outputs": [
    {
     "name": "stderr",
     "output_type": "stream",
     "text": [
      "C:\\Users\\79156\\AppData\\Local\\Temp\\ipykernel_18260\\856858268.py:3: SettingWithCopyWarning: \n",
      "A value is trying to be set on a copy of a slice from a DataFrame.\n",
      "Try using .loc[row_indexer,col_indexer] = value instead\n",
      "\n",
      "See the caveats in the documentation: https://pandas.pydata.org/pandas-docs/stable/user_guide/indexing.html#returning-a-view-versus-a-copy\n",
      "  df['genre'] = df['genre'].replace(duplicates, true_hiphop)\n"
     ]
    }
   ],
   "source": [
    "duplicates = ['hip', 'hop', 'hip-hop']\n",
    "true_hiphop = 'hiphop'\n",
    "df['genre'] = df['genre'].replace(duplicates, true_hiphop)"
   ]
  },
  {
   "cell_type": "markdown",
   "metadata": {
    "deletable": false,
    "editable": false,
    "id": "zQKF16_RG15m",
    "tags": [
     "start_task"
    ]
   },
   "source": [
    "**Задание 17**\n",
    "\n",
    "Проверьте, что заменили неправильные названия:\n",
    "\n",
    "*   hip,\n",
    "*   hop,\n",
    "*   hip-hop.\n",
    "\n",
    "Выведите отсортированный список уникальных значений столбца `genre`:"
   ]
  },
  {
   "cell_type": "code",
   "execution_count": 17,
   "metadata": {
    "deletable": false,
    "id": "wvixALnFG15m"
   },
   "outputs": [
    {
     "data": {
      "text/plain": [
       "array(['acid', 'acoustic', 'action', 'adult', 'africa', 'afrikaans',\n",
       "       'alternative', 'alternativepunk', 'ambient', 'americana',\n",
       "       'animated', 'anime', 'arabesk', 'arabic', 'arena',\n",
       "       'argentinetango', 'art', 'audiobook', 'author', 'avantgarde',\n",
       "       'axé', 'baile', 'balkan', 'beats', 'bigroom', 'black', 'bluegrass',\n",
       "       'blues', 'bollywood', 'bossa', 'brazilian', 'breakbeat', 'breaks',\n",
       "       'broadway', 'cantautori', 'cantopop', 'canzone', 'caribbean',\n",
       "       'caucasian', 'celtic', 'chamber', 'chanson', 'children', 'chill',\n",
       "       'chinese', 'choral', 'christian', 'christmas', 'classical',\n",
       "       'classicmetal', 'club', 'colombian', 'comedy', 'conjazz',\n",
       "       'contemporary', 'country', 'cuban', 'dance', 'dancehall',\n",
       "       'dancepop', 'dark', 'death', 'deep', 'deutschrock', 'deutschspr',\n",
       "       'dirty', 'disco', 'dnb', 'documentary', 'downbeat', 'downtempo',\n",
       "       'drum', 'dub', 'dubstep', 'eastern', 'easy', 'electronic',\n",
       "       'electropop', 'emo', 'entehno', 'epicmetal', 'estrada', 'ethnic',\n",
       "       'eurofolk', 'european', 'experimental', 'extrememetal', 'fado',\n",
       "       'fairytail', 'film', 'fitness', 'flamenco', 'folk', 'folklore',\n",
       "       'folkmetal', 'folkrock', 'folktronica', 'forró', 'frankreich',\n",
       "       'französisch', 'french', 'funk', 'future', 'gangsta', 'garage',\n",
       "       'german', 'ghazal', 'gitarre', 'glitch', 'gospel', 'gothic',\n",
       "       'grime', 'grunge', 'gypsy', 'handsup', \"hard'n'heavy\", 'hardcore',\n",
       "       'hardstyle', 'hardtechno', 'hiphop', 'historisch', 'holiday',\n",
       "       'horror', 'house', 'hymn', 'idm', 'independent', 'indian', 'indie',\n",
       "       'indipop', 'industrial', 'inspirational', 'instrumental',\n",
       "       'international', 'irish', 'jam', 'japanese', 'jazz', 'jewish',\n",
       "       'jpop', 'jungle', 'k-pop', 'karadeniz', 'karaoke', 'kayokyoku',\n",
       "       'korean', 'laiko', 'latin', 'latino', 'leftfield', 'local',\n",
       "       'lounge', 'loungeelectronic', 'lovers', 'malaysian', 'mandopop',\n",
       "       'marschmusik', 'meditative', 'mediterranean', 'melodic', 'metal',\n",
       "       'metalcore', 'mexican', 'middle', 'minimal', 'miscellaneous',\n",
       "       'modern', 'mood', 'mpb', 'muslim', 'native', 'neoklassik', 'neue',\n",
       "       'new', 'newage', 'newwave', 'nu', 'nujazz', 'numetal', 'oceania',\n",
       "       'old', 'opera', 'orchestral', 'other', 'piano', 'podcasts', 'pop',\n",
       "       'popdance', 'popelectronic', 'popeurodance', 'poprussian', 'post',\n",
       "       'posthardcore', 'postrock', 'power', 'progmetal', 'progressive',\n",
       "       'psychedelic', 'punjabi', 'punk', 'quebecois', 'ragga', 'ram',\n",
       "       'rancheras', 'rap', 'rave', 'reggae', 'reggaeton', 'regional',\n",
       "       'relax', 'religious', 'retro', 'rhythm', 'rnb', 'rnr', 'rock',\n",
       "       'rockabilly', 'rockalternative', 'rockindie', 'rockother',\n",
       "       'romance', 'roots', 'ruspop', 'rusrap', 'rusrock', 'russian',\n",
       "       'salsa', 'samba', 'scenic', 'schlager', 'self', 'sertanejo',\n",
       "       'shanson', 'shoegazing', 'showtunes', 'singer', 'ska', 'skarock',\n",
       "       'slow', 'smooth', 'soft', 'soul', 'soulful', 'sound', 'soundtrack',\n",
       "       'southern', 'specialty', 'speech', 'spiritual', 'sport',\n",
       "       'stonerrock', 'surf', 'swing', 'synthpop', 'synthrock',\n",
       "       'sängerportrait', 'tango', 'tanzorchester', 'taraftar', 'tatar',\n",
       "       'tech', 'techno', 'teen', 'thrash', 'top', 'traditional',\n",
       "       'tradjazz', 'trance', 'tribal', 'trip', 'triphop', 'tropical',\n",
       "       'türk', 'türkçe', 'ukrrock', 'unknown', 'urban', 'uzbek',\n",
       "       'variété', 'vi', 'videogame', 'vocal', 'western', 'world',\n",
       "       'worldbeat', 'ïîï', 'электроника'], dtype=object)"
      ]
     },
     "execution_count": 17,
     "metadata": {},
     "output_type": "execute_result"
    }
   ],
   "source": [
    "df['genre'].sort_values().unique()"
   ]
  },
  {
   "cell_type": "markdown",
   "metadata": {
    "deletable": false,
    "editable": false,
    "id": "jz6a9-7HQUDd"
   },
   "source": [
    "**Выводы**\n",
    "\n",
    "Предобработка обнаружила три проблемы в данных:\n",
    "\n",
    "- нарушения в стиле заголовков,\n",
    "- пропущенные значения,\n",
    "- дубликаты — явные и неявные.\n",
    "\n",
    "Вы исправили заголовки, чтобы упростить работу с таблицей. Без дубликатов исследование станет более точным.\n",
    "\n",
    "Пропущенные значения вы заменили на `'unknown'`. Ещё предстоит увидеть, не повредят ли исследованию пропуски в колонке `genre`.\n",
    "\n",
    "Теперь можно перейти к проверке гипотез. "
   ]
  },
  {
   "cell_type": "markdown",
   "metadata": {
    "deletable": false,
    "editable": false,
    "id": "WttZHXH0SqKk"
   },
   "source": [
    "## Проверка гипотез"
   ]
  },
  {
   "cell_type": "markdown",
   "metadata": {
    "deletable": false,
    "editable": false,
    "id": "Im936VVi_Zcu"
   },
   "source": [
    "### Сравнение поведения пользователей двух столиц"
   ]
  },
  {
   "cell_type": "markdown",
   "metadata": {
    "deletable": false,
    "editable": false,
    "id": "nwt_MuaL_Zcu"
   },
   "source": [
    "Первая гипотеза утверждает, что пользователи по-разному слушают музыку в Москве и Санкт-Петербурге. Проверьте это предположение по данным о трёх днях недели — понедельнике, среде и пятнице. Для этого:\n",
    "\n",
    "* Разделите пользователей Москвы и Санкт-Петербурга.\n",
    "* Сравните, сколько треков послушала каждая группа пользователей в понедельник, среду и пятницу.\n"
   ]
  },
  {
   "cell_type": "markdown",
   "metadata": {
    "deletable": false,
    "editable": false,
    "id": "8Dw_YMmT_Zcu",
    "tags": [
     "start_task"
    ]
   },
   "source": [
    "**Задание 18**\n",
    "\n",
    "Для тренировки сначала выполните каждый из расчётов по отдельности. \n",
    "\n",
    "Оцените активность пользователей в каждом городе. Сгруппируйте данные по городу и посчитайте прослушивания в каждой группе.\n",
    "\n"
   ]
  },
  {
   "cell_type": "code",
   "execution_count": 18,
   "metadata": {
    "deletable": false,
    "id": "0_Qs96oh_Zcu"
   },
   "outputs": [
    {
     "data": {
      "text/plain": [
       "city\n",
       "Moscow              42741\n",
       "Saint-Petersburg    18512\n",
       "Name: genre, dtype: int64"
      ]
     },
     "execution_count": 18,
     "metadata": {},
     "output_type": "execute_result"
    }
   ],
   "source": [
    "df.groupby('city')['genre'].count()"
   ]
  },
  {
   "cell_type": "markdown",
   "metadata": {
    "deletable": false,
    "editable": false,
    "id": "dzli3w8o_Zcu",
    "tags": [
     "start_task"
    ]
   },
   "source": [
    "В Москве прослушиваний больше, чем в Петербурге. Из этого не следует, что московские пользователи чаще слушают музыку. Просто самих пользователей в Москве больше.\n",
    "\n",
    "**Задание 19**\n",
    "\n",
    "Теперь сгруппируйте данные по дню недели и посчитайте прослушивания в понедельник, среду и пятницу. Учтите, что в данных есть информация о прослушиваниях только за эти дни.\n"
   ]
  },
  {
   "cell_type": "code",
   "execution_count": 19,
   "metadata": {
    "deletable": false,
    "id": "uZMKjiJz_Zcu"
   },
   "outputs": [
    {
     "data": {
      "text/plain": [
       "day\n",
       "Friday       21840\n",
       "Monday       21354\n",
       "Wednesday    18059\n",
       "Name: genre, dtype: int64"
      ]
     },
     "execution_count": 19,
     "metadata": {},
     "output_type": "execute_result"
    }
   ],
   "source": [
    "df.groupby('day')['genre'].count()"
   ]
  },
  {
   "cell_type": "markdown",
   "metadata": {
    "deletable": false,
    "editable": false,
    "id": "cC2tNrlL_Zcu"
   },
   "source": [
    "В среднем пользователи из двух городов менее активны по средам. Но картина может измениться, если рассмотреть каждый город в отдельности."
   ]
  },
  {
   "cell_type": "markdown",
   "metadata": {
    "deletable": false,
    "editable": false,
    "id": "POzs8bGa_Zcu",
    "tags": [
     "start_task"
    ]
   },
   "source": [
    "**Задание 20**\n",
    "\n",
    "\n",
    "Вы видели, как работает группировка по городу и по дням недели. Теперь напишите функцию, которая объединит два эти расчёта.\n",
    "\n",
    "Создайте функцию `number_tracks()`, которая посчитает прослушивания для заданного дня и города. Ей понадобятся два параметра:\n",
    "* день недели,\n",
    "* название города.\n",
    "\n",
    "В функции сохраните в переменную строки исходной таблицы, у которых значение:\n",
    "  * в колонке `day` равно параметру `day`,\n",
    "  * в колонке `city` равно параметру `city`.\n",
    "\n",
    "Для этого примените последовательную фильтрацию с логической индексацией (или сложные логические выражения в одну строку, если вы уже знакомы с ними).\n",
    "\n",
    "Затем посчитайте значения в столбце `user_id` получившейся таблицы. Результат сохраните в новую переменную. Верните эту переменную из функции."
   ]
  },
  {
   "cell_type": "code",
   "execution_count": 20,
   "metadata": {
    "deletable": false,
    "id": "Nz3GdQB1_Zcu"
   },
   "outputs": [],
   "source": [
    "def number_tracks(day, city):\n",
    "    track_list = df[(df['day'] == day) & (df['city'] == city)]\n",
    "    track_list_count = track_list['user_id'].count()\n",
    "    return track_list_count\n",
    "# <создание функции number_tracks()>\n",
    "# Объявляется функция с двумя параметрами: day, city.\n",
    "# В переменной track_list сохраняются те строки таблицы df, для которых \n",
    "# значение в столбце 'day' равно параметру day и одновременно значение\n",
    "# в столбце 'city' равно параметру city (используйте последовательную фильтрацию\n",
    "# с помощью логической индексации или сложные логические выражения в одну строку, если вы уже знакомы с ними).\n",
    "# В переменной track_list_count сохраняется число значений столбца 'user_id',\n",
    "# рассчитанное методом count() для таблицы track_list.\n",
    "# Функция возвращает число - значение track_list_count.\n",
    "\n",
    "# Функция для подсчёта прослушиваний для конкретного города и дня.\n",
    "# С помощью последовательной фильтрации с логической индексацией она \n",
    "# сначала получит из исходной таблицы строки с нужным днём,\n",
    "# затем из результата отфильтрует строки с нужным городом,\n",
    "# методом count() посчитает количество значений в колонке user_id. \n",
    "# Это количество функция вернёт в качестве результата"
   ]
  },
  {
   "cell_type": "markdown",
   "metadata": {
    "deletable": false,
    "editable": false,
    "id": "ytf7xFrFJQ2r",
    "tags": [
     "start_task"
    ]
   },
   "source": [
    "**Задание 21**\n",
    "\n",
    "Вызовите `number_tracks()` шесть раз, меняя значение параметров — так, чтобы получить данные для каждого города в каждый из трёх дней."
   ]
  },
  {
   "cell_type": "code",
   "execution_count": 21,
   "metadata": {
    "deletable": false,
    "id": "rJcRATNQ_Zcu"
   },
   "outputs": [
    {
     "data": {
      "text/plain": [
       "15740"
      ]
     },
     "execution_count": 21,
     "metadata": {},
     "output_type": "execute_result"
    }
   ],
   "source": [
    "number_tracks('Monday', 'Moscow')# количество прослушиваний в Москве по понедельникам# количество прослушиваний в Москве по понедельникам"
   ]
  },
  {
   "cell_type": "code",
   "execution_count": 22,
   "metadata": {
    "deletable": false,
    "id": "hq_ncZ5T_Zcu"
   },
   "outputs": [
    {
     "data": {
      "text/plain": [
       "5614"
      ]
     },
     "execution_count": 22,
     "metadata": {},
     "output_type": "execute_result"
    }
   ],
   "source": [
    "number_tracks('Monday', 'Saint-Petersburg')# количество прослушиваний в Санкт-Петербурге по понедельникам"
   ]
  },
  {
   "cell_type": "code",
   "execution_count": 23,
   "metadata": {
    "deletable": false,
    "id": "_NTy2VPU_Zcu"
   },
   "outputs": [
    {
     "data": {
      "text/plain": [
       "11056"
      ]
     },
     "execution_count": 23,
     "metadata": {},
     "output_type": "execute_result"
    }
   ],
   "source": [
    "number_tracks('Wednesday', 'Moscow')# количество прослушиваний в Москве по средам"
   ]
  },
  {
   "cell_type": "code",
   "execution_count": 24,
   "metadata": {
    "deletable": false,
    "id": "j2y3TAwo_Zcu"
   },
   "outputs": [
    {
     "data": {
      "text/plain": [
       "7003"
      ]
     },
     "execution_count": 24,
     "metadata": {},
     "output_type": "execute_result"
    }
   ],
   "source": [
    "number_tracks('Wednesday', 'Saint-Petersburg')# количество прослушиваний в Санкт-Петербурге по средам"
   ]
  },
  {
   "cell_type": "code",
   "execution_count": 25,
   "metadata": {
    "deletable": false,
    "id": "vYDw5u_K_Zcu"
   },
   "outputs": [
    {
     "data": {
      "text/plain": [
       "15945"
      ]
     },
     "execution_count": 25,
     "metadata": {},
     "output_type": "execute_result"
    }
   ],
   "source": [
    "number_tracks('Friday', 'Moscow')# количество прослушиваний в Москве по пятницам"
   ]
  },
  {
   "cell_type": "code",
   "execution_count": 26,
   "metadata": {
    "deletable": false,
    "id": "8_yzFtW3_Zcu"
   },
   "outputs": [
    {
     "data": {
      "text/plain": [
       "5895"
      ]
     },
     "execution_count": 26,
     "metadata": {},
     "output_type": "execute_result"
    }
   ],
   "source": [
    "number_tracks('Friday', 'Saint-Petersburg')# количество прослушиваний в Санкт-Петербурге по пятницам"
   ]
  },
  {
   "cell_type": "markdown",
   "metadata": {
    "deletable": false,
    "editable": false,
    "id": "7QXffbO-_Zcu",
    "tags": [
     "start_task"
    ]
   },
   "source": [
    "**Задание 22**\n",
    "\n",
    "Создайте c помощью конструктора `pd.DataFrame` таблицу, где\n",
    "* названия колонок — `['city', 'monday', 'wednesday', 'friday']`;\n",
    "* данные — результаты, которые вы получили с помощью `number_tracks`."
   ]
  },
  {
   "cell_type": "code",
   "execution_count": 27,
   "metadata": {
    "deletable": false,
    "id": "APAcLpOr_Zcu"
   },
   "outputs": [
    {
     "data": {
      "text/html": [
       "<div>\n",
       "<style scoped>\n",
       "    .dataframe tbody tr th:only-of-type {\n",
       "        vertical-align: middle;\n",
       "    }\n",
       "\n",
       "    .dataframe tbody tr th {\n",
       "        vertical-align: top;\n",
       "    }\n",
       "\n",
       "    .dataframe thead th {\n",
       "        text-align: right;\n",
       "    }\n",
       "</style>\n",
       "<table border=\"1\" class=\"dataframe\">\n",
       "  <thead>\n",
       "    <tr style=\"text-align: right;\">\n",
       "      <th></th>\n",
       "      <th>city</th>\n",
       "      <th>monday</th>\n",
       "      <th>wednesday</th>\n",
       "      <th>friday</th>\n",
       "    </tr>\n",
       "  </thead>\n",
       "  <tbody>\n",
       "    <tr>\n",
       "      <th>0</th>\n",
       "      <td>Moscow</td>\n",
       "      <td>15740</td>\n",
       "      <td>11056</td>\n",
       "      <td>15945</td>\n",
       "    </tr>\n",
       "    <tr>\n",
       "      <th>1</th>\n",
       "      <td>Saint-Petersburg</td>\n",
       "      <td>5614</td>\n",
       "      <td>7003</td>\n",
       "      <td>5895</td>\n",
       "    </tr>\n",
       "  </tbody>\n",
       "</table>\n",
       "</div>"
      ],
      "text/plain": [
       "               city  monday  wednesday  friday\n",
       "0            Moscow   15740      11056   15945\n",
       "1  Saint-Petersburg    5614       7003    5895"
      ]
     },
     "execution_count": 27,
     "metadata": {},
     "output_type": "execute_result"
    }
   ],
   "source": [
    "data = [['Moscow', 15740, 11056, 15945],\n",
    "       ['Saint-Petersburg', 5614, 7003, 5895]]\n",
    "columns = ['city', 'monday', 'wednesday', 'friday']\n",
    "info = pd.DataFrame(data = data, columns = columns)\n",
    "info"
   ]
  },
  {
   "cell_type": "markdown",
   "metadata": {
    "deletable": false,
    "editable": false,
    "id": "-EgPIHYu_Zcu"
   },
   "source": [
    "**Выводы**\n",
    "\n",
    "Данные показывают разницу поведения пользователей:\n",
    "\n",
    "- В Москве пик прослушиваний приходится на понедельник и пятницу, а в среду заметен спад.\n",
    "- В Петербурге, наоборот, больше слушают музыку по средам. Активность в понедельник и пятницу здесь почти в равной мере уступает среде.\n",
    "\n",
    "Значит, данные говорят в пользу первой гипотезы."
   ]
  },
  {
   "cell_type": "markdown",
   "metadata": {
    "deletable": false,
    "editable": false,
    "id": "atZAxtq4_Zcu"
   },
   "source": [
    "### Музыка в начале и в конце недели"
   ]
  },
  {
   "cell_type": "markdown",
   "metadata": {
    "deletable": false,
    "editable": false,
    "id": "eXrQqXFH_Zcu"
   },
   "source": [
    "Согласно второй гипотезе, утром в понедельник в Москве преобладают одни жанры, а в Петербурге — другие. Так же и вечером пятницы преобладают разные жанры — в зависимости от города."
   ]
  },
  {
   "cell_type": "markdown",
   "metadata": {
    "deletable": false,
    "editable": false,
    "id": "S8UcW6Hw_Zcu",
    "tags": [
     "start_task"
    ]
   },
   "source": [
    "**Задание 23**\n",
    "\n",
    "Сохраните таблицы с данными в две переменные:\n",
    "* по Москве — в `moscow_general`;\n",
    "* по Санкт-Петербургу — в `spb_general`."
   ]
  },
  {
   "cell_type": "code",
   "execution_count": 28,
   "metadata": {
    "deletable": false,
    "id": "qeaFfM_P_Zcu"
   },
   "outputs": [],
   "source": [
    "# получение таблицы moscow_general из тех строк таблицы df, \n",
    "# для которых значение в столбце 'city' равно 'Moscow'\n",
    "moscow_general = df[df['city'] == 'Moscow']\n"
   ]
  },
  {
   "cell_type": "code",
   "execution_count": 29,
   "metadata": {
    "deletable": false,
    "id": "ORaVRKto_Zcu"
   },
   "outputs": [],
   "source": [
    "# получение таблицы spb_general из тех строк таблицы df,\n",
    "# для которых значение в столбце 'city' равно 'Saint-Petersburg'\n",
    "spb_general = df[df['city'] == 'Saint-Petersburg'] \n"
   ]
  },
  {
   "cell_type": "markdown",
   "metadata": {
    "deletable": false,
    "editable": false,
    "id": "MEJV-CX2_Zcu",
    "tags": [
     "start_task"
    ]
   },
   "source": [
    "**Задание 24**\n",
    "\n",
    "Создайте функцию `genre_weekday()` с четырьмя параметрами:\n",
    "* таблица (датафрейм) с данными,\n",
    "* день недели,\n",
    "* начальная временная метка в формате 'hh:mm', \n",
    "* последняя временная метка в формате 'hh:mm'.\n",
    "\n",
    "Функция должна вернуть информацию о топ-10 жанров тех треков, которые прослушивали в указанный день, в промежутке между двумя отметками времени."
   ]
  },
  {
   "cell_type": "code",
   "execution_count": 30,
   "metadata": {
    "deletable": false,
    "id": "laJT9BYl_Zcu"
   },
   "outputs": [],
   "source": [
    "def genre_weekday(df, day, time1, time2):\n",
    "    genre_df = df[(df['day'] == day)]\n",
    "    genre_df = genre_df[(genre_df['time'] < time2)] \n",
    "    genre_df = genre_df[(genre_df['time'] > time1)] \n",
    "    genre_df_grouped = genre_df.groupby('genre')['genre'].count()\n",
    "    genre_df_sorted = genre_df_grouped.sort_values(ascending = False) \n",
    "    return genre_df_sorted[:10]\n",
    "\n",
    "\n"
   ]
  },
  {
   "cell_type": "markdown",
   "metadata": {
    "deletable": false,
    "editable": false,
    "id": "la2s2_PF_Zcu",
    "tags": [
     "start_task"
    ]
   },
   "source": [
    "**Задание 25**\n",
    "\n",
    "\n",
    "Cравните результаты функции `genre_weekday()` для Москвы и Санкт-Петербурга в понедельник утром (с 7:00 до 11:00) и в пятницу вечером (с 17:00 до 23:00):"
   ]
  },
  {
   "cell_type": "code",
   "execution_count": 31,
   "metadata": {
    "deletable": false,
    "id": "yz7itPUQ_Zcu"
   },
   "outputs": [
    {
     "data": {
      "text/plain": [
       "genre\n",
       "pop            781\n",
       "dance          549\n",
       "electronic     480\n",
       "rock           474\n",
       "hiphop         286\n",
       "ruspop         186\n",
       "world          181\n",
       "rusrap         175\n",
       "alternative    164\n",
       "unknown        161\n",
       "Name: genre, dtype: int64"
      ]
     },
     "execution_count": 31,
     "metadata": {},
     "output_type": "execute_result"
    }
   ],
   "source": [
    "genre_weekday(moscow_general, 'Monday', '07:00', '11:00')"
   ]
  },
  {
   "cell_type": "code",
   "execution_count": 32,
   "metadata": {
    "deletable": false,
    "id": "kwUcHPdy_Zcu"
   },
   "outputs": [
    {
     "data": {
      "text/plain": [
       "genre\n",
       "pop            218\n",
       "dance          182\n",
       "rock           162\n",
       "electronic     147\n",
       "hiphop          80\n",
       "ruspop          64\n",
       "alternative     58\n",
       "rusrap          55\n",
       "jazz            44\n",
       "classical       40\n",
       "Name: genre, dtype: int64"
      ]
     },
     "execution_count": 32,
     "metadata": {},
     "output_type": "execute_result"
    }
   ],
   "source": [
    "genre_weekday(spb_general, 'Monday', '07:00', '11:00')"
   ]
  },
  {
   "cell_type": "code",
   "execution_count": 33,
   "metadata": {
    "deletable": false,
    "id": "EzXVRE1o_Zcu"
   },
   "outputs": [
    {
     "data": {
      "text/plain": [
       "genre\n",
       "pop            713\n",
       "rock           517\n",
       "dance          495\n",
       "electronic     482\n",
       "hiphop         273\n",
       "world          208\n",
       "ruspop         170\n",
       "alternative    163\n",
       "classical      163\n",
       "rusrap         142\n",
       "Name: genre, dtype: int64"
      ]
     },
     "execution_count": 33,
     "metadata": {},
     "output_type": "execute_result"
    }
   ],
   "source": [
    "genre_weekday(moscow_general, 'Friday', '17:00', '23:00')"
   ]
  },
  {
   "cell_type": "code",
   "execution_count": 34,
   "metadata": {
    "deletable": false,
    "id": "JZaEKu5v_Zcu"
   },
   "outputs": [
    {
     "data": {
      "text/plain": [
       "genre\n",
       "pop            256\n",
       "electronic     216\n",
       "rock           216\n",
       "dance          210\n",
       "hiphop          97\n",
       "alternative     63\n",
       "jazz            61\n",
       "classical       60\n",
       "rusrap          59\n",
       "world           54\n",
       "Name: genre, dtype: int64"
      ]
     },
     "execution_count": 34,
     "metadata": {},
     "output_type": "execute_result"
    }
   ],
   "source": [
    "genre_weekday(spb_general, 'Friday', '17:00', '23:00')"
   ]
  },
  {
   "cell_type": "markdown",
   "metadata": {
    "deletable": false,
    "editable": false,
    "id": "wrCe4MNX_Zcu"
   },
   "source": [
    "**Выводы**\n",
    "\n",
    "Если сравнить топ-10 жанров в понедельник утром, можно сделать такие выводы:\n",
    "\n",
    "1. В Москве и Петербурге слушают похожую музыку. Единственное отличие — в московский рейтинг вошёл жанр “world”, а в петербургский — джаз и классика.\n",
    "\n",
    "2. В Москве пропущенных значений оказалось так много, что значение `'unknown'` заняло десятое место среди самых популярных жанров. Значит, пропущенные значения занимают существенную долю в данных и угрожают достоверности исследования.\n",
    "\n",
    "Вечер пятницы не меняет эту картину. Некоторые жанры поднимаются немного выше, другие спускаются, но в целом топ-10 остаётся тем же самым.\n",
    "\n",
    "Таким образом, вторая гипотеза подтвердилась лишь частично:\n",
    "* Пользователи слушают похожую музыку в начале недели и в конце.\n",
    "* Разница между Москвой и Петербургом не слишком выражена. В Москве чаще слушают русскую популярную музыку, в Петербурге — джаз.\n",
    "\n",
    "Однако пропуски в данных ставят под сомнение этот результат. В Москве их так много, что рейтинг топ-10 мог бы выглядеть иначе, если бы не утерянные  данные о жанрах."
   ]
  },
  {
   "cell_type": "markdown",
   "metadata": {
    "deletable": false,
    "editable": false,
    "id": "JolODAqr_Zcu"
   },
   "source": [
    "### Жанровые предпочтения в Москве и Петербурге\n",
    "\n",
    "Гипотеза: Петербург — столица рэпа, музыку этого жанра там слушают чаще, чем в Москве.  А Москва — город контрастов, в котором, тем не менее, преобладает поп-музыка."
   ]
  },
  {
   "cell_type": "markdown",
   "metadata": {
    "deletable": false,
    "editable": false,
    "id": "DlegSvaT_Zcu",
    "tags": [
     "start_task"
    ]
   },
   "source": [
    "**Задание 26**\n",
    "\n",
    "Сгруппируйте таблицу `moscow_general` по жанру и посчитайте прослушивания треков каждого жанра методом `count()`. Затем отсортируйте результат в порядке убывания и сохраните его в таблице `moscow_genres`."
   ]
  },
  {
   "cell_type": "code",
   "execution_count": 35,
   "metadata": {
    "deletable": false,
    "id": "r19lIPke_Zcu"
   },
   "outputs": [],
   "source": [
    "moscow_genres = moscow_general.groupby('genre')['genre'].count().sort_values(ascending = False)"
   ]
  },
  {
   "cell_type": "markdown",
   "metadata": {
    "deletable": false,
    "editable": false,
    "id": "6kMuomxTiIr8",
    "tags": [
     "start_task"
    ]
   },
   "source": [
    "**Задание 27**\n",
    "\n",
    "Выведите на экран первые десять строк `moscow_genres`:"
   ]
  },
  {
   "cell_type": "code",
   "execution_count": 36,
   "metadata": {
    "deletable": false,
    "id": "WhCSooF8_Zcv"
   },
   "outputs": [
    {
     "data": {
      "text/plain": [
       "genre\n",
       "pop            5892\n",
       "dance          4435\n",
       "rock           3965\n",
       "electronic     3786\n",
       "hiphop         2096\n",
       "classical      1616\n",
       "world          1432\n",
       "alternative    1379\n",
       "ruspop         1372\n",
       "rusrap         1161\n",
       "Name: genre, dtype: int64"
      ]
     },
     "execution_count": 36,
     "metadata": {},
     "output_type": "execute_result"
    }
   ],
   "source": [
    "moscow_genres.head(10)"
   ]
  },
  {
   "cell_type": "markdown",
   "metadata": {
    "deletable": false,
    "editable": false,
    "id": "cnPG2vnN_Zcv",
    "tags": [
     "start_task"
    ]
   },
   "source": [
    "**Задание 28**\n",
    "\n",
    "\n",
    "Теперь повторите то же и для Петербурга.\n",
    "\n",
    "Сгруппируйте таблицу `spb_general` по жанру. Посчитайте прослушивания треков каждого жанра. Результат отсортируйте в порядке убывания и сохраните в таблице `spb_genres`:\n"
   ]
  },
  {
   "cell_type": "code",
   "execution_count": 37,
   "metadata": {
    "deletable": false,
    "id": "gluLIpE7_Zcv"
   },
   "outputs": [],
   "source": [
    "spb_genres = spb_general.groupby('genre')['genre'].count().sort_values(ascending = False)"
   ]
  },
  {
   "cell_type": "markdown",
   "metadata": {
    "deletable": false,
    "editable": false,
    "id": "5Doha_ODgyQ8",
    "tags": [
     "start_task"
    ]
   },
   "source": [
    "**Задание 29**\n",
    "\n",
    "Выведите на экран первые десять строк `spb_genres`:"
   ]
  },
  {
   "cell_type": "code",
   "execution_count": 38,
   "metadata": {
    "deletable": false,
    "id": "uaGJHjVU_Zcv"
   },
   "outputs": [
    {
     "data": {
      "text/plain": [
       "genre\n",
       "pop            2431\n",
       "dance          1932\n",
       "rock           1879\n",
       "electronic     1736\n",
       "hiphop          960\n",
       "alternative     649\n",
       "classical       646\n",
       "rusrap          564\n",
       "ruspop          538\n",
       "world           515\n",
       "Name: genre, dtype: int64"
      ]
     },
     "execution_count": 38,
     "metadata": {},
     "output_type": "execute_result"
    }
   ],
   "source": [
    "spb_genres.head(10)"
   ]
  },
  {
   "cell_type": "markdown",
   "metadata": {
    "deletable": false,
    "editable": false,
    "id": "RY51YJYu_Zcv"
   },
   "source": [
    "**Выводы**"
   ]
  },
  {
   "cell_type": "markdown",
   "metadata": {
    "deletable": false,
    "editable": false,
    "id": "nVhnJEm__Zcv"
   },
   "source": [
    "Гипотеза частично подтвердилась:\n",
    "* Поп-музыка — самый популярный жанр в Москве, как и предполагала гипотеза. Более того, в топ-10 жанров встречается близкий жанр — русская популярная музыка.\n",
    "* Вопреки ожиданиям, рэп одинаково популярен в Москве и Петербурге. \n"
   ]
  },
  {
   "cell_type": "markdown",
   "metadata": {
    "deletable": false,
    "editable": false,
    "id": "ykKQ0N65_Zcv"
   },
   "source": [
    "## Итоги исследования"
   ]
  },
  {
   "cell_type": "markdown",
   "metadata": {
    "deletable": false,
    "editable": false,
    "id": "tjUwbHb3_Zcv"
   },
   "source": [
    "Вы проверили три гипотезы и установили:\n",
    "\n",
    "1. День недели по-разному влияет на активность пользователей в Москве и Петербурге. \n",
    "\n",
    "Первая гипотеза полностью подтвердилась.\n",
    "\n",
    "2. Музыкальные предпочтения не сильно меняются в течение недели — будь то Москва или Петербург. Небольшие различия заметны в начале недели, по понедельникам:\n",
    "* в Москве слушают музыку жанра “world”,\n",
    "* в Петербурге — джаз и классику.\n",
    "\n",
    "Таким образом, вторая гипотеза подтвердилась лишь отчасти. Этот результат мог оказаться иным, если бы не пропуски в данных.\n",
    "\n",
    "3. Во вкусах пользователей Москвы и Петербурга больше общего чем различий. Вопреки ожиданиям, предпочтения жанров в Петербурге напоминают московские.\n",
    "\n",
    "Третья гипотеза не подтвердилась. Если различия в предпочтениях и существуют, на основной массе пользователей они незаметны.\n",
    "\n",
    "**На практике исследования содержат проверки статистических гипотез.**\n",
    "Из данных одного сервиса не всегда можно сделать вывод о всех жителях города.\n",
    "Проверки статистических гипотез покажут, насколько они достоверны, исходя из имеющихся данных. \n",
    "С методами проверок гипотез вы ещё познакомитесь в следующих темах."
   ]
  }
 ],
 "metadata": {
  "ExecuteTimeLog": [
   {
    "duration": 44,
    "start_time": "2022-12-13T20:11:52.897Z"
   },
   {
    "duration": 5,
    "start_time": "2022-12-13T20:12:40.348Z"
   },
   {
    "duration": 5,
    "start_time": "2022-12-13T20:12:45.344Z"
   },
   {
    "duration": 5,
    "start_time": "2022-12-13T20:15:13.290Z"
   },
   {
    "duration": 5,
    "start_time": "2022-12-13T20:16:06.049Z"
   },
   {
    "duration": 5,
    "start_time": "2022-12-13T20:17:32.878Z"
   },
   {
    "duration": 5,
    "start_time": "2022-12-13T20:17:49.224Z"
   },
   {
    "duration": 5,
    "start_time": "2022-12-13T20:17:57.775Z"
   },
   {
    "duration": 385,
    "start_time": "2022-12-13T20:43:52.819Z"
   },
   {
    "duration": 154,
    "start_time": "2022-12-13T20:43:53.205Z"
   },
   {
    "duration": 153,
    "start_time": "2022-12-13T20:43:53.360Z"
   },
   {
    "duration": 26,
    "start_time": "2022-12-13T20:43:53.515Z"
   },
   {
    "duration": 2,
    "start_time": "2022-12-13T20:43:53.543Z"
   },
   {
    "duration": 10,
    "start_time": "2022-12-13T20:43:53.546Z"
   },
   {
    "duration": 6,
    "start_time": "2022-12-13T20:43:53.557Z"
   },
   {
    "duration": 13,
    "start_time": "2022-12-13T20:43:53.565Z"
   },
   {
    "duration": 6,
    "start_time": "2022-12-13T20:43:53.579Z"
   },
   {
    "duration": 10,
    "start_time": "2022-12-13T20:43:53.588Z"
   },
   {
    "duration": 6,
    "start_time": "2022-12-13T20:43:53.599Z"
   },
   {
    "duration": 5,
    "start_time": "2022-12-13T20:43:53.607Z"
   },
   {
    "duration": 13,
    "start_time": "2022-12-13T20:43:53.613Z"
   },
   {
    "duration": 7,
    "start_time": "2022-12-13T20:43:53.627Z"
   },
   {
    "duration": 16,
    "start_time": "2022-12-13T20:43:53.636Z"
   },
   {
    "duration": 10,
    "start_time": "2022-12-13T20:43:53.654Z"
   },
   {
    "duration": 14,
    "start_time": "2022-12-13T20:43:53.666Z"
   },
   {
    "duration": 10,
    "start_time": "2022-12-13T20:43:53.682Z"
   },
   {
    "duration": 22,
    "start_time": "2022-12-13T20:43:53.693Z"
   },
   {
    "duration": 9,
    "start_time": "2022-12-13T20:43:53.717Z"
   },
   {
    "duration": 17,
    "start_time": "2022-12-13T20:43:53.727Z"
   },
   {
    "duration": 13,
    "start_time": "2022-12-13T20:43:53.745Z"
   },
   {
    "duration": 14,
    "start_time": "2022-12-13T20:43:53.760Z"
   },
   {
    "duration": 11,
    "start_time": "2022-12-13T20:43:53.775Z"
   },
   {
    "duration": 18,
    "start_time": "2022-12-13T20:43:53.788Z"
   },
   {
    "duration": 13,
    "start_time": "2022-12-13T20:43:53.808Z"
   },
   {
    "duration": 9,
    "start_time": "2022-12-13T20:43:53.823Z"
   },
   {
    "duration": 4,
    "start_time": "2022-12-13T20:43:53.835Z"
   },
   {
    "duration": 5,
    "start_time": "2022-12-13T20:43:53.840Z"
   },
   {
    "duration": 74,
    "start_time": "2022-12-13T20:43:53.846Z"
   },
   {
    "duration": 0,
    "start_time": "2022-12-13T20:43:53.921Z"
   },
   {
    "duration": 0,
    "start_time": "2022-12-13T20:43:53.922Z"
   },
   {
    "duration": 0,
    "start_time": "2022-12-13T20:43:53.924Z"
   },
   {
    "duration": 0,
    "start_time": "2022-12-13T20:43:53.924Z"
   },
   {
    "duration": 0,
    "start_time": "2022-12-13T20:43:53.925Z"
   },
   {
    "duration": 0,
    "start_time": "2022-12-13T20:43:53.926Z"
   },
   {
    "duration": 0,
    "start_time": "2022-12-13T20:43:53.927Z"
   },
   {
    "duration": 0,
    "start_time": "2022-12-13T20:43:53.928Z"
   },
   {
    "duration": 175,
    "start_time": "2022-12-13T20:45:05.486Z"
   },
   {
    "duration": 167,
    "start_time": "2022-12-13T20:45:12.946Z"
   },
   {
    "duration": 159,
    "start_time": "2022-12-13T20:45:16.270Z"
   },
   {
    "duration": 171,
    "start_time": "2022-12-13T20:45:25.042Z"
   },
   {
    "duration": 174,
    "start_time": "2022-12-13T20:45:33.079Z"
   },
   {
    "duration": 1390,
    "start_time": "2022-12-13T21:06:50.549Z"
   },
   {
    "duration": 11,
    "start_time": "2022-12-13T21:07:20.052Z"
   },
   {
    "duration": 10,
    "start_time": "2022-12-13T21:07:26.630Z"
   },
   {
    "duration": 27,
    "start_time": "2022-12-13T21:07:35.225Z"
   },
   {
    "duration": 7,
    "start_time": "2022-12-13T21:09:11.697Z"
   },
   {
    "duration": 6,
    "start_time": "2022-12-13T21:09:18.803Z"
   },
   {
    "duration": 6,
    "start_time": "2022-12-13T21:09:21.217Z"
   },
   {
    "duration": 7,
    "start_time": "2022-12-13T21:09:23.497Z"
   },
   {
    "duration": 3,
    "start_time": "2022-12-13T21:13:43.207Z"
   },
   {
    "duration": 7,
    "start_time": "2022-12-13T21:14:02.328Z"
   },
   {
    "duration": 3,
    "start_time": "2022-12-13T21:14:17.164Z"
   },
   {
    "duration": 3,
    "start_time": "2022-12-13T21:14:20.855Z"
   },
   {
    "duration": 11,
    "start_time": "2022-12-13T21:19:41.399Z"
   },
   {
    "duration": 30,
    "start_time": "2022-12-13T21:19:49.812Z"
   },
   {
    "duration": 20,
    "start_time": "2022-12-13T21:19:58.949Z"
   },
   {
    "duration": 26,
    "start_time": "2022-12-13T21:20:06.884Z"
   },
   {
    "duration": 25,
    "start_time": "2022-12-13T21:20:15.514Z"
   },
   {
    "duration": 24,
    "start_time": "2022-12-13T21:20:20.687Z"
   },
   {
    "duration": 24,
    "start_time": "2022-12-13T21:20:40.629Z"
   },
   {
    "duration": 21,
    "start_time": "2022-12-13T21:20:52.041Z"
   },
   {
    "duration": 27,
    "start_time": "2022-12-13T21:21:11.296Z"
   },
   {
    "duration": 66,
    "start_time": "2022-12-13T21:21:14.720Z"
   },
   {
    "duration": 28,
    "start_time": "2022-12-13T21:21:18.401Z"
   },
   {
    "duration": 20,
    "start_time": "2022-12-13T21:21:30.142Z"
   },
   {
    "duration": 13,
    "start_time": "2022-12-13T21:22:35.173Z"
   },
   {
    "duration": 4,
    "start_time": "2022-12-13T21:38:01.785Z"
   },
   {
    "duration": 23,
    "start_time": "2022-12-13T21:40:48.453Z"
   },
   {
    "duration": 90,
    "start_time": "2022-12-13T21:52:50.751Z"
   },
   {
    "duration": 18,
    "start_time": "2022-12-13T23:18:40.077Z"
   },
   {
    "duration": 16,
    "start_time": "2022-12-13T23:18:43.342Z"
   },
   {
    "duration": 48,
    "start_time": "2022-12-14T10:26:40.856Z"
   },
   {
    "duration": 9,
    "start_time": "2022-12-14T10:26:53.333Z"
   },
   {
    "duration": 6,
    "start_time": "2022-12-14T10:27:02.630Z"
   },
   {
    "duration": 429,
    "start_time": "2022-12-14T10:27:13.006Z"
   },
   {
    "duration": 244,
    "start_time": "2022-12-14T10:27:13.437Z"
   },
   {
    "duration": 18,
    "start_time": "2022-12-14T10:27:13.682Z"
   },
   {
    "duration": 29,
    "start_time": "2022-12-14T10:27:13.702Z"
   },
   {
    "duration": 2,
    "start_time": "2022-12-14T10:27:13.733Z"
   },
   {
    "duration": 6,
    "start_time": "2022-12-14T10:27:13.737Z"
   },
   {
    "duration": 27,
    "start_time": "2022-12-14T10:27:13.745Z"
   },
   {
    "duration": 11,
    "start_time": "2022-12-14T10:27:13.773Z"
   },
   {
    "duration": 44,
    "start_time": "2022-12-14T10:27:13.786Z"
   },
   {
    "duration": 20,
    "start_time": "2022-12-14T10:27:13.834Z"
   },
   {
    "duration": 26,
    "start_time": "2022-12-14T10:27:13.856Z"
   },
   {
    "duration": 15,
    "start_time": "2022-12-14T10:27:13.883Z"
   },
   {
    "duration": 14,
    "start_time": "2022-12-14T10:27:13.899Z"
   },
   {
    "duration": 16,
    "start_time": "2022-12-14T10:27:13.915Z"
   },
   {
    "duration": 24,
    "start_time": "2022-12-14T10:27:13.932Z"
   },
   {
    "duration": 11,
    "start_time": "2022-12-14T10:27:13.959Z"
   },
   {
    "duration": 23,
    "start_time": "2022-12-14T10:27:13.971Z"
   },
   {
    "duration": 11,
    "start_time": "2022-12-14T10:27:13.996Z"
   },
   {
    "duration": 27,
    "start_time": "2022-12-14T10:27:14.009Z"
   },
   {
    "duration": 28,
    "start_time": "2022-12-14T10:27:14.038Z"
   },
   {
    "duration": 37,
    "start_time": "2022-12-14T10:27:14.068Z"
   },
   {
    "duration": 29,
    "start_time": "2022-12-14T10:27:14.107Z"
   },
   {
    "duration": 17,
    "start_time": "2022-12-14T10:27:14.138Z"
   },
   {
    "duration": 30,
    "start_time": "2022-12-14T10:27:14.157Z"
   },
   {
    "duration": 31,
    "start_time": "2022-12-14T10:27:14.189Z"
   },
   {
    "duration": 15,
    "start_time": "2022-12-14T10:27:14.222Z"
   },
   {
    "duration": 29,
    "start_time": "2022-12-14T10:27:14.239Z"
   },
   {
    "duration": 19,
    "start_time": "2022-12-14T10:27:14.272Z"
   },
   {
    "duration": 31,
    "start_time": "2022-12-14T10:27:14.293Z"
   },
   {
    "duration": 55,
    "start_time": "2022-12-14T10:27:14.326Z"
   },
   {
    "duration": 0,
    "start_time": "2022-12-14T10:27:14.383Z"
   },
   {
    "duration": 0,
    "start_time": "2022-12-14T10:27:14.385Z"
   },
   {
    "duration": 0,
    "start_time": "2022-12-14T10:27:14.386Z"
   },
   {
    "duration": 0,
    "start_time": "2022-12-14T10:27:14.387Z"
   },
   {
    "duration": 0,
    "start_time": "2022-12-14T10:27:14.388Z"
   },
   {
    "duration": 0,
    "start_time": "2022-12-14T10:27:14.389Z"
   },
   {
    "duration": 0,
    "start_time": "2022-12-14T10:27:14.390Z"
   },
   {
    "duration": 0,
    "start_time": "2022-12-14T10:27:14.392Z"
   },
   {
    "duration": 23,
    "start_time": "2022-12-14T10:27:31.952Z"
   },
   {
    "duration": 20,
    "start_time": "2022-12-14T10:27:36.134Z"
   },
   {
    "duration": 23,
    "start_time": "2022-12-14T10:27:39.982Z"
   },
   {
    "duration": 23,
    "start_time": "2022-12-14T10:27:45.847Z"
   },
   {
    "duration": 31,
    "start_time": "2022-12-14T10:27:49.272Z"
   },
   {
    "duration": 71,
    "start_time": "2022-12-14T10:29:03.580Z"
   },
   {
    "duration": 97,
    "start_time": "2022-12-14T10:31:12.464Z"
   },
   {
    "duration": 81,
    "start_time": "2022-12-14T10:32:04.176Z"
   },
   {
    "duration": 48,
    "start_time": "2022-12-14T10:45:56.843Z"
   },
   {
    "duration": 66,
    "start_time": "2022-12-14T10:50:27.098Z"
   },
   {
    "duration": 41,
    "start_time": "2022-12-14T10:52:38.604Z"
   },
   {
    "duration": 10,
    "start_time": "2022-12-14T10:52:46.510Z"
   },
   {
    "duration": 15,
    "start_time": "2022-12-14T10:53:06.356Z"
   },
   {
    "duration": 7,
    "start_time": "2022-12-14T10:54:47.577Z"
   },
   {
    "duration": 8,
    "start_time": "2022-12-14T10:55:01.004Z"
   },
   {
    "duration": 3,
    "start_time": "2022-12-14T10:55:11.033Z"
   },
   {
    "duration": 218,
    "start_time": "2022-12-14T10:55:11.038Z"
   },
   {
    "duration": 11,
    "start_time": "2022-12-14T10:55:11.259Z"
   },
   {
    "duration": 42,
    "start_time": "2022-12-14T10:55:11.272Z"
   },
   {
    "duration": 2,
    "start_time": "2022-12-14T10:55:11.316Z"
   },
   {
    "duration": 6,
    "start_time": "2022-12-14T10:55:11.320Z"
   },
   {
    "duration": 29,
    "start_time": "2022-12-14T10:55:11.328Z"
   },
   {
    "duration": 10,
    "start_time": "2022-12-14T10:55:11.360Z"
   },
   {
    "duration": 52,
    "start_time": "2022-12-14T10:55:11.372Z"
   },
   {
    "duration": 17,
    "start_time": "2022-12-14T10:55:11.426Z"
   },
   {
    "duration": 23,
    "start_time": "2022-12-14T10:55:11.446Z"
   },
   {
    "duration": 91,
    "start_time": "2022-12-14T10:55:11.471Z"
   },
   {
    "duration": 77,
    "start_time": "2022-12-14T10:55:11.564Z"
   },
   {
    "duration": 74,
    "start_time": "2022-12-14T10:55:11.643Z"
   },
   {
    "duration": 10,
    "start_time": "2022-12-14T10:55:11.719Z"
   },
   {
    "duration": 3,
    "start_time": "2022-12-14T10:55:11.730Z"
   },
   {
    "duration": 6,
    "start_time": "2022-12-14T10:55:11.735Z"
   },
   {
    "duration": 5,
    "start_time": "2022-12-14T10:55:11.742Z"
   },
   {
    "duration": 5,
    "start_time": "2022-12-14T10:55:11.748Z"
   },
   {
    "duration": 4,
    "start_time": "2022-12-14T10:55:11.755Z"
   },
   {
    "duration": 7,
    "start_time": "2022-12-14T10:55:11.761Z"
   },
   {
    "duration": 5,
    "start_time": "2022-12-14T10:55:11.769Z"
   },
   {
    "duration": 6,
    "start_time": "2022-12-14T10:55:11.776Z"
   },
   {
    "duration": 29,
    "start_time": "2022-12-14T10:55:11.784Z"
   },
   {
    "duration": 4,
    "start_time": "2022-12-14T10:55:11.815Z"
   },
   {
    "duration": 7,
    "start_time": "2022-12-14T10:55:11.820Z"
   },
   {
    "duration": 6,
    "start_time": "2022-12-14T10:55:11.829Z"
   },
   {
    "duration": 5,
    "start_time": "2022-12-14T10:55:11.837Z"
   },
   {
    "duration": 3,
    "start_time": "2022-12-14T10:55:11.847Z"
   },
   {
    "duration": 56,
    "start_time": "2022-12-14T10:55:11.852Z"
   },
   {
    "duration": 0,
    "start_time": "2022-12-14T10:55:11.911Z"
   },
   {
    "duration": 0,
    "start_time": "2022-12-14T10:55:11.912Z"
   },
   {
    "duration": 1,
    "start_time": "2022-12-14T10:55:11.913Z"
   },
   {
    "duration": 0,
    "start_time": "2022-12-14T10:55:11.915Z"
   },
   {
    "duration": 0,
    "start_time": "2022-12-14T10:55:11.917Z"
   },
   {
    "duration": 0,
    "start_time": "2022-12-14T10:55:11.918Z"
   },
   {
    "duration": 0,
    "start_time": "2022-12-14T10:55:11.920Z"
   },
   {
    "duration": 0,
    "start_time": "2022-12-14T10:55:11.921Z"
   },
   {
    "duration": 7,
    "start_time": "2022-12-14T10:55:21.746Z"
   },
   {
    "duration": 3,
    "start_time": "2022-12-14T10:55:29.743Z"
   },
   {
    "duration": 182,
    "start_time": "2022-12-14T10:55:29.748Z"
   },
   {
    "duration": 11,
    "start_time": "2022-12-14T10:55:29.932Z"
   },
   {
    "duration": 52,
    "start_time": "2022-12-14T10:55:29.945Z"
   },
   {
    "duration": 25,
    "start_time": "2022-12-14T10:55:29.999Z"
   },
   {
    "duration": 37,
    "start_time": "2022-12-14T10:55:30.026Z"
   },
   {
    "duration": 36,
    "start_time": "2022-12-14T10:55:30.065Z"
   },
   {
    "duration": 23,
    "start_time": "2022-12-14T10:55:30.102Z"
   },
   {
    "duration": 57,
    "start_time": "2022-12-14T10:55:30.129Z"
   },
   {
    "duration": 44,
    "start_time": "2022-12-14T10:55:30.188Z"
   },
   {
    "duration": 56,
    "start_time": "2022-12-14T10:55:30.234Z"
   },
   {
    "duration": 85,
    "start_time": "2022-12-14T10:55:30.291Z"
   },
   {
    "duration": 78,
    "start_time": "2022-12-14T10:55:30.377Z"
   },
   {
    "duration": 65,
    "start_time": "2022-12-14T10:55:30.457Z"
   },
   {
    "duration": 9,
    "start_time": "2022-12-14T10:55:30.524Z"
   },
   {
    "duration": 17,
    "start_time": "2022-12-14T10:55:30.535Z"
   },
   {
    "duration": 27,
    "start_time": "2022-12-14T10:55:30.554Z"
   },
   {
    "duration": 40,
    "start_time": "2022-12-14T10:55:30.582Z"
   },
   {
    "duration": 37,
    "start_time": "2022-12-14T10:55:30.624Z"
   },
   {
    "duration": 64,
    "start_time": "2022-12-14T10:55:30.663Z"
   },
   {
    "duration": 45,
    "start_time": "2022-12-14T10:55:30.728Z"
   },
   {
    "duration": 37,
    "start_time": "2022-12-14T10:55:30.775Z"
   },
   {
    "duration": 39,
    "start_time": "2022-12-14T10:55:30.813Z"
   },
   {
    "duration": 24,
    "start_time": "2022-12-14T10:55:30.855Z"
   },
   {
    "duration": 39,
    "start_time": "2022-12-14T10:55:30.880Z"
   },
   {
    "duration": 18,
    "start_time": "2022-12-14T10:55:30.921Z"
   },
   {
    "duration": 16,
    "start_time": "2022-12-14T10:55:30.941Z"
   },
   {
    "duration": 13,
    "start_time": "2022-12-14T10:55:30.958Z"
   },
   {
    "duration": 29,
    "start_time": "2022-12-14T10:55:30.973Z"
   },
   {
    "duration": 51,
    "start_time": "2022-12-14T10:55:31.005Z"
   },
   {
    "duration": 0,
    "start_time": "2022-12-14T10:55:31.058Z"
   },
   {
    "duration": 0,
    "start_time": "2022-12-14T10:55:31.059Z"
   },
   {
    "duration": 0,
    "start_time": "2022-12-14T10:55:31.060Z"
   },
   {
    "duration": 0,
    "start_time": "2022-12-14T10:55:31.061Z"
   },
   {
    "duration": 0,
    "start_time": "2022-12-14T10:55:31.062Z"
   },
   {
    "duration": 0,
    "start_time": "2022-12-14T10:55:31.063Z"
   },
   {
    "duration": 0,
    "start_time": "2022-12-14T10:55:31.064Z"
   },
   {
    "duration": 0,
    "start_time": "2022-12-14T10:55:31.065Z"
   },
   {
    "duration": 8,
    "start_time": "2022-12-14T10:55:49.679Z"
   },
   {
    "duration": 8,
    "start_time": "2022-12-14T10:55:54.663Z"
   },
   {
    "duration": 3,
    "start_time": "2022-12-14T10:56:00.591Z"
   },
   {
    "duration": 205,
    "start_time": "2022-12-14T10:56:00.596Z"
   },
   {
    "duration": 11,
    "start_time": "2022-12-14T10:56:00.803Z"
   },
   {
    "duration": 51,
    "start_time": "2022-12-14T10:56:00.816Z"
   },
   {
    "duration": 6,
    "start_time": "2022-12-14T10:56:00.870Z"
   },
   {
    "duration": 35,
    "start_time": "2022-12-14T10:56:00.878Z"
   },
   {
    "duration": 36,
    "start_time": "2022-12-14T10:56:00.915Z"
   },
   {
    "duration": 10,
    "start_time": "2022-12-14T10:56:00.952Z"
   },
   {
    "duration": 35,
    "start_time": "2022-12-14T10:56:00.963Z"
   },
   {
    "duration": 24,
    "start_time": "2022-12-14T10:56:01.000Z"
   },
   {
    "duration": 39,
    "start_time": "2022-12-14T10:56:01.026Z"
   },
   {
    "duration": 75,
    "start_time": "2022-12-14T10:56:01.067Z"
   },
   {
    "duration": 77,
    "start_time": "2022-12-14T10:56:01.143Z"
   },
   {
    "duration": 63,
    "start_time": "2022-12-14T10:56:01.223Z"
   },
   {
    "duration": 26,
    "start_time": "2022-12-14T10:56:01.287Z"
   },
   {
    "duration": 13,
    "start_time": "2022-12-14T10:56:01.315Z"
   },
   {
    "duration": 16,
    "start_time": "2022-12-14T10:56:01.330Z"
   },
   {
    "duration": 31,
    "start_time": "2022-12-14T10:56:01.348Z"
   },
   {
    "duration": 32,
    "start_time": "2022-12-14T10:56:01.381Z"
   },
   {
    "duration": 17,
    "start_time": "2022-12-14T10:56:01.415Z"
   },
   {
    "duration": 36,
    "start_time": "2022-12-14T10:56:01.434Z"
   },
   {
    "duration": 16,
    "start_time": "2022-12-14T10:56:01.472Z"
   },
   {
    "duration": 19,
    "start_time": "2022-12-14T10:56:01.490Z"
   },
   {
    "duration": 34,
    "start_time": "2022-12-14T10:56:01.511Z"
   },
   {
    "duration": 34,
    "start_time": "2022-12-14T10:56:01.547Z"
   },
   {
    "duration": 21,
    "start_time": "2022-12-14T10:56:01.583Z"
   },
   {
    "duration": 20,
    "start_time": "2022-12-14T10:56:01.606Z"
   },
   {
    "duration": 9,
    "start_time": "2022-12-14T10:56:01.628Z"
   },
   {
    "duration": 33,
    "start_time": "2022-12-14T10:56:01.639Z"
   },
   {
    "duration": 68,
    "start_time": "2022-12-14T10:56:01.674Z"
   },
   {
    "duration": 0,
    "start_time": "2022-12-14T10:56:01.744Z"
   },
   {
    "duration": 0,
    "start_time": "2022-12-14T10:56:01.746Z"
   },
   {
    "duration": 0,
    "start_time": "2022-12-14T10:56:01.747Z"
   },
   {
    "duration": 0,
    "start_time": "2022-12-14T10:56:01.749Z"
   },
   {
    "duration": 0,
    "start_time": "2022-12-14T10:56:01.750Z"
   },
   {
    "duration": 0,
    "start_time": "2022-12-14T10:56:01.752Z"
   },
   {
    "duration": 0,
    "start_time": "2022-12-14T10:56:01.753Z"
   },
   {
    "duration": 0,
    "start_time": "2022-12-14T10:56:01.754Z"
   },
   {
    "duration": 8,
    "start_time": "2022-12-14T10:58:42.910Z"
   },
   {
    "duration": 46,
    "start_time": "2022-12-14T11:00:23.591Z"
   },
   {
    "duration": 9,
    "start_time": "2022-12-14T11:02:49.009Z"
   },
   {
    "duration": 8,
    "start_time": "2022-12-14T11:03:10.446Z"
   },
   {
    "duration": 3,
    "start_time": "2022-12-14T11:03:15.544Z"
   },
   {
    "duration": 193,
    "start_time": "2022-12-14T11:03:15.550Z"
   },
   {
    "duration": 13,
    "start_time": "2022-12-14T11:03:15.745Z"
   },
   {
    "duration": 37,
    "start_time": "2022-12-14T11:03:15.760Z"
   },
   {
    "duration": 12,
    "start_time": "2022-12-14T11:03:15.800Z"
   },
   {
    "duration": 13,
    "start_time": "2022-12-14T11:03:15.814Z"
   },
   {
    "duration": 28,
    "start_time": "2022-12-14T11:03:15.829Z"
   },
   {
    "duration": 7,
    "start_time": "2022-12-14T11:03:15.858Z"
   },
   {
    "duration": 29,
    "start_time": "2022-12-14T11:03:15.867Z"
   },
   {
    "duration": 30,
    "start_time": "2022-12-14T11:03:15.898Z"
   },
   {
    "duration": 26,
    "start_time": "2022-12-14T11:03:15.930Z"
   },
   {
    "duration": 84,
    "start_time": "2022-12-14T11:03:15.958Z"
   },
   {
    "duration": 77,
    "start_time": "2022-12-14T11:03:16.044Z"
   },
   {
    "duration": 64,
    "start_time": "2022-12-14T11:03:16.123Z"
   },
   {
    "duration": 55,
    "start_time": "2022-12-14T11:03:16.188Z"
   },
   {
    "duration": 2,
    "start_time": "2022-12-14T11:03:16.245Z"
   },
   {
    "duration": 6,
    "start_time": "2022-12-14T11:03:16.249Z"
   },
   {
    "duration": 7,
    "start_time": "2022-12-14T11:03:16.256Z"
   },
   {
    "duration": 12,
    "start_time": "2022-12-14T11:03:16.265Z"
   },
   {
    "duration": 10,
    "start_time": "2022-12-14T11:03:16.279Z"
   },
   {
    "duration": 23,
    "start_time": "2022-12-14T11:03:16.290Z"
   },
   {
    "duration": 7,
    "start_time": "2022-12-14T11:03:16.315Z"
   },
   {
    "duration": 17,
    "start_time": "2022-12-14T11:03:16.323Z"
   },
   {
    "duration": 10,
    "start_time": "2022-12-14T11:03:16.342Z"
   },
   {
    "duration": 30,
    "start_time": "2022-12-14T11:03:16.353Z"
   },
   {
    "duration": 11,
    "start_time": "2022-12-14T11:03:16.385Z"
   },
   {
    "duration": 8,
    "start_time": "2022-12-14T11:03:16.397Z"
   },
   {
    "duration": 15,
    "start_time": "2022-12-14T11:03:16.407Z"
   },
   {
    "duration": 7,
    "start_time": "2022-12-14T11:03:16.426Z"
   },
   {
    "duration": 53,
    "start_time": "2022-12-14T11:03:16.435Z"
   },
   {
    "duration": 0,
    "start_time": "2022-12-14T11:03:16.490Z"
   },
   {
    "duration": 0,
    "start_time": "2022-12-14T11:03:16.492Z"
   },
   {
    "duration": 0,
    "start_time": "2022-12-14T11:03:16.493Z"
   },
   {
    "duration": 0,
    "start_time": "2022-12-14T11:03:16.494Z"
   },
   {
    "duration": 0,
    "start_time": "2022-12-14T11:03:16.495Z"
   },
   {
    "duration": 0,
    "start_time": "2022-12-14T11:03:16.497Z"
   },
   {
    "duration": 0,
    "start_time": "2022-12-14T11:03:16.498Z"
   },
   {
    "duration": 0,
    "start_time": "2022-12-14T11:03:16.499Z"
   },
   {
    "duration": 37,
    "start_time": "2022-12-14T11:03:25.532Z"
   },
   {
    "duration": 24,
    "start_time": "2022-12-14T11:03:48.687Z"
   },
   {
    "duration": 11,
    "start_time": "2022-12-14T11:03:54.228Z"
   },
   {
    "duration": 13,
    "start_time": "2022-12-14T11:03:57.859Z"
   },
   {
    "duration": 7,
    "start_time": "2022-12-14T11:03:59.810Z"
   },
   {
    "duration": 23,
    "start_time": "2022-12-14T11:04:02.011Z"
   },
   {
    "duration": 46,
    "start_time": "2022-12-14T11:04:09.488Z"
   },
   {
    "duration": 44,
    "start_time": "2022-12-14T11:04:18.975Z"
   },
   {
    "duration": 39,
    "start_time": "2022-12-14T11:04:32.573Z"
   },
   {
    "duration": 8,
    "start_time": "2022-12-14T11:13:08.798Z"
   },
   {
    "duration": 8,
    "start_time": "2022-12-14T11:13:15.808Z"
   },
   {
    "duration": 2,
    "start_time": "2022-12-14T11:13:57.664Z"
   },
   {
    "duration": 253,
    "start_time": "2022-12-14T11:13:57.669Z"
   },
   {
    "duration": 11,
    "start_time": "2022-12-14T11:13:57.924Z"
   },
   {
    "duration": 30,
    "start_time": "2022-12-14T11:13:57.937Z"
   },
   {
    "duration": 2,
    "start_time": "2022-12-14T11:13:57.970Z"
   },
   {
    "duration": 9,
    "start_time": "2022-12-14T11:13:57.974Z"
   },
   {
    "duration": 42,
    "start_time": "2022-12-14T11:13:57.985Z"
   },
   {
    "duration": 7,
    "start_time": "2022-12-14T11:13:58.028Z"
   },
   {
    "duration": 26,
    "start_time": "2022-12-14T11:13:58.037Z"
   },
   {
    "duration": 17,
    "start_time": "2022-12-14T11:13:58.065Z"
   },
   {
    "duration": 48,
    "start_time": "2022-12-14T11:13:58.084Z"
   },
   {
    "duration": 81,
    "start_time": "2022-12-14T11:13:58.134Z"
   },
   {
    "duration": 74,
    "start_time": "2022-12-14T11:13:58.217Z"
   },
   {
    "duration": 69,
    "start_time": "2022-12-14T11:13:58.294Z"
   },
   {
    "duration": 48,
    "start_time": "2022-12-14T11:13:58.364Z"
   },
   {
    "duration": 7,
    "start_time": "2022-12-14T11:13:58.414Z"
   },
   {
    "duration": 0,
    "start_time": "2022-12-14T11:13:58.422Z"
   },
   {
    "duration": 0,
    "start_time": "2022-12-14T11:13:58.423Z"
   },
   {
    "duration": 0,
    "start_time": "2022-12-14T11:13:58.425Z"
   },
   {
    "duration": 0,
    "start_time": "2022-12-14T11:13:58.426Z"
   },
   {
    "duration": 0,
    "start_time": "2022-12-14T11:13:58.428Z"
   },
   {
    "duration": 0,
    "start_time": "2022-12-14T11:13:58.429Z"
   },
   {
    "duration": 0,
    "start_time": "2022-12-14T11:13:58.431Z"
   },
   {
    "duration": 0,
    "start_time": "2022-12-14T11:13:58.432Z"
   },
   {
    "duration": 0,
    "start_time": "2022-12-14T11:13:58.433Z"
   },
   {
    "duration": 0,
    "start_time": "2022-12-14T11:13:58.434Z"
   },
   {
    "duration": 0,
    "start_time": "2022-12-14T11:13:58.435Z"
   },
   {
    "duration": 0,
    "start_time": "2022-12-14T11:13:58.437Z"
   },
   {
    "duration": 0,
    "start_time": "2022-12-14T11:13:58.438Z"
   },
   {
    "duration": 0,
    "start_time": "2022-12-14T11:13:58.439Z"
   },
   {
    "duration": 0,
    "start_time": "2022-12-14T11:13:58.439Z"
   },
   {
    "duration": 0,
    "start_time": "2022-12-14T11:13:58.440Z"
   },
   {
    "duration": 0,
    "start_time": "2022-12-14T11:13:58.442Z"
   },
   {
    "duration": 0,
    "start_time": "2022-12-14T11:13:58.443Z"
   },
   {
    "duration": 0,
    "start_time": "2022-12-14T11:13:58.443Z"
   },
   {
    "duration": 0,
    "start_time": "2022-12-14T11:13:58.444Z"
   },
   {
    "duration": 0,
    "start_time": "2022-12-14T11:13:58.446Z"
   },
   {
    "duration": 0,
    "start_time": "2022-12-14T11:13:58.447Z"
   },
   {
    "duration": 7,
    "start_time": "2022-12-14T11:14:09.454Z"
   },
   {
    "duration": 39,
    "start_time": "2022-12-14T11:14:13.817Z"
   },
   {
    "duration": 7,
    "start_time": "2022-12-14T11:14:35.886Z"
   },
   {
    "duration": 12,
    "start_time": "2022-12-14T11:16:12.731Z"
   },
   {
    "duration": 361,
    "start_time": "2022-12-14T11:19:07.465Z"
   },
   {
    "duration": 170,
    "start_time": "2022-12-14T11:19:07.828Z"
   },
   {
    "duration": 18,
    "start_time": "2022-12-14T11:19:07.999Z"
   },
   {
    "duration": 29,
    "start_time": "2022-12-14T11:19:08.019Z"
   },
   {
    "duration": 3,
    "start_time": "2022-12-14T11:19:08.050Z"
   },
   {
    "duration": 10,
    "start_time": "2022-12-14T11:19:08.054Z"
   },
   {
    "duration": 21,
    "start_time": "2022-12-14T11:19:08.065Z"
   },
   {
    "duration": 26,
    "start_time": "2022-12-14T11:19:08.087Z"
   },
   {
    "duration": 32,
    "start_time": "2022-12-14T11:19:08.115Z"
   },
   {
    "duration": 27,
    "start_time": "2022-12-14T11:19:08.148Z"
   },
   {
    "duration": 25,
    "start_time": "2022-12-14T11:19:08.177Z"
   },
   {
    "duration": 74,
    "start_time": "2022-12-14T11:19:08.204Z"
   },
   {
    "duration": 85,
    "start_time": "2022-12-14T11:19:08.280Z"
   },
   {
    "duration": 69,
    "start_time": "2022-12-14T11:19:08.370Z"
   },
   {
    "duration": 38,
    "start_time": "2022-12-14T11:19:08.441Z"
   },
   {
    "duration": 12,
    "start_time": "2022-12-14T11:19:08.481Z"
   },
   {
    "duration": 3,
    "start_time": "2022-12-14T11:19:08.512Z"
   },
   {
    "duration": 15,
    "start_time": "2022-12-14T11:19:08.516Z"
   },
   {
    "duration": 11,
    "start_time": "2022-12-14T11:19:08.532Z"
   },
   {
    "duration": 12,
    "start_time": "2022-12-14T11:19:08.544Z"
   },
   {
    "duration": 20,
    "start_time": "2022-12-14T11:19:08.557Z"
   },
   {
    "duration": 13,
    "start_time": "2022-12-14T11:19:08.579Z"
   },
   {
    "duration": 20,
    "start_time": "2022-12-14T11:19:08.594Z"
   },
   {
    "duration": 6,
    "start_time": "2022-12-14T11:19:08.615Z"
   },
   {
    "duration": 14,
    "start_time": "2022-12-14T11:19:08.623Z"
   },
   {
    "duration": 8,
    "start_time": "2022-12-14T11:19:08.639Z"
   },
   {
    "duration": 7,
    "start_time": "2022-12-14T11:19:08.649Z"
   },
   {
    "duration": 9,
    "start_time": "2022-12-14T11:19:08.658Z"
   },
   {
    "duration": 7,
    "start_time": "2022-12-14T11:19:08.668Z"
   },
   {
    "duration": 53,
    "start_time": "2022-12-14T11:19:08.677Z"
   },
   {
    "duration": 0,
    "start_time": "2022-12-14T11:19:08.732Z"
   },
   {
    "duration": 0,
    "start_time": "2022-12-14T11:19:08.733Z"
   },
   {
    "duration": 0,
    "start_time": "2022-12-14T11:19:08.734Z"
   },
   {
    "duration": 0,
    "start_time": "2022-12-14T11:19:08.735Z"
   },
   {
    "duration": 0,
    "start_time": "2022-12-14T11:19:08.737Z"
   },
   {
    "duration": 0,
    "start_time": "2022-12-14T11:19:08.737Z"
   },
   {
    "duration": 0,
    "start_time": "2022-12-14T11:19:08.739Z"
   },
   {
    "duration": 0,
    "start_time": "2022-12-14T11:19:08.740Z"
   },
   {
    "duration": 12,
    "start_time": "2022-12-14T11:19:40.924Z"
   },
   {
    "duration": 11,
    "start_time": "2022-12-14T11:20:40.310Z"
   },
   {
    "duration": 393,
    "start_time": "2022-12-14T11:22:34.355Z"
   },
   {
    "duration": 191,
    "start_time": "2022-12-14T11:22:34.750Z"
   },
   {
    "duration": 19,
    "start_time": "2022-12-14T11:22:34.943Z"
   },
   {
    "duration": 29,
    "start_time": "2022-12-14T11:22:34.965Z"
   },
   {
    "duration": 17,
    "start_time": "2022-12-14T11:22:34.996Z"
   },
   {
    "duration": 17,
    "start_time": "2022-12-14T11:22:35.015Z"
   },
   {
    "duration": 29,
    "start_time": "2022-12-14T11:22:35.035Z"
   },
   {
    "duration": 15,
    "start_time": "2022-12-14T11:22:35.066Z"
   },
   {
    "duration": 24,
    "start_time": "2022-12-14T11:22:35.083Z"
   },
   {
    "duration": 19,
    "start_time": "2022-12-14T11:22:35.114Z"
   },
   {
    "duration": 23,
    "start_time": "2022-12-14T11:22:35.134Z"
   },
   {
    "duration": 84,
    "start_time": "2022-12-14T11:22:35.158Z"
   },
   {
    "duration": 78,
    "start_time": "2022-12-14T11:22:35.243Z"
   },
   {
    "duration": 62,
    "start_time": "2022-12-14T11:22:35.323Z"
   },
   {
    "duration": 53,
    "start_time": "2022-12-14T11:22:35.387Z"
   },
   {
    "duration": 11,
    "start_time": "2022-12-14T11:22:35.442Z"
   },
   {
    "duration": 3,
    "start_time": "2022-12-14T11:22:35.455Z"
   },
   {
    "duration": 5,
    "start_time": "2022-12-14T11:22:35.459Z"
   },
   {
    "duration": 5,
    "start_time": "2022-12-14T11:22:35.465Z"
   },
   {
    "duration": 4,
    "start_time": "2022-12-14T11:22:35.472Z"
   },
   {
    "duration": 7,
    "start_time": "2022-12-14T11:22:35.478Z"
   },
   {
    "duration": 5,
    "start_time": "2022-12-14T11:22:35.486Z"
   },
   {
    "duration": 3,
    "start_time": "2022-12-14T11:22:35.513Z"
   },
   {
    "duration": 6,
    "start_time": "2022-12-14T11:22:35.518Z"
   },
   {
    "duration": 7,
    "start_time": "2022-12-14T11:22:35.526Z"
   },
   {
    "duration": 9,
    "start_time": "2022-12-14T11:22:35.535Z"
   },
   {
    "duration": 5,
    "start_time": "2022-12-14T11:22:35.546Z"
   },
   {
    "duration": 3,
    "start_time": "2022-12-14T11:22:35.554Z"
   },
   {
    "duration": 4,
    "start_time": "2022-12-14T11:22:35.559Z"
   },
   {
    "duration": 47,
    "start_time": "2022-12-14T11:22:35.565Z"
   },
   {
    "duration": 0,
    "start_time": "2022-12-14T11:22:35.613Z"
   },
   {
    "duration": 0,
    "start_time": "2022-12-14T11:22:35.615Z"
   },
   {
    "duration": 0,
    "start_time": "2022-12-14T11:22:35.616Z"
   },
   {
    "duration": 0,
    "start_time": "2022-12-14T11:22:35.616Z"
   },
   {
    "duration": 0,
    "start_time": "2022-12-14T11:22:35.617Z"
   },
   {
    "duration": 0,
    "start_time": "2022-12-14T11:22:35.619Z"
   },
   {
    "duration": 0,
    "start_time": "2022-12-14T11:22:35.620Z"
   },
   {
    "duration": 0,
    "start_time": "2022-12-14T11:22:35.622Z"
   },
   {
    "duration": 11,
    "start_time": "2022-12-14T11:22:45.334Z"
   },
   {
    "duration": 11,
    "start_time": "2022-12-14T11:22:50.904Z"
   },
   {
    "duration": 11,
    "start_time": "2022-12-14T11:23:15.063Z"
   },
   {
    "duration": 11,
    "start_time": "2022-12-14T11:23:17.745Z"
   },
   {
    "duration": 13,
    "start_time": "2022-12-14T11:23:20.207Z"
   },
   {
    "duration": 20,
    "start_time": "2022-12-14T11:23:25.174Z"
   },
   {
    "duration": 11,
    "start_time": "2022-12-14T11:24:35.341Z"
   },
   {
    "duration": 38,
    "start_time": "2022-12-14T11:25:09.568Z"
   },
   {
    "duration": 37,
    "start_time": "2022-12-14T11:31:53.029Z"
   },
   {
    "duration": 73,
    "start_time": "2022-12-14T11:32:02.299Z"
   },
   {
    "duration": 16,
    "start_time": "2022-12-14T11:32:06.555Z"
   },
   {
    "duration": 40,
    "start_time": "2022-12-14T11:32:10.388Z"
   },
   {
    "duration": 12,
    "start_time": "2022-12-14T11:36:53.522Z"
   },
   {
    "duration": 11,
    "start_time": "2022-12-14T12:06:20.002Z"
   },
   {
    "duration": 54,
    "start_time": "2022-12-14T12:37:13.524Z"
   },
   {
    "duration": 76,
    "start_time": "2022-12-14T12:37:34.006Z"
   },
   {
    "duration": 3,
    "start_time": "2022-12-14T12:37:48.726Z"
   },
   {
    "duration": 4,
    "start_time": "2022-12-14T12:37:52.155Z"
   },
   {
    "duration": 4,
    "start_time": "2022-12-14T12:38:30.996Z"
   },
   {
    "duration": 6,
    "start_time": "2022-12-14T12:40:46.650Z"
   },
   {
    "duration": 4,
    "start_time": "2022-12-14T12:40:50.624Z"
   },
   {
    "duration": 4,
    "start_time": "2022-12-14T12:49:38.575Z"
   },
   {
    "duration": 6,
    "start_time": "2022-12-14T13:23:25.558Z"
   },
   {
    "duration": 8,
    "start_time": "2022-12-14T13:25:27.709Z"
   },
   {
    "duration": 3,
    "start_time": "2022-12-14T13:25:29.551Z"
   },
   {
    "duration": 7,
    "start_time": "2022-12-14T13:29:32.580Z"
   },
   {
    "duration": 9,
    "start_time": "2022-12-14T13:29:36.822Z"
   },
   {
    "duration": 9,
    "start_time": "2022-12-14T13:31:52.035Z"
   },
   {
    "duration": 5,
    "start_time": "2022-12-14T13:44:35.329Z"
   },
   {
    "duration": 11,
    "start_time": "2022-12-14T13:44:39.894Z"
   },
   {
    "duration": 10,
    "start_time": "2022-12-14T13:44:55.926Z"
   },
   {
    "duration": 8,
    "start_time": "2022-12-14T13:47:01.094Z"
   },
   {
    "duration": 8,
    "start_time": "2022-12-14T13:48:06.812Z"
   },
   {
    "duration": 10,
    "start_time": "2022-12-14T13:48:08.526Z"
   },
   {
    "duration": 9,
    "start_time": "2022-12-14T13:49:03.082Z"
   },
   {
    "duration": 6,
    "start_time": "2022-12-14T13:49:10.055Z"
   },
   {
    "duration": 9,
    "start_time": "2022-12-14T13:49:13.388Z"
   },
   {
    "duration": 8,
    "start_time": "2022-12-14T13:49:16.404Z"
   },
   {
    "duration": 6,
    "start_time": "2022-12-14T14:17:51.265Z"
   },
   {
    "duration": 449,
    "start_time": "2022-12-14T14:51:30.386Z"
   },
   {
    "duration": 189,
    "start_time": "2022-12-14T14:51:30.837Z"
   },
   {
    "duration": 18,
    "start_time": "2022-12-14T14:51:31.028Z"
   },
   {
    "duration": 44,
    "start_time": "2022-12-14T14:51:31.049Z"
   },
   {
    "duration": 23,
    "start_time": "2022-12-14T14:51:31.095Z"
   },
   {
    "duration": 16,
    "start_time": "2022-12-14T14:51:31.120Z"
   },
   {
    "duration": 37,
    "start_time": "2022-12-14T14:51:31.138Z"
   },
   {
    "duration": 18,
    "start_time": "2022-12-14T14:51:31.177Z"
   },
   {
    "duration": 31,
    "start_time": "2022-12-14T14:51:31.197Z"
   },
   {
    "duration": 31,
    "start_time": "2022-12-14T14:51:31.231Z"
   },
   {
    "duration": 25,
    "start_time": "2022-12-14T14:51:31.264Z"
   },
   {
    "duration": 78,
    "start_time": "2022-12-14T14:51:31.291Z"
   },
   {
    "duration": 102,
    "start_time": "2022-12-14T14:51:31.371Z"
   },
   {
    "duration": 76,
    "start_time": "2022-12-14T14:51:31.476Z"
   },
   {
    "duration": 39,
    "start_time": "2022-12-14T14:51:31.553Z"
   },
   {
    "duration": 24,
    "start_time": "2022-12-14T14:51:31.594Z"
   },
   {
    "duration": 39,
    "start_time": "2022-12-14T14:51:31.620Z"
   },
   {
    "duration": 12,
    "start_time": "2022-12-14T14:51:31.661Z"
   },
   {
    "duration": 38,
    "start_time": "2022-12-14T14:51:31.674Z"
   },
   {
    "duration": 4,
    "start_time": "2022-12-14T14:51:31.714Z"
   },
   {
    "duration": 30,
    "start_time": "2022-12-14T14:51:31.720Z"
   },
   {
    "duration": 14,
    "start_time": "2022-12-14T14:51:31.752Z"
   },
   {
    "duration": 15,
    "start_time": "2022-12-14T14:51:31.767Z"
   },
   {
    "duration": 36,
    "start_time": "2022-12-14T14:51:31.784Z"
   },
   {
    "duration": 16,
    "start_time": "2022-12-14T14:51:31.822Z"
   },
   {
    "duration": 15,
    "start_time": "2022-12-14T14:51:31.840Z"
   },
   {
    "duration": 11,
    "start_time": "2022-12-14T14:51:31.856Z"
   },
   {
    "duration": 46,
    "start_time": "2022-12-14T14:51:31.871Z"
   },
   {
    "duration": 11,
    "start_time": "2022-12-14T14:51:31.920Z"
   },
   {
    "duration": 5,
    "start_time": "2022-12-14T14:51:31.932Z"
   },
   {
    "duration": 18,
    "start_time": "2022-12-14T14:51:31.939Z"
   },
   {
    "duration": 13,
    "start_time": "2022-12-14T14:51:31.959Z"
   },
   {
    "duration": 50,
    "start_time": "2022-12-14T14:51:31.974Z"
   },
   {
    "duration": 13,
    "start_time": "2022-12-14T14:51:32.026Z"
   },
   {
    "duration": 3,
    "start_time": "2022-12-14T14:51:32.041Z"
   },
   {
    "duration": 7,
    "start_time": "2022-12-14T14:51:32.046Z"
   },
   {
    "duration": 14,
    "start_time": "2022-12-14T14:51:32.055Z"
   },
   {
    "duration": 8,
    "start_time": "2022-12-14T14:51:32.071Z"
   },
   {
    "duration": 3,
    "start_time": "2022-12-14T14:51:42.464Z"
   },
   {
    "duration": 190,
    "start_time": "2022-12-14T14:51:42.469Z"
   },
   {
    "duration": 12,
    "start_time": "2022-12-14T14:51:42.660Z"
   },
   {
    "duration": 46,
    "start_time": "2022-12-14T14:51:42.674Z"
   },
   {
    "duration": 3,
    "start_time": "2022-12-14T14:51:42.722Z"
   },
   {
    "duration": 7,
    "start_time": "2022-12-14T14:51:42.727Z"
   },
   {
    "duration": 24,
    "start_time": "2022-12-14T14:51:42.736Z"
   },
   {
    "duration": 5,
    "start_time": "2022-12-14T14:51:42.762Z"
   },
   {
    "duration": 51,
    "start_time": "2022-12-14T14:51:42.770Z"
   },
   {
    "duration": 19,
    "start_time": "2022-12-14T14:51:42.823Z"
   },
   {
    "duration": 25,
    "start_time": "2022-12-14T14:51:42.843Z"
   },
   {
    "duration": 98,
    "start_time": "2022-12-14T14:51:42.870Z"
   },
   {
    "duration": 78,
    "start_time": "2022-12-14T14:51:42.970Z"
   },
   {
    "duration": 77,
    "start_time": "2022-12-14T14:51:43.050Z"
   },
   {
    "duration": 38,
    "start_time": "2022-12-14T14:51:43.129Z"
   },
   {
    "duration": 11,
    "start_time": "2022-12-14T14:51:43.169Z"
   },
   {
    "duration": 63,
    "start_time": "2022-12-14T14:51:43.182Z"
   },
   {
    "duration": 12,
    "start_time": "2022-12-14T14:51:43.247Z"
   },
   {
    "duration": 12,
    "start_time": "2022-12-14T14:51:43.260Z"
   },
   {
    "duration": 4,
    "start_time": "2022-12-14T14:51:43.273Z"
   },
   {
    "duration": 43,
    "start_time": "2022-12-14T14:51:43.279Z"
   },
   {
    "duration": 15,
    "start_time": "2022-12-14T14:51:43.324Z"
   },
   {
    "duration": 17,
    "start_time": "2022-12-14T14:51:43.341Z"
   },
   {
    "duration": 14,
    "start_time": "2022-12-14T14:51:43.362Z"
   },
   {
    "duration": 51,
    "start_time": "2022-12-14T14:51:43.377Z"
   },
   {
    "duration": 15,
    "start_time": "2022-12-14T14:51:43.430Z"
   },
   {
    "duration": 9,
    "start_time": "2022-12-14T14:51:43.446Z"
   },
   {
    "duration": 19,
    "start_time": "2022-12-14T14:51:43.457Z"
   },
   {
    "duration": 34,
    "start_time": "2022-12-14T14:51:43.478Z"
   },
   {
    "duration": 4,
    "start_time": "2022-12-14T14:51:43.514Z"
   },
   {
    "duration": 19,
    "start_time": "2022-12-14T14:51:43.521Z"
   },
   {
    "duration": 12,
    "start_time": "2022-12-14T14:51:43.542Z"
   },
   {
    "duration": 19,
    "start_time": "2022-12-14T14:51:43.556Z"
   },
   {
    "duration": 48,
    "start_time": "2022-12-14T14:51:43.577Z"
   },
   {
    "duration": 2,
    "start_time": "2022-12-14T14:51:43.627Z"
   },
   {
    "duration": 5,
    "start_time": "2022-12-14T14:51:43.631Z"
   },
   {
    "duration": 4,
    "start_time": "2022-12-14T14:51:43.638Z"
   },
   {
    "duration": 6,
    "start_time": "2022-12-14T14:51:43.643Z"
   },
   {
    "duration": 17,
    "start_time": "2022-12-14T14:51:51.842Z"
   },
   {
    "duration": 4,
    "start_time": "2022-12-14T14:51:55.646Z"
   },
   {
    "duration": 68,
    "start_time": "2022-12-14T14:53:14.799Z"
   },
   {
    "duration": 39,
    "start_time": "2022-12-14T14:53:17.906Z"
   },
   {
    "duration": 11,
    "start_time": "2022-12-14T14:53:23.486Z"
   },
   {
    "duration": 39,
    "start_time": "2022-12-14T14:53:33.327Z"
   },
   {
    "duration": 12,
    "start_time": "2022-12-14T14:53:39.791Z"
   },
   {
    "duration": 11,
    "start_time": "2022-12-14T14:54:03.977Z"
   },
   {
    "duration": 5,
    "start_time": "2022-12-14T14:54:13.969Z"
   },
   {
    "duration": 15,
    "start_time": "2022-12-14T14:54:18.290Z"
   },
   {
    "duration": 9,
    "start_time": "2022-12-14T14:54:36.611Z"
   },
   {
    "duration": 81,
    "start_time": "2022-12-14T15:13:23.618Z"
   },
   {
    "duration": 8,
    "start_time": "2022-12-14T15:14:45.924Z"
   },
   {
    "duration": 5,
    "start_time": "2022-12-14T15:15:03.721Z"
   },
   {
    "duration": 6,
    "start_time": "2022-12-14T15:16:39.993Z"
   },
   {
    "duration": 5,
    "start_time": "2022-12-14T15:16:50.714Z"
   }
  ],
  "colab": {
   "collapsed_sections": [
    "E0vqbgi9ay0H",
    "VUC88oWjTJw2"
   ],
   "name": "automatization_template_upd4.ipynb",
   "provenance": []
  },
  "kernelspec": {
   "display_name": "Python 3 (ipykernel)",
   "language": "python",
   "name": "python3"
  },
  "language_info": {
   "codemirror_mode": {
    "name": "ipython",
    "version": 3
   },
   "file_extension": ".py",
   "mimetype": "text/x-python",
   "name": "python",
   "nbconvert_exporter": "python",
   "pygments_lexer": "ipython3",
   "version": "3.9.13"
  },
  "toc": {
   "base_numbering": 1,
   "nav_menu": {
    "height": "215px",
    "width": "403px"
   },
   "number_sections": true,
   "sideBar": true,
   "skip_h1_title": true,
   "title_cell": "Table of Contents",
   "title_sidebar": "Contents",
   "toc_cell": false,
   "toc_position": {
    "height": "calc(100% - 180px)",
    "left": "10px",
    "top": "150px",
    "width": "285.825px"
   },
   "toc_section_display": true,
   "toc_window_display": false
  }
 },
 "nbformat": 4,
 "nbformat_minor": 1
}
