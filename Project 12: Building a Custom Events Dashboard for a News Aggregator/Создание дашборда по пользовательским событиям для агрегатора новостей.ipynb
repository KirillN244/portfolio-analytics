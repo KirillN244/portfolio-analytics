{
 "cells": [
  {
   "cell_type": "markdown",
   "id": "eea463b2",
   "metadata": {},
   "source": [
    "# Создание дашборда по пользовательским событиям для агрегатора новостей\n"
   ]
  },
  {
   "cell_type": "markdown",
   "id": "5cd44880",
   "metadata": {},
   "source": [
    "### Описание проекта\n",
    "\n",
    "Вы работаете аналитиком в Яндекс.Дзене. Почти всё ваше время занимает анализ пользовательского взаимодействия с карточками статей.\n",
    "\n",
    "Каждую карточку определяют её тема и источник (у него тоже есть тема). Примеры тем: «Красота и здоровье», «Россия», «Путешествия». А пользователей системы характеризует возрастная категория.\n",
    "\n",
    "Есть три способа взаимодействия пользователей с системой:\n",
    "\n",
    "- Карточка отображена для пользователя (show);\n",
    "\n",
    "- Пользователь кликнул на карточку (click);\n",
    "\n",
    "- Пользователь просмотрел статью карточки (view).\n",
    "\n",
    "Каждую неделю начинающие менеджеры Денис и Валерия задают вам одни и те же вопросы:\n",
    "\n",
    "1. Сколько взаимодействий пользователей с карточками происходит в системе с разбивкой по темам карточек?\n",
    "2. Как много карточек генерируют источники с разными темами?\n",
    "3. Как соотносятся темы карточек и темы источников?\n",
    "\n",
    "На шестую неделю работы вы решаете, что процесс пора автоматизировать. Для Дениса и Валерии нужно сделать дашборд.\n",
    "\n",
    "Дашборд будет основываться на пайплайне, который будет брать данные из таблицы, в которых хранятся сырые данные, трансформировать данные и укладывать их в агрегирующую таблицу. Пайплайн будет разработан для вас дата-инженерами.\n",
    "\n",
    "### ТЗ для создания дашборда\n",
    "\n",
    "**Бизнес-задача**: анализ взаимодействия пользователей с карточками Яндекс.Дзен;\n",
    "\n",
    "**Насколько часто предполагается пользоваться дашбордом:** не реже, чем раз в неделю;\n",
    "\n",
    "**Кто будет основным пользователем дашборда:** менеджеры по анализу контента;\n",
    "\n",
    "**Состав данных для дашборда:**\n",
    "\n",
    "- История событий по темам карточек (два графика - абсолютные числа и процентное соотношение);\n",
    "\n",
    "- Разбивка событий по темам источников;\n",
    "\n",
    "- Таблица соответствия тем источников темам карточек;\n",
    "\n",
    "**По каким параметрам данные должны группироваться:**\n",
    "\n",
    "- Дата и время;\n",
    "\n",
    "- Тема карточки;\n",
    "\n",
    "- Тема источника;\n",
    "\n",
    "- Возрастная группа;\n",
    "\n",
    "- Характер данных:\n",
    "\n",
    "История событий по темам карточек — абсолютные величины с разбивкой по минутам;\n",
    "\n",
    "Разбивка событий по темам источников — относительные величины (% событий);\n",
    "\n",
    "Соответствия тем источников темам карточек - абсолютные величины;\n",
    "\n",
    "**Важность:** все графики имеют равную важность;\n",
    "\n",
    "**Источники данных для дашборда:** дата-инженеры обещали подготовить для вас агрегирующую таблицу dash_visits. **Вот её структура:**\n",
    "\n",
    "- record_id — первичный ключ,\n",
    "\n",
    "- item_topic — тема карточки,\n",
    "\n",
    "- source_topic — тема источника,\n",
    "\n",
    "- age_segment — возрастной сегмент,\n",
    "\n",
    "- dt — дата и время,\n",
    "\n",
    "- visits — количество событий.\n",
    "\n",
    "\n",
    "**Макет дашборда:**\n",
    "\n",
    "![Макет дашборда](https://disk.yandex.ru/i/367cV_Ef8kA6Sg)\n",
    "\n",
    "Если фото не прогрузилось, макет можно посмотреть по ссылке: https://disk.yandex.ru/i/367cV_Ef8kA6Sg"
   ]
  },
  {
   "cell_type": "markdown",
   "id": "5be80859",
   "metadata": {},
   "source": [
    "**Приконнектимся к базе, где хранятся нужные данные**"
   ]
  },
  {
   "cell_type": "code",
   "execution_count": 1,
   "id": "bb900864",
   "metadata": {},
   "outputs": [],
   "source": [
    "import pandas as pd\n",
    "from sqlalchemy import create_engine\n",
    "\n",
    "db_config = {'user': 'praktikum_student',\n",
    "            'pwd': 'Sdf4$2;d-d30pp',\n",
    "            'host': 'rc1b-wcoijxj3yxfsf3fs.mdb.yandexcloud.net',\n",
    "            'port': 6432,\n",
    "            'db': 'data-analyst-zen-project-db'}\n",
    "\n",
    "connection_string = 'postgresql://{}:{}@{}:{}/{}'.format(db_config['user'],\n",
    "                                                db_config['pwd'],\n",
    "                                                db_config['host'],\n",
    "                                                db_config['port'],\n",
    "                                                db_config['db'])\n",
    "\n",
    "engine = create_engine(connection_string)\n",
    "\n",
    "query = ''' SELECT *\n",
    "            FROM dash_visits\n",
    "        '''\n",
    "dash_visits = pd.io.sql.read_sql(query, con = engine)"
   ]
  },
  {
   "cell_type": "markdown",
   "id": "cb98eddc",
   "metadata": {},
   "source": [
    "**Ознакомимся с данными**"
   ]
  },
  {
   "cell_type": "code",
   "execution_count": 2,
   "id": "8b8cc2f1",
   "metadata": {
    "scrolled": true
   },
   "outputs": [
    {
     "data": {
      "text/html": [
       "<div>\n",
       "<style scoped>\n",
       "    .dataframe tbody tr th:only-of-type {\n",
       "        vertical-align: middle;\n",
       "    }\n",
       "\n",
       "    .dataframe tbody tr th {\n",
       "        vertical-align: top;\n",
       "    }\n",
       "\n",
       "    .dataframe thead th {\n",
       "        text-align: right;\n",
       "    }\n",
       "</style>\n",
       "<table border=\"1\" class=\"dataframe\">\n",
       "  <thead>\n",
       "    <tr style=\"text-align: right;\">\n",
       "      <th></th>\n",
       "      <th>record_id</th>\n",
       "      <th>item_topic</th>\n",
       "      <th>source_topic</th>\n",
       "      <th>age_segment</th>\n",
       "      <th>dt</th>\n",
       "      <th>visits</th>\n",
       "    </tr>\n",
       "  </thead>\n",
       "  <tbody>\n",
       "    <tr>\n",
       "      <th>0</th>\n",
       "      <td>1040597</td>\n",
       "      <td>Деньги</td>\n",
       "      <td>Авто</td>\n",
       "      <td>18-25</td>\n",
       "      <td>2019-09-24 18:32:00</td>\n",
       "      <td>3</td>\n",
       "    </tr>\n",
       "    <tr>\n",
       "      <th>1</th>\n",
       "      <td>1040598</td>\n",
       "      <td>Деньги</td>\n",
       "      <td>Авто</td>\n",
       "      <td>18-25</td>\n",
       "      <td>2019-09-24 18:35:00</td>\n",
       "      <td>1</td>\n",
       "    </tr>\n",
       "    <tr>\n",
       "      <th>2</th>\n",
       "      <td>1040599</td>\n",
       "      <td>Деньги</td>\n",
       "      <td>Авто</td>\n",
       "      <td>18-25</td>\n",
       "      <td>2019-09-24 18:54:00</td>\n",
       "      <td>4</td>\n",
       "    </tr>\n",
       "    <tr>\n",
       "      <th>3</th>\n",
       "      <td>1040600</td>\n",
       "      <td>Деньги</td>\n",
       "      <td>Авто</td>\n",
       "      <td>18-25</td>\n",
       "      <td>2019-09-24 18:55:00</td>\n",
       "      <td>17</td>\n",
       "    </tr>\n",
       "    <tr>\n",
       "      <th>4</th>\n",
       "      <td>1040601</td>\n",
       "      <td>Деньги</td>\n",
       "      <td>Авто</td>\n",
       "      <td>18-25</td>\n",
       "      <td>2019-09-24 18:56:00</td>\n",
       "      <td>27</td>\n",
       "    </tr>\n",
       "  </tbody>\n",
       "</table>\n",
       "</div>"
      ],
      "text/plain": [
       "   record_id item_topic source_topic age_segment                  dt  visits\n",
       "0    1040597     Деньги         Авто       18-25 2019-09-24 18:32:00       3\n",
       "1    1040598     Деньги         Авто       18-25 2019-09-24 18:35:00       1\n",
       "2    1040599     Деньги         Авто       18-25 2019-09-24 18:54:00       4\n",
       "3    1040600     Деньги         Авто       18-25 2019-09-24 18:55:00      17\n",
       "4    1040601     Деньги         Авто       18-25 2019-09-24 18:56:00      27"
      ]
     },
     "execution_count": 2,
     "metadata": {},
     "output_type": "execute_result"
    }
   ],
   "source": [
    "dash_visits.head()"
   ]
  },
  {
   "cell_type": "code",
   "execution_count": 3,
   "id": "1bc11987",
   "metadata": {},
   "outputs": [
    {
     "name": "stdout",
     "output_type": "stream",
     "text": [
      "<class 'pandas.core.frame.DataFrame'>\n",
      "RangeIndex: 30745 entries, 0 to 30744\n",
      "Data columns (total 6 columns):\n",
      " #   Column        Non-Null Count  Dtype         \n",
      "---  ------        --------------  -----         \n",
      " 0   record_id     30745 non-null  int64         \n",
      " 1   item_topic    30745 non-null  object        \n",
      " 2   source_topic  30745 non-null  object        \n",
      " 3   age_segment   30745 non-null  object        \n",
      " 4   dt            30745 non-null  datetime64[ns]\n",
      " 5   visits        30745 non-null  int64         \n",
      "dtypes: datetime64[ns](1), int64(2), object(3)\n",
      "memory usage: 1.4+ MB\n"
     ]
    }
   ],
   "source": [
    "dash_visits.info()"
   ]
  },
  {
   "cell_type": "markdown",
   "id": "85cbb87f",
   "metadata": {},
   "source": [
    "**Посмотрим сколько есть тем карточек**"
   ]
  },
  {
   "cell_type": "code",
   "execution_count": 4,
   "id": "6ddfddb3",
   "metadata": {},
   "outputs": [
    {
     "data": {
      "text/plain": [
       "Отношения             1536\n",
       "Интересные факты      1535\n",
       "Наука                 1505\n",
       "Подборки              1456\n",
       "Полезные советы       1424\n",
       "Общество              1422\n",
       "Россия                1385\n",
       "История               1363\n",
       "Семья                 1287\n",
       "Путешествия           1247\n",
       "Деньги                1234\n",
       "Женщины               1230\n",
       "Дети                  1229\n",
       "Туризм                1206\n",
       "Здоровье              1203\n",
       "Красота               1193\n",
       "Культура              1160\n",
       "Юмор                  1129\n",
       "Искусство             1119\n",
       "Рассказы              1109\n",
       "Психология            1056\n",
       "Скандалы              1023\n",
       "Знаменитости           976\n",
       "Женская психология     914\n",
       "Шоу                    804\n",
       "Name: item_topic, dtype: int64"
      ]
     },
     "execution_count": 4,
     "metadata": {},
     "output_type": "execute_result"
    }
   ],
   "source": [
    "dash_visits['item_topic'].value_counts()"
   ]
  },
  {
   "cell_type": "markdown",
   "id": "2f45662b",
   "metadata": {},
   "source": [
    "**Посмотрим относительное количество тем карточек**"
   ]
  },
  {
   "cell_type": "code",
   "execution_count": 5,
   "id": "b328777e",
   "metadata": {},
   "outputs": [
    {
     "name": "stdout",
     "output_type": "stream",
     "text": [
      "Отношения              5.0%\n",
      "Интересные факты      4.99%\n",
      "Наука                  4.9%\n",
      "Подборки              4.74%\n",
      "Полезные советы       4.63%\n",
      "Общество              4.63%\n",
      "Россия                 4.5%\n",
      "История               4.43%\n",
      "Семья                 4.19%\n",
      "Путешествия           4.06%\n",
      "Деньги                4.01%\n",
      "Женщины                4.0%\n",
      "Дети                   4.0%\n",
      "Туризм                3.92%\n",
      "Здоровье              3.91%\n",
      "Красота               3.88%\n",
      "Культура              3.77%\n",
      "Юмор                  3.67%\n",
      "Искусство             3.64%\n",
      "Рассказы              3.61%\n",
      "Психология            3.43%\n",
      "Скандалы              3.33%\n",
      "Знаменитости          3.17%\n",
      "Женская психология    2.97%\n",
      "Шоу                   2.62%\n",
      "Name: item_topic, dtype: object\n"
     ]
    }
   ],
   "source": [
    "item_topic_counts = dash_visits['item_topic'].value_counts()\n",
    "\n",
    "total_items = item_topic_counts.sum()\n",
    "\n",
    "item_topic_percents = item_topic_counts / total_items * 100\n",
    "\n",
    "print(item_topic_percents.round(2).astype(str) + '%')"
   ]
  },
  {
   "cell_type": "markdown",
   "id": "e09af30d",
   "metadata": {},
   "source": [
    "**Посмотрим сколько есть тем источников**"
   ]
  },
  {
   "cell_type": "code",
   "execution_count": 6,
   "id": "990a2670",
   "metadata": {},
   "outputs": [
    {
     "data": {
      "text/plain": [
       "Семейные отношения    1822\n",
       "Россия                1687\n",
       "Знаменитости          1650\n",
       "Полезные советы       1578\n",
       "Путешествия           1563\n",
       "Кино                  1505\n",
       "Дети                  1459\n",
       "История               1437\n",
       "Семья                 1405\n",
       "Одежда                1379\n",
       "Здоровье              1243\n",
       "Искусство             1228\n",
       "Авто                  1077\n",
       "Психология            1055\n",
       "Сад и дача            1036\n",
       "Политика              1024\n",
       "Спорт                 1007\n",
       "Сделай сам             995\n",
       "Ремонт                 985\n",
       "Деньги                 973\n",
       "Еда                    912\n",
       "Интерьеры              809\n",
       "Строительство          758\n",
       "Музыка                 750\n",
       "Технологии             741\n",
       "Финансы                667\n",
       "Name: source_topic, dtype: int64"
      ]
     },
     "execution_count": 6,
     "metadata": {},
     "output_type": "execute_result"
    }
   ],
   "source": [
    "dash_visits['source_topic'].value_counts()"
   ]
  },
  {
   "cell_type": "markdown",
   "id": "4bef0b1c",
   "metadata": {},
   "source": [
    "**Посмотрим относительное количество тем источников**"
   ]
  },
  {
   "cell_type": "code",
   "execution_count": 7,
   "id": "dd5b6c50",
   "metadata": {},
   "outputs": [
    {
     "name": "stdout",
     "output_type": "stream",
     "text": [
      "Семейные отношения    5.93%\n",
      "Россия                5.49%\n",
      "Знаменитости          5.37%\n",
      "Полезные советы       5.13%\n",
      "Путешествия           5.08%\n",
      "Кино                   4.9%\n",
      "Дети                  4.75%\n",
      "История               4.67%\n",
      "Семья                 4.57%\n",
      "Одежда                4.49%\n",
      "Здоровье              4.04%\n",
      "Искусство             3.99%\n",
      "Авто                   3.5%\n",
      "Психология            3.43%\n",
      "Сад и дача            3.37%\n",
      "Политика              3.33%\n",
      "Спорт                 3.28%\n",
      "Сделай сам            3.24%\n",
      "Ремонт                 3.2%\n",
      "Деньги                3.16%\n",
      "Еда                   2.97%\n",
      "Интерьеры             2.63%\n",
      "Строительство         2.47%\n",
      "Музыка                2.44%\n",
      "Технологии            2.41%\n",
      "Финансы               2.17%\n",
      "Name: source_topic, dtype: object\n"
     ]
    }
   ],
   "source": [
    "total_sources = dash_visits['source_topic'].nunique()\n",
    "\n",
    "source_topic_counts = dash_visits['source_topic'].value_counts(normalize=True) * 100\n",
    "\n",
    "source_topic_counts = source_topic_counts.round(2)\n",
    "\n",
    "print(source_topic_counts.round(2).astype(str) + '%')"
   ]
  },
  {
   "cell_type": "markdown",
   "id": "fc284b24",
   "metadata": {},
   "source": [
    "**Посмотрим на возрастные группы**"
   ]
  },
  {
   "cell_type": "code",
   "execution_count": 8,
   "id": "cc5b2364",
   "metadata": {},
   "outputs": [
    {
     "data": {
      "text/plain": [
       "18-25    7056\n",
       "26-30    5875\n",
       "31-35    5552\n",
       "36-40    5105\n",
       "41-45    3903\n",
       "45+      3254\n",
       "Name: age_segment, dtype: int64"
      ]
     },
     "execution_count": 8,
     "metadata": {},
     "output_type": "execute_result"
    }
   ],
   "source": [
    "dash_visits['age_segment'].value_counts()"
   ]
  },
  {
   "cell_type": "markdown",
   "id": "d4b75532",
   "metadata": {},
   "source": [
    "**Проверим за какой период данные** "
   ]
  },
  {
   "cell_type": "code",
   "execution_count": 9,
   "id": "6ce08a06",
   "metadata": {},
   "outputs": [
    {
     "name": "stdout",
     "output_type": "stream",
     "text": [
      "Мин: 2019-09-24 18:28:00\n",
      "Макс: 2019-09-24 19:00:00\n"
     ]
    }
   ],
   "source": [
    "print('Мин:', dash_visits['dt'].min())\n",
    "print('Макс:',dash_visits['dt'].max())"
   ]
  },
  {
   "cell_type": "markdown",
   "id": "13946cb1",
   "metadata": {},
   "source": [
    "**Выгрузим данные**"
   ]
  },
  {
   "cell_type": "code",
   "execution_count": 10,
   "id": "c598d7fe",
   "metadata": {},
   "outputs": [],
   "source": [
    "dash_visits.to_csv('dash_visits.csv', index=False)"
   ]
  },
  {
   "cell_type": "markdown",
   "id": "8f111d4c",
   "metadata": {},
   "source": [
    "## Сылка на дашборд в Tableau: \n",
    "https://public.tableau.com/app/profile/kirill.naumenkov/viz/Yandex-Dzen_Naumenkov/-_1?publish=yes"
   ]
  },
  {
   "cell_type": "markdown",
   "id": "88509720",
   "metadata": {},
   "source": [
    "## Ссылка на презентацию на Яндекс Диск: \n",
    "https://disk.yandex.ru/i/8BBVC1sqi_BYMw"
   ]
  },
  {
   "cell_type": "code",
   "execution_count": null,
   "id": "454a8248",
   "metadata": {},
   "outputs": [],
   "source": []
  }
 ],
 "metadata": {
  "kernelspec": {
   "display_name": "Python 3 (ipykernel)",
   "language": "python",
   "name": "python3"
  },
  "language_info": {
   "codemirror_mode": {
    "name": "ipython",
    "version": 3
   },
   "file_extension": ".py",
   "mimetype": "text/x-python",
   "name": "python",
   "nbconvert_exporter": "python",
   "pygments_lexer": "ipython3",
   "version": "3.9.13"
  }
 },
 "nbformat": 4,
 "nbformat_minor": 5
}
